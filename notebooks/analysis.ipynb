{
 "cells": [
  {
   "cell_type": "code",
   "execution_count": 1,
   "id": "fb524f47-93a8-4a90-af2b-99a8408d5f9a",
   "metadata": {},
   "outputs": [
    {
     "name": "stdout",
     "output_type": "stream",
     "text": [
      "Setup successful!\n"
     ]
    }
   ],
   "source": [
    "print(\"Setup successful!\")\n"
   ]
  },
  {
   "cell_type": "code",
   "execution_count": 35,
   "id": "a831954f-1511-48e3-93f6-60fdd35b1cf1",
   "metadata": {},
   "outputs": [
    {
     "data": {
      "text/html": [
       "<div>\n",
       "<style scoped>\n",
       "    .dataframe tbody tr th:only-of-type {\n",
       "        vertical-align: middle;\n",
       "    }\n",
       "\n",
       "    .dataframe tbody tr th {\n",
       "        vertical-align: top;\n",
       "    }\n",
       "\n",
       "    .dataframe thead th {\n",
       "        text-align: right;\n",
       "    }\n",
       "</style>\n",
       "<table border=\"1\" class=\"dataframe\">\n",
       "  <thead>\n",
       "    <tr style=\"text-align: right;\">\n",
       "      <th></th>\n",
       "      <th>ID_REF</th>\n",
       "      <th>GSM1620819</th>\n",
       "      <th>GSM1620820</th>\n",
       "      <th>GSM1620821</th>\n",
       "      <th>GSM1620822</th>\n",
       "      <th>GSM1620823</th>\n",
       "      <th>GSM1620824</th>\n",
       "      <th>GSM1620825</th>\n",
       "      <th>GSM1620826</th>\n",
       "      <th>GSM1620827</th>\n",
       "      <th>...</th>\n",
       "      <th>GSM1620908</th>\n",
       "      <th>GSM1620909</th>\n",
       "      <th>GSM1620910</th>\n",
       "      <th>GSM1620911</th>\n",
       "      <th>GSM1620912</th>\n",
       "      <th>GSM1620913</th>\n",
       "      <th>GSM1620914</th>\n",
       "      <th>GSM1620915</th>\n",
       "      <th>GSM1620916</th>\n",
       "      <th>GSM1620917</th>\n",
       "    </tr>\n",
       "  </thead>\n",
       "  <tbody>\n",
       "    <tr>\n",
       "      <th>0</th>\n",
       "      <td>1007_s_at</td>\n",
       "      <td>5.866378</td>\n",
       "      <td>4.948736</td>\n",
       "      <td>5.148384</td>\n",
       "      <td>5.064419</td>\n",
       "      <td>5.017833</td>\n",
       "      <td>5.116154</td>\n",
       "      <td>5.431328</td>\n",
       "      <td>5.235271</td>\n",
       "      <td>5.773528</td>\n",
       "      <td>...</td>\n",
       "      <td>5.419482</td>\n",
       "      <td>5.057716</td>\n",
       "      <td>5.996493</td>\n",
       "      <td>5.343133</td>\n",
       "      <td>5.558892</td>\n",
       "      <td>6.472517</td>\n",
       "      <td>5.678816</td>\n",
       "      <td>5.653286</td>\n",
       "      <td>6.013841</td>\n",
       "      <td>5.465334</td>\n",
       "    </tr>\n",
       "    <tr>\n",
       "      <th>1</th>\n",
       "      <td>1053_at</td>\n",
       "      <td>8.225790</td>\n",
       "      <td>7.525865</td>\n",
       "      <td>7.764637</td>\n",
       "      <td>7.198461</td>\n",
       "      <td>7.831450</td>\n",
       "      <td>7.203592</td>\n",
       "      <td>7.694551</td>\n",
       "      <td>7.760259</td>\n",
       "      <td>8.279814</td>\n",
       "      <td>...</td>\n",
       "      <td>7.226348</td>\n",
       "      <td>7.105538</td>\n",
       "      <td>5.354105</td>\n",
       "      <td>8.271500</td>\n",
       "      <td>5.963346</td>\n",
       "      <td>8.261422</td>\n",
       "      <td>6.925753</td>\n",
       "      <td>7.918424</td>\n",
       "      <td>7.442701</td>\n",
       "      <td>9.225221</td>\n",
       "    </tr>\n",
       "    <tr>\n",
       "      <th>2</th>\n",
       "      <td>117_at</td>\n",
       "      <td>6.179732</td>\n",
       "      <td>6.628137</td>\n",
       "      <td>5.859151</td>\n",
       "      <td>5.974135</td>\n",
       "      <td>6.793079</td>\n",
       "      <td>6.435229</td>\n",
       "      <td>6.320546</td>\n",
       "      <td>6.483590</td>\n",
       "      <td>6.387779</td>\n",
       "      <td>...</td>\n",
       "      <td>6.789501</td>\n",
       "      <td>7.441940</td>\n",
       "      <td>7.026929</td>\n",
       "      <td>6.003973</td>\n",
       "      <td>7.474326</td>\n",
       "      <td>6.367759</td>\n",
       "      <td>6.835756</td>\n",
       "      <td>7.577035</td>\n",
       "      <td>7.147417</td>\n",
       "      <td>6.481128</td>\n",
       "    </tr>\n",
       "    <tr>\n",
       "      <th>3</th>\n",
       "      <td>121_at</td>\n",
       "      <td>6.179478</td>\n",
       "      <td>6.582889</td>\n",
       "      <td>6.602135</td>\n",
       "      <td>6.545905</td>\n",
       "      <td>5.911542</td>\n",
       "      <td>6.285420</td>\n",
       "      <td>6.562316</td>\n",
       "      <td>6.345888</td>\n",
       "      <td>6.272806</td>\n",
       "      <td>...</td>\n",
       "      <td>6.513437</td>\n",
       "      <td>6.317523</td>\n",
       "      <td>7.413453</td>\n",
       "      <td>6.809103</td>\n",
       "      <td>5.949091</td>\n",
       "      <td>6.440978</td>\n",
       "      <td>6.955883</td>\n",
       "      <td>6.499215</td>\n",
       "      <td>6.587065</td>\n",
       "      <td>6.897591</td>\n",
       "    </tr>\n",
       "    <tr>\n",
       "      <th>4</th>\n",
       "      <td>1255_g_at</td>\n",
       "      <td>2.792048</td>\n",
       "      <td>2.695714</td>\n",
       "      <td>2.580181</td>\n",
       "      <td>2.712124</td>\n",
       "      <td>2.723687</td>\n",
       "      <td>2.706684</td>\n",
       "      <td>2.674747</td>\n",
       "      <td>2.635150</td>\n",
       "      <td>2.696649</td>\n",
       "      <td>...</td>\n",
       "      <td>2.924658</td>\n",
       "      <td>2.714103</td>\n",
       "      <td>3.635945</td>\n",
       "      <td>2.710944</td>\n",
       "      <td>2.979381</td>\n",
       "      <td>3.730139</td>\n",
       "      <td>2.914868</td>\n",
       "      <td>3.013901</td>\n",
       "      <td>2.729320</td>\n",
       "      <td>3.151449</td>\n",
       "    </tr>\n",
       "  </tbody>\n",
       "</table>\n",
       "<p>5 rows × 100 columns</p>\n",
       "</div>"
      ],
      "text/plain": [
       "      ID_REF  GSM1620819  GSM1620820  GSM1620821  GSM1620822  GSM1620823  \\\n",
       "0  1007_s_at    5.866378    4.948736    5.148384    5.064419    5.017833   \n",
       "1    1053_at    8.225790    7.525865    7.764637    7.198461    7.831450   \n",
       "2     117_at    6.179732    6.628137    5.859151    5.974135    6.793079   \n",
       "3     121_at    6.179478    6.582889    6.602135    6.545905    5.911542   \n",
       "4  1255_g_at    2.792048    2.695714    2.580181    2.712124    2.723687   \n",
       "\n",
       "   GSM1620824  GSM1620825  GSM1620826  GSM1620827  ...  GSM1620908  \\\n",
       "0    5.116154    5.431328    5.235271    5.773528  ...    5.419482   \n",
       "1    7.203592    7.694551    7.760259    8.279814  ...    7.226348   \n",
       "2    6.435229    6.320546    6.483590    6.387779  ...    6.789501   \n",
       "3    6.285420    6.562316    6.345888    6.272806  ...    6.513437   \n",
       "4    2.706684    2.674747    2.635150    2.696649  ...    2.924658   \n",
       "\n",
       "   GSM1620909  GSM1620910  GSM1620911  GSM1620912  GSM1620913  GSM1620914  \\\n",
       "0    5.057716    5.996493    5.343133    5.558892    6.472517    5.678816   \n",
       "1    7.105538    5.354105    8.271500    5.963346    8.261422    6.925753   \n",
       "2    7.441940    7.026929    6.003973    7.474326    6.367759    6.835756   \n",
       "3    6.317523    7.413453    6.809103    5.949091    6.440978    6.955883   \n",
       "4    2.714103    3.635945    2.710944    2.979381    3.730139    2.914868   \n",
       "\n",
       "   GSM1620915  GSM1620916  GSM1620917  \n",
       "0    5.653286    6.013841    5.465334  \n",
       "1    7.918424    7.442701    9.225221  \n",
       "2    7.577035    7.147417    6.481128  \n",
       "3    6.499215    6.587065    6.897591  \n",
       "4    3.013901    2.729320    3.151449  \n",
       "\n",
       "[5 rows x 100 columns]"
      ]
     },
     "execution_count": 35,
     "metadata": {},
     "output_type": "execute_result"
    }
   ],
   "source": [
    "import pandas as pd\n",
    "\n",
    "# Load the gene expression dataset\n",
    "df = pd.read_csv(\"GSE66360_series_matrix.txt.gz\", sep='\\t', comment='!')\n",
    "\n",
    "# Preview the top rows\n",
    "df.head()\n",
    "\n"
   ]
  },
  {
   "cell_type": "code",
   "execution_count": 36,
   "id": "6a12f4e5-55a7-4fac-9d2a-91f66be3d9ef",
   "metadata": {},
   "outputs": [
    {
     "name": "stdout",
     "output_type": "stream",
     "text": [
      "(54675, 100)\n",
      "Index(['ID_REF', 'GSM1620819', 'GSM1620820', 'GSM1620821', 'GSM1620822',\n",
      "       'GSM1620823', 'GSM1620824', 'GSM1620825', 'GSM1620826', 'GSM1620827'],\n",
      "      dtype='object')\n"
     ]
    }
   ],
   "source": [
    "print(df.shape)\n",
    "print(df.columns[:10])  # Show first 10 column names\n"
   ]
  },
  {
   "cell_type": "code",
   "execution_count": 37,
   "id": "c11b039f-ab1c-4c19-8566-100841f93694",
   "metadata": {},
   "outputs": [
    {
     "ename": "ValueError",
     "evalue": "All arrays must be of the same length",
     "output_type": "error",
     "traceback": [
      "\u001b[31m------------------------------------------------------------------------\u001b[39m",
      "\u001b[31mValueError\u001b[39m                             Traceback (most recent call last)",
      "\u001b[36mCell\u001b[39m\u001b[36m \u001b[39m\u001b[32mIn[37]\u001b[39m\u001b[32m, line 9\u001b[39m\n\u001b[32m      7\u001b[39m labels = [x.split(\u001b[33m'\u001b[39m\u001b[33m = \u001b[39m\u001b[33m'\u001b[39m)[-\u001b[32m1\u001b[39m] \u001b[38;5;28;01mfor\u001b[39;00m x \u001b[38;5;129;01min\u001b[39;00m sample_info]\n\u001b[32m      8\u001b[39m sample_ids = df.columns[\u001b[32m1\u001b[39m:].tolist()  \u001b[38;5;66;03m# exclude 'ID_REF'\u001b[39;00m\n\u001b[32m----> \u001b[39m\u001b[32m9\u001b[39m labels_df = \u001b[43mpd\u001b[49m\u001b[43m.\u001b[49m\u001b[43mDataFrame\u001b[49m\u001b[43m(\u001b[49m\u001b[43m{\u001b[49m\u001b[33;43m'\u001b[39;49m\u001b[33;43mSampleID\u001b[39;49m\u001b[33;43m'\u001b[39;49m\u001b[43m:\u001b[49m\u001b[43m \u001b[49m\u001b[43msample_ids\u001b[49m\u001b[43m,\u001b[49m\u001b[43m \u001b[49m\u001b[33;43m'\u001b[39;49m\u001b[33;43mDiagnosis\u001b[39;49m\u001b[33;43m'\u001b[39;49m\u001b[43m:\u001b[49m\u001b[43m \u001b[49m\u001b[43mlabels\u001b[49m\u001b[43m}\u001b[49m\u001b[43m)\u001b[49m\n\u001b[32m     11\u001b[39m labels_df.head()\n",
      "\u001b[36mFile \u001b[39m\u001b[32m~\\miniconda3\\envs\\bioinfo_proj\\Lib\\site-packages\\pandas\\core\\frame.py:778\u001b[39m, in \u001b[36mDataFrame.__init__\u001b[39m\u001b[34m(self, data, index, columns, dtype, copy)\u001b[39m\n\u001b[32m    772\u001b[39m     mgr = \u001b[38;5;28mself\u001b[39m._init_mgr(\n\u001b[32m    773\u001b[39m         data, axes={\u001b[33m\"\u001b[39m\u001b[33mindex\u001b[39m\u001b[33m\"\u001b[39m: index, \u001b[33m\"\u001b[39m\u001b[33mcolumns\u001b[39m\u001b[33m\"\u001b[39m: columns}, dtype=dtype, copy=copy\n\u001b[32m    774\u001b[39m     )\n\u001b[32m    776\u001b[39m \u001b[38;5;28;01melif\u001b[39;00m \u001b[38;5;28misinstance\u001b[39m(data, \u001b[38;5;28mdict\u001b[39m):\n\u001b[32m    777\u001b[39m     \u001b[38;5;66;03m# GH#38939 de facto copy defaults to False only in non-dict cases\u001b[39;00m\n\u001b[32m--> \u001b[39m\u001b[32m778\u001b[39m     mgr = \u001b[43mdict_to_mgr\u001b[49m\u001b[43m(\u001b[49m\u001b[43mdata\u001b[49m\u001b[43m,\u001b[49m\u001b[43m \u001b[49m\u001b[43mindex\u001b[49m\u001b[43m,\u001b[49m\u001b[43m \u001b[49m\u001b[43mcolumns\u001b[49m\u001b[43m,\u001b[49m\u001b[43m \u001b[49m\u001b[43mdtype\u001b[49m\u001b[43m=\u001b[49m\u001b[43mdtype\u001b[49m\u001b[43m,\u001b[49m\u001b[43m \u001b[49m\u001b[43mcopy\u001b[49m\u001b[43m=\u001b[49m\u001b[43mcopy\u001b[49m\u001b[43m,\u001b[49m\u001b[43m \u001b[49m\u001b[43mtyp\u001b[49m\u001b[43m=\u001b[49m\u001b[43mmanager\u001b[49m\u001b[43m)\u001b[49m\n\u001b[32m    779\u001b[39m \u001b[38;5;28;01melif\u001b[39;00m \u001b[38;5;28misinstance\u001b[39m(data, ma.MaskedArray):\n\u001b[32m    780\u001b[39m     \u001b[38;5;28;01mfrom\u001b[39;00m\u001b[38;5;250m \u001b[39m\u001b[34;01mnumpy\u001b[39;00m\u001b[34;01m.\u001b[39;00m\u001b[34;01mma\u001b[39;00m\u001b[38;5;250m \u001b[39m\u001b[38;5;28;01mimport\u001b[39;00m mrecords\n",
      "\u001b[36mFile \u001b[39m\u001b[32m~\\miniconda3\\envs\\bioinfo_proj\\Lib\\site-packages\\pandas\\core\\internals\\construction.py:503\u001b[39m, in \u001b[36mdict_to_mgr\u001b[39m\u001b[34m(data, index, columns, dtype, typ, copy)\u001b[39m\n\u001b[32m    499\u001b[39m     \u001b[38;5;28;01melse\u001b[39;00m:\n\u001b[32m    500\u001b[39m         \u001b[38;5;66;03m# dtype check to exclude e.g. range objects, scalars\u001b[39;00m\n\u001b[32m    501\u001b[39m         arrays = [x.copy() \u001b[38;5;28;01mif\u001b[39;00m \u001b[38;5;28mhasattr\u001b[39m(x, \u001b[33m\"\u001b[39m\u001b[33mdtype\u001b[39m\u001b[33m\"\u001b[39m) \u001b[38;5;28;01melse\u001b[39;00m x \u001b[38;5;28;01mfor\u001b[39;00m x \u001b[38;5;129;01min\u001b[39;00m arrays]\n\u001b[32m--> \u001b[39m\u001b[32m503\u001b[39m \u001b[38;5;28;01mreturn\u001b[39;00m \u001b[43marrays_to_mgr\u001b[49m\u001b[43m(\u001b[49m\u001b[43marrays\u001b[49m\u001b[43m,\u001b[49m\u001b[43m \u001b[49m\u001b[43mcolumns\u001b[49m\u001b[43m,\u001b[49m\u001b[43m \u001b[49m\u001b[43mindex\u001b[49m\u001b[43m,\u001b[49m\u001b[43m \u001b[49m\u001b[43mdtype\u001b[49m\u001b[43m=\u001b[49m\u001b[43mdtype\u001b[49m\u001b[43m,\u001b[49m\u001b[43m \u001b[49m\u001b[43mtyp\u001b[49m\u001b[43m=\u001b[49m\u001b[43mtyp\u001b[49m\u001b[43m,\u001b[49m\u001b[43m \u001b[49m\u001b[43mconsolidate\u001b[49m\u001b[43m=\u001b[49m\u001b[43mcopy\u001b[49m\u001b[43m)\u001b[49m\n",
      "\u001b[36mFile \u001b[39m\u001b[32m~\\miniconda3\\envs\\bioinfo_proj\\Lib\\site-packages\\pandas\\core\\internals\\construction.py:114\u001b[39m, in \u001b[36marrays_to_mgr\u001b[39m\u001b[34m(arrays, columns, index, dtype, verify_integrity, typ, consolidate)\u001b[39m\n\u001b[32m    111\u001b[39m \u001b[38;5;28;01mif\u001b[39;00m verify_integrity:\n\u001b[32m    112\u001b[39m     \u001b[38;5;66;03m# figure out the index, if necessary\u001b[39;00m\n\u001b[32m    113\u001b[39m     \u001b[38;5;28;01mif\u001b[39;00m index \u001b[38;5;129;01mis\u001b[39;00m \u001b[38;5;28;01mNone\u001b[39;00m:\n\u001b[32m--> \u001b[39m\u001b[32m114\u001b[39m         index = \u001b[43m_extract_index\u001b[49m\u001b[43m(\u001b[49m\u001b[43marrays\u001b[49m\u001b[43m)\u001b[49m\n\u001b[32m    115\u001b[39m     \u001b[38;5;28;01melse\u001b[39;00m:\n\u001b[32m    116\u001b[39m         index = ensure_index(index)\n",
      "\u001b[36mFile \u001b[39m\u001b[32m~\\miniconda3\\envs\\bioinfo_proj\\Lib\\site-packages\\pandas\\core\\internals\\construction.py:677\u001b[39m, in \u001b[36m_extract_index\u001b[39m\u001b[34m(data)\u001b[39m\n\u001b[32m    675\u001b[39m lengths = \u001b[38;5;28mlist\u001b[39m(\u001b[38;5;28mset\u001b[39m(raw_lengths))\n\u001b[32m    676\u001b[39m \u001b[38;5;28;01mif\u001b[39;00m \u001b[38;5;28mlen\u001b[39m(lengths) > \u001b[32m1\u001b[39m:\n\u001b[32m--> \u001b[39m\u001b[32m677\u001b[39m     \u001b[38;5;28;01mraise\u001b[39;00m \u001b[38;5;167;01mValueError\u001b[39;00m(\u001b[33m\"\u001b[39m\u001b[33mAll arrays must be of the same length\u001b[39m\u001b[33m\"\u001b[39m)\n\u001b[32m    679\u001b[39m \u001b[38;5;28;01mif\u001b[39;00m have_dicts:\n\u001b[32m    680\u001b[39m     \u001b[38;5;28;01mraise\u001b[39;00m \u001b[38;5;167;01mValueError\u001b[39;00m(\n\u001b[32m    681\u001b[39m         \u001b[33m\"\u001b[39m\u001b[33mMixing dicts with non-Series may lead to ambiguous ordering.\u001b[39m\u001b[33m\"\u001b[39m\n\u001b[32m    682\u001b[39m     )\n",
      "\u001b[31mValueError\u001b[39m: All arrays must be of the same length"
     ]
    }
   ],
   "source": [
    "import gzip\n",
    "\n",
    "with gzip.open(\"GSE66360_series_matrix.txt.gz\", 'rt', encoding='utf-8') as f:\n",
    "    lines = f.readlines()\n",
    "\n",
    "sample_info = [line.strip() for line in lines if line.startswith('!Sample_characteristics_ch1')]\n",
    "labels = [x.split(' = ')[-1] for x in sample_info]\n",
    "sample_ids = df.columns[1:].tolist()  # exclude 'ID_REF'\n",
    "labels_df = pd.DataFrame({'SampleID': sample_ids, 'Diagnosis': labels})\n",
    "\n",
    "labels_df.head()\n",
    "\n"
   ]
  },
  {
   "cell_type": "code",
   "execution_count": 7,
   "id": "08aae912-e7eb-434e-b984-379b9702a263",
   "metadata": {},
   "outputs": [
    {
     "name": "stdout",
     "output_type": "stream",
     "text": [
      "Number of sample IDs: 99\n",
      "Number of labels: 3\n"
     ]
    }
   ],
   "source": [
    "print(\"Number of sample IDs:\", len(sample_ids))\n",
    "print(\"Number of labels:\", len(labels))\n"
   ]
  },
  {
   "cell_type": "code",
   "execution_count": 8,
   "id": "0682bfb3-cb34-4525-a3c4-890c45ce43ca",
   "metadata": {},
   "outputs": [
    {
     "name": "stdout",
     "output_type": "stream",
     "text": [
      "Sample IDs: ['GSM1620819', 'GSM1620820', 'GSM1620821', 'GSM1620822', 'GSM1620823', 'GSM1620824', 'GSM1620825', 'GSM1620826', 'GSM1620827', 'GSM1620828']\n",
      "Labels: ['!Sample_characteristics_ch1\\t\"disease_status: Control\"\\t\"disease_status: Control\"\\t\"disease_status: Control\"\\t\"disease_status: Control\"\\t\"disease_status: Control\"\\t\"disease_status: Control\"\\t\"disease_status: Control\"\\t\"disease_status: Control\"\\t\"disease_status: Control\"\\t\"disease_status: Control\"\\t\"disease_status: Control\"\\t\"disease_status: Control\"\\t\"disease_status: Control\"\\t\"disease_status: Myocardial Infarction\"\\t\"disease_status: Myocardial Infarction\"\\t\"disease_status: Myocardial Infarction\"\\t\"disease_status: Myocardial Infarction\"\\t\"disease_status: Myocardial Infarction\"\\t\"disease_status: Myocardial Infarction\"\\t\"disease_status: Myocardial Infarction\"\\t\"disease_status: Myocardial Infarction\"\\t\"disease_status: Myocardial Infarction\"\\t\"disease_status: Myocardial Infarction\"\\t\"disease_status: Myocardial Infarction\"\\t\"disease_status: Myocardial Infarction\"\\t\"disease_status: Myocardial Infarction\"\\t\"disease_status: Myocardial Infarction\"\\t\"disease_status: Myocardial Infarction\"\\t\"disease_status: Myocardial Infarction\"\\t\"disease_status: Myocardial Infarction\"\\t\"disease_status: Myocardial Infarction\"\\t\"disease_status: Myocardial Infarction\"\\t\"disease_status: Myocardial Infarction\"\\t\"disease_status: Myocardial Infarction\"\\t\"disease_status: Control\"\\t\"disease_status: Control\"\\t\"disease_status: Control\"\\t\"disease_status: Control\"\\t\"disease_status: Control\"\\t\"disease_status: Control\"\\t\"disease_status: Control\"\\t\"disease_status: Control\"\\t\"disease_status: Control\"\\t\"disease_status: Control\"\\t\"disease_status: Control\"\\t\"disease_status: Control\"\\t\"disease_status: Control\"\\t\"disease_status: Control\"\\t\"disease_status: Control\"\\t\"disease_status: Control\"\\t\"disease_status: Control\"\\t\"disease_status: Control\"\\t\"disease_status: Control\"\\t\"disease_status: Control\"\\t\"disease_status: Control\"\\t\"disease_status: Control\"\\t\"disease_status: Control\"\\t\"disease_status: Control\"\\t\"disease_status: Myocardial Infarction\"\\t\"disease_status: Myocardial Infarction\"\\t\"disease_status: Myocardial Infarction\"\\t\"disease_status: Myocardial Infarction\"\\t\"disease_status: Myocardial Infarction\"\\t\"disease_status: Myocardial Infarction\"\\t\"disease_status: Myocardial Infarction\"\\t\"disease_status: Myocardial Infarction\"\\t\"disease_status: Myocardial Infarction\"\\t\"disease_status: Myocardial Infarction\"\\t\"disease_status: Myocardial Infarction\"\\t\"disease_status: Myocardial Infarction\"\\t\"disease_status: Myocardial Infarction\"\\t\"disease_status: Myocardial Infarction\"\\t\"disease_status: Myocardial Infarction\"\\t\"disease_status: Control\"\\t\"disease_status: Control\"\\t\"disease_status: Control\"\\t\"disease_status: Control\"\\t\"disease_status: Control\"\\t\"disease_status: Control\"\\t\"disease_status: Control\"\\t\"disease_status: Control\"\\t\"disease_status: Control\"\\t\"disease_status: Control\"\\t\"disease_status: Control\"\\t\"disease_status: Control\"\\t\"disease_status: Control\"\\t\"disease_status: Myocardial Infarction\"\\t\"disease_status: Myocardial Infarction\"\\t\"disease_status: Myocardial Infarction\"\\t\"disease_status: Myocardial Infarction\"\\t\"disease_status: Myocardial Infarction\"\\t\"disease_status: Myocardial Infarction\"\\t\"disease_status: Myocardial Infarction\"\\t\"disease_status: Myocardial Infarction\"\\t\"disease_status: Myocardial Infarction\"\\t\"disease_status: Myocardial Infarction\"\\t\"disease_status: Myocardial Infarction\"\\t\"disease_status: Myocardial Infarction\"\\t\"disease_status: Myocardial Infarction\"', '!Sample_characteristics_ch1\\t\"cohort: DISCOVERY\"\\t\"cohort: DISCOVERY\"\\t\"cohort: DISCOVERY\"\\t\"cohort: DISCOVERY\"\\t\"cohort: DISCOVERY\"\\t\"cohort: DISCOVERY\"\\t\"cohort: DISCOVERY\"\\t\"cohort: DISCOVERY\"\\t\"cohort: DISCOVERY\"\\t\"cohort: DISCOVERY\"\\t\"cohort: DISCOVERY\"\\t\"cohort: DISCOVERY\"\\t\"cohort: DISCOVERY\"\\t\"cohort: DISCOVERY\"\\t\"cohort: DISCOVERY\"\\t\"cohort: DISCOVERY\"\\t\"cohort: DISCOVERY\"\\t\"cohort: DISCOVERY\"\\t\"cohort: DISCOVERY\"\\t\"cohort: DISCOVERY\"\\t\"cohort: DISCOVERY\"\\t\"cohort: DISCOVERY\"\\t\"cohort: DISCOVERY\"\\t\"cohort: DISCOVERY\"\\t\"cohort: DISCOVERY\"\\t\"cohort: DISCOVERY\"\\t\"cohort: DISCOVERY\"\\t\"cohort: DISCOVERY\"\\t\"cohort: DISCOVERY\"\\t\"cohort: DISCOVERY\"\\t\"cohort: DISCOVERY\"\\t\"cohort: DISCOVERY\"\\t\"cohort: DISCOVERY\"\\t\"cohort: DISCOVERY\"\\t\"cohort: DISCOVERY\"\\t\"cohort: DISCOVERY\"\\t\"cohort: DISCOVERY\"\\t\"cohort: DISCOVERY\"\\t\"cohort: DISCOVERY\"\\t\"cohort: DISCOVERY\"\\t\"cohort: DISCOVERY\"\\t\"cohort: DISCOVERY\"\\t\"cohort: DISCOVERY\"\\t\"cohort: VALIDATION\"\\t\"cohort: VALIDATION\"\\t\"cohort: VALIDATION\"\\t\"cohort: VALIDATION\"\\t\"cohort: VALIDATION\"\\t\"cohort: VALIDATION\"\\t\"cohort: VALIDATION\"\\t\"cohort: VALIDATION\"\\t\"cohort: VALIDATION\"\\t\"cohort: VALIDATION\"\\t\"cohort: VALIDATION\"\\t\"cohort: VALIDATION\"\\t\"cohort: VALIDATION\"\\t\"cohort: VALIDATION\"\\t\"cohort: VALIDATION\"\\t\"cohort: VALIDATION\"\\t\"cohort: VALIDATION\"\\t\"cohort: VALIDATION\"\\t\"cohort: VALIDATION\"\\t\"cohort: VALIDATION\"\\t\"cohort: VALIDATION\"\\t\"cohort: VALIDATION\"\\t\"cohort: VALIDATION\"\\t\"cohort: VALIDATION\"\\t\"cohort: VALIDATION\"\\t\"cohort: VALIDATION\"\\t\"cohort: VALIDATION\"\\t\"cohort: VALIDATION\"\\t\"cohort: VALIDATION\"\\t\"cohort: VALIDATION\"\\t\"cohort: VALIDATION\"\\t\"cohort: VALIDATION\"\\t\"cohort: VALIDATION\"\\t\"cohort: VALIDATION\"\\t\"cohort: VALIDATION\"\\t\"cohort: VALIDATION\"\\t\"cohort: VALIDATION\"\\t\"cohort: VALIDATION\"\\t\"cohort: VALIDATION\"\\t\"cohort: VALIDATION\"\\t\"cohort: VALIDATION\"\\t\"cohort: VALIDATION\"\\t\"cohort: VALIDATION\"\\t\"cohort: VALIDATION\"\\t\"cohort: VALIDATION\"\\t\"cohort: VALIDATION\"\\t\"cohort: VALIDATION\"\\t\"cohort: VALIDATION\"\\t\"cohort: VALIDATION\"\\t\"cohort: VALIDATION\"\\t\"cohort: VALIDATION\"\\t\"cohort: VALIDATION\"\\t\"cohort: VALIDATION\"\\t\"cohort: VALIDATION\"\\t\"cohort: VALIDATION\"\\t\"cohort: VALIDATION\"', '!Sample_characteristics_ch1\\t\"cell type: CD146+ Circulating Endothelial Cells\"\\t\"cell type: CD146+ Circulating Endothelial Cells\"\\t\"cell type: CD146+ Circulating Endothelial Cells\"\\t\"cell type: CD146+ Circulating Endothelial Cells\"\\t\"cell type: CD146+ Circulating Endothelial Cells\"\\t\"cell type: CD146+ Circulating Endothelial Cells\"\\t\"cell type: CD146+ Circulating Endothelial Cells\"\\t\"cell type: CD146+ Circulating Endothelial Cells\"\\t\"cell type: CD146+ Circulating Endothelial Cells\"\\t\"cell type: CD146+ Circulating Endothelial Cells\"\\t\"cell type: CD146+ Circulating Endothelial Cells\"\\t\"cell type: CD146+ Circulating Endothelial Cells\"\\t\"cell type: CD146+ Circulating Endothelial Cells\"\\t\"cell type: CD146+ Circulating Endothelial Cells\"\\t\"cell type: CD146+ Circulating Endothelial Cells\"\\t\"cell type: CD146+ Circulating Endothelial Cells\"\\t\"cell type: CD146+ Circulating Endothelial Cells\"\\t\"cell type: CD146+ Circulating Endothelial Cells\"\\t\"cell type: CD146+ Circulating Endothelial Cells\"\\t\"cell type: CD146+ Circulating Endothelial Cells\"\\t\"cell type: CD146+ Circulating Endothelial Cells\"\\t\"cell type: CD146+ Circulating Endothelial Cells\"\\t\"cell type: CD146+ Circulating Endothelial Cells\"\\t\"cell type: CD146+ Circulating Endothelial Cells\"\\t\"cell type: CD146+ Circulating Endothelial Cells\"\\t\"cell type: CD146+ Circulating Endothelial Cells\"\\t\"cell type: CD146+ Circulating Endothelial Cells\"\\t\"cell type: CD146+ Circulating Endothelial Cells\"\\t\"cell type: CD146+ Circulating Endothelial Cells\"\\t\"cell type: CD146+ Circulating Endothelial Cells\"\\t\"cell type: CD146+ Circulating Endothelial Cells\"\\t\"cell type: CD146+ Circulating Endothelial Cells\"\\t\"cell type: CD146+ Circulating Endothelial Cells\"\\t\"cell type: CD146+ Circulating Endothelial Cells\"\\t\"cell type: CD146+ Circulating Endothelial Cells\"\\t\"cell type: CD146+ Circulating Endothelial Cells\"\\t\"cell type: CD146+ Circulating Endothelial Cells\"\\t\"cell type: CD146+ Circulating Endothelial Cells\"\\t\"cell type: CD146+ Circulating Endothelial Cells\"\\t\"cell type: CD146+ Circulating Endothelial Cells\"\\t\"cell type: CD146+ Circulating Endothelial Cells\"\\t\"cell type: CD146+ Circulating Endothelial Cells\"\\t\"cell type: CD146+ Circulating Endothelial Cells\"\\t\"cell type: CD146+ Circulating Endothelial Cells\"\\t\"cell type: CD146+ Circulating Endothelial Cells\"\\t\"cell type: CD146+ Circulating Endothelial Cells\"\\t\"cell type: CD146+ Circulating Endothelial Cells\"\\t\"cell type: CD146+ Circulating Endothelial Cells\"\\t\"cell type: CD146+ Circulating Endothelial Cells\"\\t\"cell type: CD146+ Circulating Endothelial Cells\"\\t\"cell type: CD146+ Circulating Endothelial Cells\"\\t\"cell type: CD146+ Circulating Endothelial Cells\"\\t\"cell type: CD146+ Circulating Endothelial Cells\"\\t\"cell type: CD146+ Circulating Endothelial Cells\"\\t\"cell type: CD146+ Circulating Endothelial Cells\"\\t\"cell type: CD146+ Circulating Endothelial Cells\"\\t\"cell type: CD146+ Circulating Endothelial Cells\"\\t\"cell type: CD146+ Circulating Endothelial Cells\"\\t\"cell type: CD146+ Circulating Endothelial Cells\"\\t\"cell type: CD146+ Circulating Endothelial Cells\"\\t\"cell type: CD146+ Circulating Endothelial Cells\"\\t\"cell type: CD146+ Circulating Endothelial Cells\"\\t\"cell type: CD146+ Circulating Endothelial Cells\"\\t\"cell type: CD146+ Circulating Endothelial Cells\"\\t\"cell type: CD146+ Circulating Endothelial Cells\"\\t\"cell type: CD146+ Circulating Endothelial Cells\"\\t\"cell type: CD146+ Circulating Endothelial Cells\"\\t\"cell type: CD146+ Circulating Endothelial Cells\"\\t\"cell type: CD146+ Circulating Endothelial Cells\"\\t\"cell type: CD146+ Circulating Endothelial Cells\"\\t\"cell type: CD146+ Circulating Endothelial Cells\"\\t\"cell type: CD146+ Circulating Endothelial Cells\"\\t\"cell type: CD146+ Circulating Endothelial Cells\"\\t\"cell type: CD146+ Circulating Endothelial Cells\"\\t\"cell type: CD146+ Circulating Endothelial Cells\"\\t\"cell type: CD146+ Circulating Endothelial Cells\"\\t\"cell type: CD146+ Circulating Endothelial Cells\"\\t\"cell type: CD146+ Circulating Endothelial Cells\"\\t\"cell type: CD146+ Circulating Endothelial Cells\"\\t\"cell type: CD146+ Circulating Endothelial Cells\"\\t\"cell type: CD146+ Circulating Endothelial Cells\"\\t\"cell type: CD146+ Circulating Endothelial Cells\"\\t\"cell type: CD146+ Circulating Endothelial Cells\"\\t\"cell type: CD146+ Circulating Endothelial Cells\"\\t\"cell type: CD146+ Circulating Endothelial Cells\"\\t\"cell type: CD146+ Circulating Endothelial Cells\"\\t\"cell type: CD146+ Circulating Endothelial Cells\"\\t\"cell type: CD146+ Circulating Endothelial Cells\"\\t\"cell type: CD146+ Circulating Endothelial Cells\"\\t\"cell type: CD146+ Circulating Endothelial Cells\"\\t\"cell type: CD146+ Circulating Endothelial Cells\"\\t\"cell type: CD146+ Circulating Endothelial Cells\"\\t\"cell type: CD146+ Circulating Endothelial Cells\"\\t\"cell type: CD146+ Circulating Endothelial Cells\"\\t\"cell type: CD146+ Circulating Endothelial Cells\"\\t\"cell type: CD146+ Circulating Endothelial Cells\"\\t\"cell type: CD146+ Circulating Endothelial Cells\"\\t\"cell type: CD146+ Circulating Endothelial Cells\"\\t\"cell type: CD146+ Circulating Endothelial Cells\"']\n"
     ]
    }
   ],
   "source": [
    "print(\"Sample IDs:\", sample_ids[:10])\n",
    "print(\"Labels:\", labels[:10])\n"
   ]
  },
  {
   "cell_type": "code",
   "execution_count": 38,
   "id": "2b01c406-d847-49f4-b4b1-ecfd7ff66e54",
   "metadata": {},
   "outputs": [
    {
     "data": {
      "text/html": [
       "<div>\n",
       "<style scoped>\n",
       "    .dataframe tbody tr th:only-of-type {\n",
       "        vertical-align: middle;\n",
       "    }\n",
       "\n",
       "    .dataframe tbody tr th {\n",
       "        vertical-align: top;\n",
       "    }\n",
       "\n",
       "    .dataframe thead th {\n",
       "        text-align: right;\n",
       "    }\n",
       "</style>\n",
       "<table border=\"1\" class=\"dataframe\">\n",
       "  <thead>\n",
       "    <tr style=\"text-align: right;\">\n",
       "      <th></th>\n",
       "      <th>SampleID</th>\n",
       "      <th>Diagnosis</th>\n",
       "    </tr>\n",
       "  </thead>\n",
       "  <tbody>\n",
       "    <tr>\n",
       "      <th>0</th>\n",
       "      <td>GSM1620819</td>\n",
       "      <td>!Sample_characteristics_ch1\\t\"disease_status: ...</td>\n",
       "    </tr>\n",
       "    <tr>\n",
       "      <th>1</th>\n",
       "      <td>GSM1620820</td>\n",
       "      <td>!Sample_characteristics_ch1\\t\"cohort: DISCOVER...</td>\n",
       "    </tr>\n",
       "    <tr>\n",
       "      <th>2</th>\n",
       "      <td>GSM1620821</td>\n",
       "      <td>!Sample_characteristics_ch1\\t\"cell type: CD146...</td>\n",
       "    </tr>\n",
       "  </tbody>\n",
       "</table>\n",
       "</div>"
      ],
      "text/plain": [
       "     SampleID                                          Diagnosis\n",
       "0  GSM1620819  !Sample_characteristics_ch1\\t\"disease_status: ...\n",
       "1  GSM1620820  !Sample_characteristics_ch1\\t\"cohort: DISCOVER...\n",
       "2  GSM1620821  !Sample_characteristics_ch1\\t\"cell type: CD146..."
      ]
     },
     "execution_count": 38,
     "metadata": {},
     "output_type": "execute_result"
    }
   ],
   "source": [
    "min_length = min(len(sample_ids), len(labels))\n",
    "sample_ids = sample_ids[:min_length]\n",
    "labels = labels[:min_length]\n",
    "labels_df = pd.DataFrame({'SampleID': sample_ids, 'Diagnosis': labels})\n",
    "\n",
    "labels_df.head()\n"
   ]
  },
  {
   "cell_type": "code",
   "execution_count": 39,
   "id": "6fc8d547-a8bf-4291-aeb8-1952d50e2c71",
   "metadata": {},
   "outputs": [
    {
     "data": {
      "text/html": [
       "<div>\n",
       "<style scoped>\n",
       "    .dataframe tbody tr th:only-of-type {\n",
       "        vertical-align: middle;\n",
       "    }\n",
       "\n",
       "    .dataframe tbody tr th {\n",
       "        vertical-align: top;\n",
       "    }\n",
       "\n",
       "    .dataframe thead th {\n",
       "        text-align: right;\n",
       "    }\n",
       "</style>\n",
       "<table border=\"1\" class=\"dataframe\">\n",
       "  <thead>\n",
       "    <tr style=\"text-align: right;\">\n",
       "      <th></th>\n",
       "      <th>SampleID</th>\n",
       "      <th>Diagnosis</th>\n",
       "      <th>CleanDiagnosis</th>\n",
       "    </tr>\n",
       "  </thead>\n",
       "  <tbody>\n",
       "    <tr>\n",
       "      <th>0</th>\n",
       "      <td>GSM1620819</td>\n",
       "      <td>!Sample_characteristics_ch1\\t\"disease_status: ...</td>\n",
       "      <td>Control</td>\n",
       "    </tr>\n",
       "    <tr>\n",
       "      <th>1</th>\n",
       "      <td>GSM1620820</td>\n",
       "      <td>!Sample_characteristics_ch1\\t\"cohort: DISCOVER...</td>\n",
       "      <td>Unknown</td>\n",
       "    </tr>\n",
       "    <tr>\n",
       "      <th>2</th>\n",
       "      <td>GSM1620821</td>\n",
       "      <td>!Sample_characteristics_ch1\\t\"cell type: CD146...</td>\n",
       "      <td>Unknown</td>\n",
       "    </tr>\n",
       "  </tbody>\n",
       "</table>\n",
       "</div>"
      ],
      "text/plain": [
       "     SampleID                                          Diagnosis  \\\n",
       "0  GSM1620819  !Sample_characteristics_ch1\\t\"disease_status: ...   \n",
       "1  GSM1620820  !Sample_characteristics_ch1\\t\"cohort: DISCOVER...   \n",
       "2  GSM1620821  !Sample_characteristics_ch1\\t\"cell type: CD146...   \n",
       "\n",
       "  CleanDiagnosis  \n",
       "0        Control  \n",
       "1        Unknown  \n",
       "2        Unknown  "
      ]
     },
     "execution_count": 39,
     "metadata": {},
     "output_type": "execute_result"
    }
   ],
   "source": [
    "# Extract only the disease status from the metadata strings\n",
    "def extract_status(label):\n",
    "    if \"disease_status:\" in label:\n",
    "        return label.split(\"disease_status:\")[1].split('\"')[0].strip()\n",
    "    elif \"Myocardial Infarction\" in label:\n",
    "        return \"Myocardial Infarction\"\n",
    "    elif \"Control\" in label:\n",
    "        return \"Control\"\n",
    "    else:\n",
    "        return \"Unknown\"\n",
    "\n",
    "labels_df['CleanDiagnosis'] = labels_df['Diagnosis'].apply(extract_status)\n",
    "labels_df.head(10)\n"
   ]
  },
  {
   "cell_type": "code",
   "execution_count": 40,
   "id": "67a57bb0-080d-4493-b7b0-9e5d0f6a26ef",
   "metadata": {},
   "outputs": [
    {
     "data": {
      "text/plain": [
       "CleanDiagnosis\n",
       "Unknown    2\n",
       "Control    1\n",
       "Name: count, dtype: int64"
      ]
     },
     "execution_count": 40,
     "metadata": {},
     "output_type": "execute_result"
    }
   ],
   "source": [
    "labels_df['CleanDiagnosis'].value_counts()\n"
   ]
  },
  {
   "cell_type": "code",
   "execution_count": 41,
   "id": "4248c259-c490-4da0-a184-b4a32def45c2",
   "metadata": {},
   "outputs": [
    {
     "name": "stdout",
     "output_type": "stream",
     "text": [
      "     SampleID                                          Diagnosis  \\\n",
      "0  GSM1620819  !Sample_characteristics_ch1\\t\"disease_status: ...   \n",
      "\n",
      "  CleanDiagnosis  \n",
      "0        Control  \n",
      "Usable samples: 1\n"
     ]
    }
   ],
   "source": [
    "usable = labels_df[labels_df['CleanDiagnosis'].isin(['Control', 'Myocardial Infarction'])]\n",
    "print(usable.head())\n",
    "print(\"Usable samples:\", usable.shape[0])\n"
   ]
  },
  {
   "cell_type": "code",
   "execution_count": 42,
   "id": "42a4756c-65bb-4323-8169-5e170e495498",
   "metadata": {},
   "outputs": [
    {
     "ename": "ValueError",
     "evalue": "All arrays must be of the same length",
     "output_type": "error",
     "traceback": [
      "\u001b[31m------------------------------------------------------------------------\u001b[39m",
      "\u001b[31mValueError\u001b[39m                             Traceback (most recent call last)",
      "\u001b[36mCell\u001b[39m\u001b[36m \u001b[39m\u001b[32mIn[42]\u001b[39m\u001b[32m, line 28\u001b[39m\n\u001b[32m     26\u001b[39m \u001b[38;5;66;03m# Now build a new dataframe matching sample columns to diagnosis_labels\u001b[39;00m\n\u001b[32m     27\u001b[39m sample_ids = df.columns[\u001b[32m1\u001b[39m:]  \u001b[38;5;66;03m# Get all GSMs except 'ID_REF'\u001b[39;00m\n\u001b[32m---> \u001b[39m\u001b[32m28\u001b[39m labels_df = \u001b[43mpd\u001b[49m\u001b[43m.\u001b[49m\u001b[43mDataFrame\u001b[49m\u001b[43m(\u001b[49m\u001b[43m{\u001b[49m\u001b[33;43m'\u001b[39;49m\u001b[33;43mSampleID\u001b[39;49m\u001b[33;43m'\u001b[39;49m\u001b[43m:\u001b[49m\u001b[43m \u001b[49m\u001b[43msample_ids\u001b[49m\u001b[43m,\u001b[49m\u001b[43m \u001b[49m\u001b[33;43m'\u001b[39;49m\u001b[33;43mDiagnosis\u001b[39;49m\u001b[33;43m'\u001b[39;49m\u001b[43m:\u001b[49m\u001b[43m \u001b[49m\u001b[43mdiagnosis_labels\u001b[49m\u001b[43m}\u001b[49m\u001b[43m)\u001b[49m\n\u001b[32m     29\u001b[39m labels_df[\u001b[33m'\u001b[39m\u001b[33mDiagnosis\u001b[39m\u001b[33m'\u001b[39m].value_counts()\n\u001b[32m     30\u001b[39m labels_df.head(\u001b[32m10\u001b[39m)\n",
      "\u001b[36mFile \u001b[39m\u001b[32m~\\miniconda3\\envs\\bioinfo_proj\\Lib\\site-packages\\pandas\\core\\frame.py:778\u001b[39m, in \u001b[36mDataFrame.__init__\u001b[39m\u001b[34m(self, data, index, columns, dtype, copy)\u001b[39m\n\u001b[32m    772\u001b[39m     mgr = \u001b[38;5;28mself\u001b[39m._init_mgr(\n\u001b[32m    773\u001b[39m         data, axes={\u001b[33m\"\u001b[39m\u001b[33mindex\u001b[39m\u001b[33m\"\u001b[39m: index, \u001b[33m\"\u001b[39m\u001b[33mcolumns\u001b[39m\u001b[33m\"\u001b[39m: columns}, dtype=dtype, copy=copy\n\u001b[32m    774\u001b[39m     )\n\u001b[32m    776\u001b[39m \u001b[38;5;28;01melif\u001b[39;00m \u001b[38;5;28misinstance\u001b[39m(data, \u001b[38;5;28mdict\u001b[39m):\n\u001b[32m    777\u001b[39m     \u001b[38;5;66;03m# GH#38939 de facto copy defaults to False only in non-dict cases\u001b[39;00m\n\u001b[32m--> \u001b[39m\u001b[32m778\u001b[39m     mgr = \u001b[43mdict_to_mgr\u001b[49m\u001b[43m(\u001b[49m\u001b[43mdata\u001b[49m\u001b[43m,\u001b[49m\u001b[43m \u001b[49m\u001b[43mindex\u001b[49m\u001b[43m,\u001b[49m\u001b[43m \u001b[49m\u001b[43mcolumns\u001b[49m\u001b[43m,\u001b[49m\u001b[43m \u001b[49m\u001b[43mdtype\u001b[49m\u001b[43m=\u001b[49m\u001b[43mdtype\u001b[49m\u001b[43m,\u001b[49m\u001b[43m \u001b[49m\u001b[43mcopy\u001b[49m\u001b[43m=\u001b[49m\u001b[43mcopy\u001b[49m\u001b[43m,\u001b[49m\u001b[43m \u001b[49m\u001b[43mtyp\u001b[49m\u001b[43m=\u001b[49m\u001b[43mmanager\u001b[49m\u001b[43m)\u001b[49m\n\u001b[32m    779\u001b[39m \u001b[38;5;28;01melif\u001b[39;00m \u001b[38;5;28misinstance\u001b[39m(data, ma.MaskedArray):\n\u001b[32m    780\u001b[39m     \u001b[38;5;28;01mfrom\u001b[39;00m\u001b[38;5;250m \u001b[39m\u001b[34;01mnumpy\u001b[39;00m\u001b[34;01m.\u001b[39;00m\u001b[34;01mma\u001b[39;00m\u001b[38;5;250m \u001b[39m\u001b[38;5;28;01mimport\u001b[39;00m mrecords\n",
      "\u001b[36mFile \u001b[39m\u001b[32m~\\miniconda3\\envs\\bioinfo_proj\\Lib\\site-packages\\pandas\\core\\internals\\construction.py:503\u001b[39m, in \u001b[36mdict_to_mgr\u001b[39m\u001b[34m(data, index, columns, dtype, typ, copy)\u001b[39m\n\u001b[32m    499\u001b[39m     \u001b[38;5;28;01melse\u001b[39;00m:\n\u001b[32m    500\u001b[39m         \u001b[38;5;66;03m# dtype check to exclude e.g. range objects, scalars\u001b[39;00m\n\u001b[32m    501\u001b[39m         arrays = [x.copy() \u001b[38;5;28;01mif\u001b[39;00m \u001b[38;5;28mhasattr\u001b[39m(x, \u001b[33m\"\u001b[39m\u001b[33mdtype\u001b[39m\u001b[33m\"\u001b[39m) \u001b[38;5;28;01melse\u001b[39;00m x \u001b[38;5;28;01mfor\u001b[39;00m x \u001b[38;5;129;01min\u001b[39;00m arrays]\n\u001b[32m--> \u001b[39m\u001b[32m503\u001b[39m \u001b[38;5;28;01mreturn\u001b[39;00m \u001b[43marrays_to_mgr\u001b[49m\u001b[43m(\u001b[49m\u001b[43marrays\u001b[49m\u001b[43m,\u001b[49m\u001b[43m \u001b[49m\u001b[43mcolumns\u001b[49m\u001b[43m,\u001b[49m\u001b[43m \u001b[49m\u001b[43mindex\u001b[49m\u001b[43m,\u001b[49m\u001b[43m \u001b[49m\u001b[43mdtype\u001b[49m\u001b[43m=\u001b[49m\u001b[43mdtype\u001b[49m\u001b[43m,\u001b[49m\u001b[43m \u001b[49m\u001b[43mtyp\u001b[49m\u001b[43m=\u001b[49m\u001b[43mtyp\u001b[49m\u001b[43m,\u001b[49m\u001b[43m \u001b[49m\u001b[43mconsolidate\u001b[49m\u001b[43m=\u001b[49m\u001b[43mcopy\u001b[49m\u001b[43m)\u001b[49m\n",
      "\u001b[36mFile \u001b[39m\u001b[32m~\\miniconda3\\envs\\bioinfo_proj\\Lib\\site-packages\\pandas\\core\\internals\\construction.py:114\u001b[39m, in \u001b[36marrays_to_mgr\u001b[39m\u001b[34m(arrays, columns, index, dtype, verify_integrity, typ, consolidate)\u001b[39m\n\u001b[32m    111\u001b[39m \u001b[38;5;28;01mif\u001b[39;00m verify_integrity:\n\u001b[32m    112\u001b[39m     \u001b[38;5;66;03m# figure out the index, if necessary\u001b[39;00m\n\u001b[32m    113\u001b[39m     \u001b[38;5;28;01mif\u001b[39;00m index \u001b[38;5;129;01mis\u001b[39;00m \u001b[38;5;28;01mNone\u001b[39;00m:\n\u001b[32m--> \u001b[39m\u001b[32m114\u001b[39m         index = \u001b[43m_extract_index\u001b[49m\u001b[43m(\u001b[49m\u001b[43marrays\u001b[49m\u001b[43m)\u001b[49m\n\u001b[32m    115\u001b[39m     \u001b[38;5;28;01melse\u001b[39;00m:\n\u001b[32m    116\u001b[39m         index = ensure_index(index)\n",
      "\u001b[36mFile \u001b[39m\u001b[32m~\\miniconda3\\envs\\bioinfo_proj\\Lib\\site-packages\\pandas\\core\\internals\\construction.py:677\u001b[39m, in \u001b[36m_extract_index\u001b[39m\u001b[34m(data)\u001b[39m\n\u001b[32m    675\u001b[39m lengths = \u001b[38;5;28mlist\u001b[39m(\u001b[38;5;28mset\u001b[39m(raw_lengths))\n\u001b[32m    676\u001b[39m \u001b[38;5;28;01mif\u001b[39;00m \u001b[38;5;28mlen\u001b[39m(lengths) > \u001b[32m1\u001b[39m:\n\u001b[32m--> \u001b[39m\u001b[32m677\u001b[39m     \u001b[38;5;28;01mraise\u001b[39;00m \u001b[38;5;167;01mValueError\u001b[39;00m(\u001b[33m\"\u001b[39m\u001b[33mAll arrays must be of the same length\u001b[39m\u001b[33m\"\u001b[39m)\n\u001b[32m    679\u001b[39m \u001b[38;5;28;01mif\u001b[39;00m have_dicts:\n\u001b[32m    680\u001b[39m     \u001b[38;5;28;01mraise\u001b[39;00m \u001b[38;5;167;01mValueError\u001b[39;00m(\n\u001b[32m    681\u001b[39m         \u001b[33m\"\u001b[39m\u001b[33mMixing dicts with non-Series may lead to ambiguous ordering.\u001b[39m\u001b[33m\"\u001b[39m\n\u001b[32m    682\u001b[39m     )\n",
      "\u001b[31mValueError\u001b[39m: All arrays must be of the same length"
     ]
    }
   ],
   "source": [
    "import gzip\n",
    "\n",
    "with gzip.open(\"GSE66360_series_matrix.txt.gz\", 'rt', encoding='utf-8') as f:\n",
    "    lines = f.readlines()\n",
    "\n",
    "# Find the block of lines with sample info\n",
    "sample_lines = [line for line in lines if line.startswith('!Sample_characteristics_ch1')]\n",
    "# Remove the prefix and split by tab\n",
    "labels_per_sample = [line.replace('!Sample_characteristics_ch1\\t', '').strip() for line in sample_lines]\n",
    "\n",
    "# Now extract “disease_status” per sample\n",
    "import re\n",
    "def extract_diagnosis(meta):\n",
    "    match = re.search('disease_status: ([^\\t\\r\\n]+)', meta)\n",
    "    if match:\n",
    "        return match.group(1).strip()\n",
    "    elif \"Myocardial Infarction\" in meta:\n",
    "        return \"Myocardial Infarction\"\n",
    "    elif \"Control\" in meta:\n",
    "        return \"Control\"\n",
    "    else:\n",
    "        return \"Unknown\"\n",
    "\n",
    "diagnosis_labels = [extract_diagnosis(m) for m in labels_per_sample]\n",
    "\n",
    "# Now build a new dataframe matching sample columns to diagnosis_labels\n",
    "sample_ids = df.columns[1:]  # Get all GSMs except 'ID_REF'\n",
    "labels_df = pd.DataFrame({'SampleID': sample_ids, 'Diagnosis': diagnosis_labels})\n",
    "labels_df['Diagnosis'].value_counts()\n",
    "labels_df.head(10)\n"
   ]
  },
  {
   "cell_type": "code",
   "execution_count": 34,
   "id": "33bb6a24-23b5-457d-b4bc-10492f515f6e",
   "metadata": {},
   "outputs": [
    {
     "ename": "NameError",
     "evalue": "name 'sample_ids' is not defined",
     "output_type": "error",
     "traceback": [
      "\u001b[31m------------------------------------------------------------------------\u001b[39m",
      "\u001b[31mNameError\u001b[39m                              Traceback (most recent call last)",
      "\u001b[36mCell\u001b[39m\u001b[36m \u001b[39m\u001b[32mIn[34]\u001b[39m\u001b[32m, line 1\u001b[39m\n\u001b[32m----> \u001b[39m\u001b[32m1\u001b[39m \u001b[38;5;28mprint\u001b[39m(\u001b[33m\"\u001b[39m\u001b[33mSample IDs:\u001b[39m\u001b[33m\"\u001b[39m, \u001b[38;5;28mlen\u001b[39m(\u001b[43msample_ids\u001b[49m))\n\u001b[32m      2\u001b[39m \u001b[38;5;28mprint\u001b[39m(\u001b[33m\"\u001b[39m\u001b[33mDiagnosis labels:\u001b[39m\u001b[33m\"\u001b[39m, \u001b[38;5;28mlen\u001b[39m(diagnosis_labels))\n\u001b[32m      4\u001b[39m \u001b[38;5;66;03m# Show first 10 of each for inspection\u001b[39;00m\n",
      "\u001b[31mNameError\u001b[39m: name 'sample_ids' is not defined"
     ]
    }
   ],
   "source": [
    "print(\"Sample IDs:\", len(sample_ids))\n",
    "print(\"Diagnosis labels:\", len(diagnosis_labels))\n",
    "\n",
    "# Show first 10 of each for inspection\n",
    "print(\"Sample IDs (first 10):\", sample_ids[:10])\n",
    "print(\"Diagnosis labels (first 10):\", diagnosis_labels[:10])\n"
   ]
  },
  {
   "cell_type": "code",
   "execution_count": 43,
   "id": "e6bbb4f2-cb78-40e3-8fff-5845e5ac9c8a",
   "metadata": {},
   "outputs": [
    {
     "name": "stdout",
     "output_type": "stream",
     "text": [
      "Diagnosis labels extracted: ['Control\"', 'Control\"', 'Control\"', 'Control\"', 'Control\"', 'Control\"', 'Control\"', 'Control\"', 'Control\"', 'Control\"', 'Control\"', 'Control\"', 'Control\"', 'Myocardial Infarction\"', 'Myocardial Infarction\"', 'Myocardial Infarction\"', 'Myocardial Infarction\"', 'Myocardial Infarction\"', 'Myocardial Infarction\"', 'Myocardial Infarction\"', 'Myocardial Infarction\"', 'Myocardial Infarction\"', 'Myocardial Infarction\"', 'Myocardial Infarction\"', 'Myocardial Infarction\"', 'Myocardial Infarction\"', 'Myocardial Infarction\"', 'Myocardial Infarction\"', 'Myocardial Infarction\"', 'Myocardial Infarction\"', 'Myocardial Infarction\"', 'Myocardial Infarction\"', 'Myocardial Infarction\"', 'Myocardial Infarction\"', 'Control\"', 'Control\"', 'Control\"', 'Control\"', 'Control\"', 'Control\"', 'Control\"', 'Control\"', 'Control\"', 'Control\"', 'Control\"', 'Control\"', 'Control\"', 'Control\"', 'Control\"', 'Control\"', 'Control\"', 'Control\"', 'Control\"', 'Control\"', 'Control\"', 'Control\"', 'Control\"', 'Control\"', 'Myocardial Infarction\"', 'Myocardial Infarction\"', 'Myocardial Infarction\"', 'Myocardial Infarction\"', 'Myocardial Infarction\"', 'Myocardial Infarction\"', 'Myocardial Infarction\"', 'Myocardial Infarction\"', 'Myocardial Infarction\"', 'Myocardial Infarction\"', 'Myocardial Infarction\"', 'Myocardial Infarction\"', 'Myocardial Infarction\"', 'Myocardial Infarction\"', 'Myocardial Infarction\"', 'Control\"', 'Control\"', 'Control\"', 'Control\"', 'Control\"', 'Control\"', 'Control\"', 'Control\"', 'Control\"', 'Control\"', 'Control\"', 'Control\"', 'Control\"', 'Myocardial Infarction\"', 'Myocardial Infarction\"', 'Myocardial Infarction\"', 'Myocardial Infarction\"', 'Myocardial Infarction\"', 'Myocardial Infarction\"', 'Myocardial Infarction\"', 'Myocardial Infarction\"', 'Myocardial Infarction\"', 'Myocardial Infarction\"', 'Myocardial Infarction\"', 'Myocardial Infarction\"', 'Myocardial Infarction\"']\n",
      "Number of diagnosis labels: 99\n",
      "Sample IDs: 99\n"
     ]
    },
    {
     "data": {
      "text/html": [
       "<div>\n",
       "<style scoped>\n",
       "    .dataframe tbody tr th:only-of-type {\n",
       "        vertical-align: middle;\n",
       "    }\n",
       "\n",
       "    .dataframe tbody tr th {\n",
       "        vertical-align: top;\n",
       "    }\n",
       "\n",
       "    .dataframe thead th {\n",
       "        text-align: right;\n",
       "    }\n",
       "</style>\n",
       "<table border=\"1\" class=\"dataframe\">\n",
       "  <thead>\n",
       "    <tr style=\"text-align: right;\">\n",
       "      <th></th>\n",
       "      <th>SampleID</th>\n",
       "      <th>Diagnosis</th>\n",
       "    </tr>\n",
       "  </thead>\n",
       "  <tbody>\n",
       "    <tr>\n",
       "      <th>0</th>\n",
       "      <td>GSM1620819</td>\n",
       "      <td>Control\"</td>\n",
       "    </tr>\n",
       "    <tr>\n",
       "      <th>1</th>\n",
       "      <td>GSM1620820</td>\n",
       "      <td>Control\"</td>\n",
       "    </tr>\n",
       "    <tr>\n",
       "      <th>2</th>\n",
       "      <td>GSM1620821</td>\n",
       "      <td>Control\"</td>\n",
       "    </tr>\n",
       "    <tr>\n",
       "      <th>3</th>\n",
       "      <td>GSM1620822</td>\n",
       "      <td>Control\"</td>\n",
       "    </tr>\n",
       "    <tr>\n",
       "      <th>4</th>\n",
       "      <td>GSM1620823</td>\n",
       "      <td>Control\"</td>\n",
       "    </tr>\n",
       "    <tr>\n",
       "      <th>5</th>\n",
       "      <td>GSM1620824</td>\n",
       "      <td>Control\"</td>\n",
       "    </tr>\n",
       "    <tr>\n",
       "      <th>6</th>\n",
       "      <td>GSM1620825</td>\n",
       "      <td>Control\"</td>\n",
       "    </tr>\n",
       "    <tr>\n",
       "      <th>7</th>\n",
       "      <td>GSM1620826</td>\n",
       "      <td>Control\"</td>\n",
       "    </tr>\n",
       "    <tr>\n",
       "      <th>8</th>\n",
       "      <td>GSM1620827</td>\n",
       "      <td>Control\"</td>\n",
       "    </tr>\n",
       "    <tr>\n",
       "      <th>9</th>\n",
       "      <td>GSM1620828</td>\n",
       "      <td>Control\"</td>\n",
       "    </tr>\n",
       "  </tbody>\n",
       "</table>\n",
       "</div>"
      ],
      "text/plain": [
       "     SampleID Diagnosis\n",
       "0  GSM1620819  Control\"\n",
       "1  GSM1620820  Control\"\n",
       "2  GSM1620821  Control\"\n",
       "3  GSM1620822  Control\"\n",
       "4  GSM1620823  Control\"\n",
       "5  GSM1620824  Control\"\n",
       "6  GSM1620825  Control\"\n",
       "7  GSM1620826  Control\"\n",
       "8  GSM1620827  Control\"\n",
       "9  GSM1620828  Control\""
      ]
     },
     "execution_count": 43,
     "metadata": {},
     "output_type": "execute_result"
    }
   ],
   "source": [
    "import gzip\n",
    "\n",
    "with gzip.open(\"GSE66360_series_matrix.txt.gz\", 'rt', encoding='utf-8') as f:\n",
    "    for line in f:\n",
    "        if line.startswith(\"!Sample_characteristics_ch1\"):\n",
    "            label_line = line.strip().replace('!Sample_characteristics_ch1\\t', '')\n",
    "            # For multiple samples, the line will look like: \"disease_status: Control\\t...disease_status: MI\\t...\"\n",
    "            diagnosis_items = [item for item in label_line.split('\\t') if 'disease_status:' in item]\n",
    "            diagnosis_labels = [item.split('disease_status:')[1].strip() for item in diagnosis_items]\n",
    "            break\n",
    "\n",
    "print(\"Diagnosis labels extracted:\", diagnosis_labels)\n",
    "print(\"Number of diagnosis labels:\", len(diagnosis_labels))\n",
    "print(\"Sample IDs:\", len(sample_ids))\n",
    "\n",
    "# Now match min length\n",
    "min_length = min(len(sample_ids), len(diagnosis_labels))\n",
    "labels_df = pd.DataFrame({'SampleID': sample_ids[:min_length], 'Diagnosis': diagnosis_labels[:min_length]})\n",
    "labels_df['Diagnosis'].value_counts()\n",
    "labels_df.head(10)\n"
   ]
  },
  {
   "cell_type": "code",
   "execution_count": 44,
   "id": "33d279db-8835-4d8c-9b07-530a8f2ed58c",
   "metadata": {},
   "outputs": [
    {
     "data": {
      "text/html": [
       "<div>\n",
       "<style scoped>\n",
       "    .dataframe tbody tr th:only-of-type {\n",
       "        vertical-align: middle;\n",
       "    }\n",
       "\n",
       "    .dataframe tbody tr th {\n",
       "        vertical-align: top;\n",
       "    }\n",
       "\n",
       "    .dataframe thead th {\n",
       "        text-align: right;\n",
       "    }\n",
       "</style>\n",
       "<table border=\"1\" class=\"dataframe\">\n",
       "  <thead>\n",
       "    <tr style=\"text-align: right;\">\n",
       "      <th></th>\n",
       "      <th>SampleID</th>\n",
       "      <th>Diagnosis</th>\n",
       "    </tr>\n",
       "  </thead>\n",
       "  <tbody>\n",
       "    <tr>\n",
       "      <th>0</th>\n",
       "      <td>GSM1620819</td>\n",
       "      <td>Control</td>\n",
       "    </tr>\n",
       "    <tr>\n",
       "      <th>1</th>\n",
       "      <td>GSM1620820</td>\n",
       "      <td>Control</td>\n",
       "    </tr>\n",
       "    <tr>\n",
       "      <th>2</th>\n",
       "      <td>GSM1620821</td>\n",
       "      <td>Control</td>\n",
       "    </tr>\n",
       "    <tr>\n",
       "      <th>3</th>\n",
       "      <td>GSM1620822</td>\n",
       "      <td>Control</td>\n",
       "    </tr>\n",
       "    <tr>\n",
       "      <th>4</th>\n",
       "      <td>GSM1620823</td>\n",
       "      <td>Control</td>\n",
       "    </tr>\n",
       "    <tr>\n",
       "      <th>5</th>\n",
       "      <td>GSM1620824</td>\n",
       "      <td>Control</td>\n",
       "    </tr>\n",
       "    <tr>\n",
       "      <th>6</th>\n",
       "      <td>GSM1620825</td>\n",
       "      <td>Control</td>\n",
       "    </tr>\n",
       "    <tr>\n",
       "      <th>7</th>\n",
       "      <td>GSM1620826</td>\n",
       "      <td>Control</td>\n",
       "    </tr>\n",
       "    <tr>\n",
       "      <th>8</th>\n",
       "      <td>GSM1620827</td>\n",
       "      <td>Control</td>\n",
       "    </tr>\n",
       "    <tr>\n",
       "      <th>9</th>\n",
       "      <td>GSM1620828</td>\n",
       "      <td>Control</td>\n",
       "    </tr>\n",
       "  </tbody>\n",
       "</table>\n",
       "</div>"
      ],
      "text/plain": [
       "     SampleID Diagnosis\n",
       "0  GSM1620819   Control\n",
       "1  GSM1620820   Control\n",
       "2  GSM1620821   Control\n",
       "3  GSM1620822   Control\n",
       "4  GSM1620823   Control\n",
       "5  GSM1620824   Control\n",
       "6  GSM1620825   Control\n",
       "7  GSM1620826   Control\n",
       "8  GSM1620827   Control\n",
       "9  GSM1620828   Control"
      ]
     },
     "execution_count": 44,
     "metadata": {},
     "output_type": "execute_result"
    }
   ],
   "source": [
    "labels_df['Diagnosis'] = labels_df['Diagnosis'].str.replace('\"','').str.strip()\n",
    "labels_df.head(10)\n"
   ]
  },
  {
   "cell_type": "code",
   "execution_count": 46,
   "id": "167f8e61-95c6-4f15-bcf9-709cae2a094e",
   "metadata": {},
   "outputs": [
    {
     "data": {
      "text/html": [
       "<div>\n",
       "<style scoped>\n",
       "    .dataframe tbody tr th:only-of-type {\n",
       "        vertical-align: middle;\n",
       "    }\n",
       "\n",
       "    .dataframe tbody tr th {\n",
       "        vertical-align: top;\n",
       "    }\n",
       "\n",
       "    .dataframe thead th {\n",
       "        text-align: right;\n",
       "    }\n",
       "</style>\n",
       "<table border=\"1\" class=\"dataframe\">\n",
       "  <thead>\n",
       "    <tr style=\"text-align: right;\">\n",
       "      <th>ID_REF</th>\n",
       "      <th>1007_s_at</th>\n",
       "      <th>1053_at</th>\n",
       "      <th>117_at</th>\n",
       "      <th>121_at</th>\n",
       "      <th>1255_g_at</th>\n",
       "      <th>1294_at</th>\n",
       "      <th>1316_at</th>\n",
       "      <th>1320_at</th>\n",
       "      <th>1405_i_at</th>\n",
       "      <th>1431_at</th>\n",
       "      <th>...</th>\n",
       "      <th>AFFX-r2-Ec-bioD-5_at</th>\n",
       "      <th>AFFX-r2-P1-cre-3_at</th>\n",
       "      <th>AFFX-r2-P1-cre-5_at</th>\n",
       "      <th>AFFX-ThrX-3_at</th>\n",
       "      <th>AFFX-ThrX-5_at</th>\n",
       "      <th>AFFX-ThrX-M_at</th>\n",
       "      <th>AFFX-TrpnX-3_at</th>\n",
       "      <th>AFFX-TrpnX-5_at</th>\n",
       "      <th>AFFX-TrpnX-M_at</th>\n",
       "      <th>Diagnosis</th>\n",
       "    </tr>\n",
       "  </thead>\n",
       "  <tbody>\n",
       "    <tr>\n",
       "      <th>GSM1620819</th>\n",
       "      <td>5.866378</td>\n",
       "      <td>8.225790</td>\n",
       "      <td>6.179732</td>\n",
       "      <td>6.179478</td>\n",
       "      <td>2.792048</td>\n",
       "      <td>9.290411</td>\n",
       "      <td>6.998285</td>\n",
       "      <td>5.348944</td>\n",
       "      <td>10.742427</td>\n",
       "      <td>7.270561</td>\n",
       "      <td>...</td>\n",
       "      <td>13.266235</td>\n",
       "      <td>14.571230</td>\n",
       "      <td>14.276568</td>\n",
       "      <td>4.504659</td>\n",
       "      <td>3.139334</td>\n",
       "      <td>2.747015</td>\n",
       "      <td>2.651554</td>\n",
       "      <td>3.413429</td>\n",
       "      <td>3.140612</td>\n",
       "      <td>Control</td>\n",
       "    </tr>\n",
       "    <tr>\n",
       "      <th>GSM1620820</th>\n",
       "      <td>4.948736</td>\n",
       "      <td>7.525865</td>\n",
       "      <td>6.628137</td>\n",
       "      <td>6.582889</td>\n",
       "      <td>2.695714</td>\n",
       "      <td>9.462275</td>\n",
       "      <td>6.558215</td>\n",
       "      <td>5.410884</td>\n",
       "      <td>9.865655</td>\n",
       "      <td>4.810195</td>\n",
       "      <td>...</td>\n",
       "      <td>13.517013</td>\n",
       "      <td>14.738834</td>\n",
       "      <td>14.341233</td>\n",
       "      <td>4.409226</td>\n",
       "      <td>3.039961</td>\n",
       "      <td>2.638606</td>\n",
       "      <td>2.643615</td>\n",
       "      <td>3.399063</td>\n",
       "      <td>3.132691</td>\n",
       "      <td>Control</td>\n",
       "    </tr>\n",
       "    <tr>\n",
       "      <th>GSM1620821</th>\n",
       "      <td>5.148384</td>\n",
       "      <td>7.764637</td>\n",
       "      <td>5.859151</td>\n",
       "      <td>6.602135</td>\n",
       "      <td>2.580181</td>\n",
       "      <td>9.116776</td>\n",
       "      <td>6.851623</td>\n",
       "      <td>5.254073</td>\n",
       "      <td>10.148454</td>\n",
       "      <td>7.822844</td>\n",
       "      <td>...</td>\n",
       "      <td>13.416583</td>\n",
       "      <td>14.627181</td>\n",
       "      <td>14.318568</td>\n",
       "      <td>4.310076</td>\n",
       "      <td>3.220109</td>\n",
       "      <td>2.495261</td>\n",
       "      <td>2.626028</td>\n",
       "      <td>3.539970</td>\n",
       "      <td>3.698396</td>\n",
       "      <td>Control</td>\n",
       "    </tr>\n",
       "    <tr>\n",
       "      <th>GSM1620822</th>\n",
       "      <td>5.064419</td>\n",
       "      <td>7.198461</td>\n",
       "      <td>5.974135</td>\n",
       "      <td>6.545905</td>\n",
       "      <td>2.712124</td>\n",
       "      <td>9.134584</td>\n",
       "      <td>7.357827</td>\n",
       "      <td>5.242140</td>\n",
       "      <td>10.879913</td>\n",
       "      <td>5.690417</td>\n",
       "      <td>...</td>\n",
       "      <td>13.494827</td>\n",
       "      <td>14.754124</td>\n",
       "      <td>14.363296</td>\n",
       "      <td>4.439311</td>\n",
       "      <td>3.263782</td>\n",
       "      <td>2.544199</td>\n",
       "      <td>2.504958</td>\n",
       "      <td>3.396225</td>\n",
       "      <td>3.638612</td>\n",
       "      <td>Control</td>\n",
       "    </tr>\n",
       "    <tr>\n",
       "      <th>GSM1620823</th>\n",
       "      <td>5.017833</td>\n",
       "      <td>7.831450</td>\n",
       "      <td>6.793079</td>\n",
       "      <td>5.911542</td>\n",
       "      <td>2.723687</td>\n",
       "      <td>9.582344</td>\n",
       "      <td>7.283873</td>\n",
       "      <td>5.219484</td>\n",
       "      <td>10.090525</td>\n",
       "      <td>7.089369</td>\n",
       "      <td>...</td>\n",
       "      <td>13.330192</td>\n",
       "      <td>14.548389</td>\n",
       "      <td>14.263677</td>\n",
       "      <td>4.562883</td>\n",
       "      <td>3.138524</td>\n",
       "      <td>2.506630</td>\n",
       "      <td>2.609707</td>\n",
       "      <td>3.434720</td>\n",
       "      <td>3.577649</td>\n",
       "      <td>Control</td>\n",
       "    </tr>\n",
       "  </tbody>\n",
       "</table>\n",
       "<p>5 rows × 54676 columns</p>\n",
       "</div>"
      ],
      "text/plain": [
       "ID_REF      1007_s_at   1053_at    117_at    121_at  1255_g_at   1294_at  \\\n",
       "GSM1620819   5.866378  8.225790  6.179732  6.179478   2.792048  9.290411   \n",
       "GSM1620820   4.948736  7.525865  6.628137  6.582889   2.695714  9.462275   \n",
       "GSM1620821   5.148384  7.764637  5.859151  6.602135   2.580181  9.116776   \n",
       "GSM1620822   5.064419  7.198461  5.974135  6.545905   2.712124  9.134584   \n",
       "GSM1620823   5.017833  7.831450  6.793079  5.911542   2.723687  9.582344   \n",
       "\n",
       "ID_REF       1316_at   1320_at  1405_i_at   1431_at  ...  \\\n",
       "GSM1620819  6.998285  5.348944  10.742427  7.270561  ...   \n",
       "GSM1620820  6.558215  5.410884   9.865655  4.810195  ...   \n",
       "GSM1620821  6.851623  5.254073  10.148454  7.822844  ...   \n",
       "GSM1620822  7.357827  5.242140  10.879913  5.690417  ...   \n",
       "GSM1620823  7.283873  5.219484  10.090525  7.089369  ...   \n",
       "\n",
       "ID_REF      AFFX-r2-Ec-bioD-5_at  AFFX-r2-P1-cre-3_at  AFFX-r2-P1-cre-5_at  \\\n",
       "GSM1620819             13.266235            14.571230            14.276568   \n",
       "GSM1620820             13.517013            14.738834            14.341233   \n",
       "GSM1620821             13.416583            14.627181            14.318568   \n",
       "GSM1620822             13.494827            14.754124            14.363296   \n",
       "GSM1620823             13.330192            14.548389            14.263677   \n",
       "\n",
       "ID_REF      AFFX-ThrX-3_at  AFFX-ThrX-5_at  AFFX-ThrX-M_at  AFFX-TrpnX-3_at  \\\n",
       "GSM1620819        4.504659        3.139334        2.747015         2.651554   \n",
       "GSM1620820        4.409226        3.039961        2.638606         2.643615   \n",
       "GSM1620821        4.310076        3.220109        2.495261         2.626028   \n",
       "GSM1620822        4.439311        3.263782        2.544199         2.504958   \n",
       "GSM1620823        4.562883        3.138524        2.506630         2.609707   \n",
       "\n",
       "ID_REF      AFFX-TrpnX-5_at  AFFX-TrpnX-M_at  Diagnosis  \n",
       "GSM1620819         3.413429         3.140612    Control  \n",
       "GSM1620820         3.399063         3.132691    Control  \n",
       "GSM1620821         3.539970         3.698396    Control  \n",
       "GSM1620822         3.396225         3.638612    Control  \n",
       "GSM1620823         3.434720         3.577649    Control  \n",
       "\n",
       "[5 rows x 54676 columns]"
      ]
     },
     "execution_count": 46,
     "metadata": {},
     "output_type": "execute_result"
    }
   ],
   "source": [
    "# Transpose so samples are rows, genes are columns\n",
    "expr_df = df.set_index('ID_REF').T\n",
    "\n",
    "# Only keep samples that appear in labels_df\n",
    "expr_df = expr_df.loc[labels_df['SampleID']]\n",
    "\n",
    "# Add diagnosis info\n",
    "expr_df['Diagnosis'] = labels_df.set_index('SampleID').loc[expr_df.index, 'Diagnosis']\n",
    "\n",
    "expr_df.head()\n"
   ]
  },
  {
   "cell_type": "code",
   "execution_count": 47,
   "id": "fc0af778-1364-4f8f-88eb-c540f0fa76b3",
   "metadata": {},
   "outputs": [
    {
     "name": "stdout",
     "output_type": "stream",
     "text": [
      "Diagnosis\n",
      "Control                  50\n",
      "Myocardial Infarction    49\n",
      "Name: count, dtype: int64\n"
     ]
    }
   ],
   "source": [
    "print(expr_df['Diagnosis'].value_counts())\n"
   ]
  },
  {
   "cell_type": "code",
   "execution_count": 48,
   "id": "f89467cf-63d6-4736-a299-1e6693e7d125",
   "metadata": {},
   "outputs": [],
   "source": [
    "# Separate features and labels\n",
    "X = expr_df.drop('Diagnosis', axis=1)\n",
    "y = expr_df['Diagnosis'].map({'Control': 0, 'Myocardial Infarction': 1})\n"
   ]
  },
  {
   "cell_type": "code",
   "execution_count": 49,
   "id": "98a240ac-4842-4111-93ec-be302cc0c4b8",
   "metadata": {},
   "outputs": [
    {
     "name": "stdout",
     "output_type": "stream",
     "text": [
      "Shape of X (features): (99, 54675)\n",
      "Shape of y (labels): (99,)\n",
      "First 5 labels: GSM1620819    0\n",
      "GSM1620820    0\n",
      "GSM1620821    0\n",
      "GSM1620822    0\n",
      "GSM1620823    0\n",
      "Name: Diagnosis, dtype: int64\n"
     ]
    }
   ],
   "source": [
    "print(\"Shape of X (features):\", X.shape)\n",
    "print(\"Shape of y (labels):\", y.shape)\n",
    "print(\"First 5 labels:\", y.head())\n"
   ]
  },
  {
   "cell_type": "code",
   "execution_count": 50,
   "id": "fad06c08-325e-4495-982d-a2b37afec046",
   "metadata": {},
   "outputs": [
    {
     "name": "stdout",
     "output_type": "stream",
     "text": [
      "Training samples: (79, 54675)\n",
      "Test samples: (20, 54675)\n"
     ]
    }
   ],
   "source": [
    "from sklearn.model_selection import train_test_split\n",
    "\n",
    "X_train, X_test, y_train, y_test = train_test_split(X, y, test_size=0.2, random_state=42, stratify=y)\n",
    "print(\"Training samples:\", X_train.shape)\n",
    "print(\"Test samples:\", X_test.shape)\n"
   ]
  },
  {
   "cell_type": "code",
   "execution_count": 51,
   "id": "6c9a5c5e-b1cc-4e69-bf04-6ec50cef9e5f",
   "metadata": {},
   "outputs": [
    {
     "name": "stdout",
     "output_type": "stream",
     "text": [
      "Accuracy: 0.9\n",
      "ROC AUC: 0.9600000000000001\n"
     ]
    }
   ],
   "source": [
    "from sklearn.linear_model import LogisticRegression\n",
    "from sklearn.metrics import accuracy_score, roc_auc_score\n",
    "\n",
    "model = LogisticRegression(max_iter=1000)\n",
    "model.fit(X_train, y_train)\n",
    "y_pred = model.predict(X_test)\n",
    "y_pred_proba = model.predict_proba(X_test)[:,1]\n",
    "\n",
    "print(\"Accuracy:\", accuracy_score(y_test, y_pred))\n",
    "print(\"ROC AUC:\", roc_auc_score(y_test, y_pred_proba))\n"
   ]
  },
  {
   "cell_type": "code",
   "execution_count": 52,
   "id": "03fef921-ecab-4b4d-ad9b-1aaef8c0b507",
   "metadata": {},
   "outputs": [
    {
     "name": "stdout",
     "output_type": "stream",
     "text": [
      "Accuracy (scaled): 0.85\n",
      "ROC AUC (scaled): 0.9600000000000001\n"
     ]
    }
   ],
   "source": [
    "from sklearn.preprocessing import StandardScaler\n",
    "\n",
    "scaler = StandardScaler()\n",
    "X_train_scaled = scaler.fit_transform(X_train)\n",
    "X_test_scaled = scaler.transform(X_test)\n",
    "\n",
    "model_scaled = LogisticRegression(max_iter=1000)\n",
    "model_scaled.fit(X_train_scaled, y_train)\n",
    "y_pred_scaled = model_scaled.predict(X_test_scaled)\n",
    "y_pred_proba_scaled = model_scaled.predict_proba(X_test_scaled)[:,1]\n",
    "\n",
    "print(\"Accuracy (scaled):\", accuracy_score(y_test, y_pred_scaled))\n",
    "print(\"ROC AUC (scaled):\", roc_auc_score(y_test, y_pred_proba_scaled))\n"
   ]
  },
  {
   "cell_type": "code",
   "execution_count": 53,
   "id": "9d6a8e58-975c-4d67-a565-f213c5a62bcd",
   "metadata": {},
   "outputs": [
    {
     "name": "stdout",
     "output_type": "stream",
     "text": [
      "Accuracy (top genes): 0.85\n",
      "ROC AUC (top genes): 0.9400000000000001\n"
     ]
    }
   ],
   "source": [
    "# Select top 100 genes by variance\n",
    "top_genes = X_train.var(axis=0).sort_values(ascending=False).index[:100]\n",
    "X_train_top = X_train[top_genes]\n",
    "X_test_top = X_test[top_genes]\n",
    "\n",
    "scaler_top = StandardScaler()\n",
    "X_train_top_scaled = scaler_top.fit_transform(X_train_top)\n",
    "X_test_top_scaled = scaler_top.transform(X_test_top)\n",
    "\n",
    "model_top = LogisticRegression(max_iter=1000)\n",
    "model_top.fit(X_train_top_scaled, y_train)\n",
    "y_pred_top = model_top.predict(X_test_top_scaled)\n",
    "y_pred_proba_top = model_top.predict_proba(X_test_top_scaled)[:,1]\n",
    "\n",
    "print(\"Accuracy (top genes):\", accuracy_score(y_test, y_pred_top))\n",
    "print(\"ROC AUC (top genes):\", roc_auc_score(y_test, y_pred_proba_top))\n"
   ]
  },
  {
   "cell_type": "code",
   "execution_count": 54,
   "id": "65140d62-61ec-46d2-9875-d4f0aecbca7a",
   "metadata": {},
   "outputs": [
    {
     "ename": "IndexError",
     "evalue": "index 5 is out of bounds for axis 0 with size 1",
     "output_type": "error",
     "traceback": [
      "\u001b[31m------------------------------------------------------------------------\u001b[39m",
      "\u001b[31mIndexError\u001b[39m                             Traceback (most recent call last)",
      "\u001b[36mCell\u001b[39m\u001b[36m \u001b[39m\u001b[32mIn[54]\u001b[39m\u001b[32m, line 7\u001b[39m\n\u001b[32m      5\u001b[39m top_10_idx = np.argsort(np.abs(coef))[::-\u001b[32m1\u001b[39m][:\u001b[32m10\u001b[39m]\n\u001b[32m      6\u001b[39m top_10_genes = [top_genes[i] \u001b[38;5;28;01mfor\u001b[39;00m i \u001b[38;5;129;01min\u001b[39;00m top_10_idx]\n\u001b[32m----> \u001b[39m\u001b[32m7\u001b[39m top_10_coefs = \u001b[43mcoef\u001b[49m\u001b[43m[\u001b[49m\u001b[43mtop_10_idx\u001b[49m\u001b[43m]\u001b[49m\n\u001b[32m      9\u001b[39m \u001b[38;5;28mprint\u001b[39m(\u001b[33m\"\u001b[39m\u001b[33mTop 10 predictive genes and their coefficients:\u001b[39m\u001b[33m\"\u001b[39m)\n\u001b[32m     10\u001b[39m \u001b[38;5;28;01mfor\u001b[39;00m gene, weight \u001b[38;5;129;01min\u001b[39;00m \u001b[38;5;28mzip\u001b[39m(top_10_genes, top_10_coefs):\n",
      "\u001b[31mIndexError\u001b[39m: index 5 is out of bounds for axis 0 with size 1"
     ]
    }
   ],
   "source": [
    "# Get model coefficients and rank top genes\n",
    "import numpy as np\n",
    "\n",
    "coef = model_top.coef_\n",
    "top_10_idx = np.argsort(np.abs(coef))[::-1][:10]\n",
    "top_10_genes = [top_genes[i] for i in top_10_idx]\n",
    "top_10_coefs = coef[top_10_idx]\n",
    "\n",
    "print(\"Top 10 predictive genes and their coefficients:\")\n",
    "for gene, weight in zip(top_10_genes, top_10_coefs):\n",
    "    print(f\"{gene}: {weight:.3f}\")\n"
   ]
  },
  {
   "cell_type": "code",
   "execution_count": 55,
   "id": "dce73d35-f007-4b2b-a228-385c58c8fb24",
   "metadata": {},
   "outputs": [
    {
     "name": "stdout",
     "output_type": "stream",
     "text": [
      "Coefficient shape: (1, 100)\n",
      "Number of top genes: 100\n"
     ]
    }
   ],
   "source": [
    "print(\"Coefficient shape:\", model_top.coef_.shape)\n",
    "print(\"Number of top genes:\", len(top_genes))\n"
   ]
  },
  {
   "cell_type": "code",
   "execution_count": 56,
   "id": "c12c3053-c0e3-407d-b121-7c7f77f2932b",
   "metadata": {},
   "outputs": [
    {
     "name": "stdout",
     "output_type": "stream",
     "text": [
      "Top 10 predictive genes and their coefficients:\n",
      "223597_at: 1.222\n",
      "205067_at: 0.839\n",
      "218559_s_at: 0.754\n",
      "210135_s_at: -0.722\n",
      "206157_at: 0.584\n",
      "212354_at: 0.552\n",
      "209774_x_at: 0.533\n",
      "1554899_s_at: 0.461\n",
      "209728_at: -0.454\n",
      "1559696_at: 0.429\n"
     ]
    }
   ],
   "source": [
    "coef = model_top.coef_.flatten()  # shape (100,)\n",
    "\n",
    "# Indices of the top 10 absolute coefficients\n",
    "top_10_idx = np.argsort(np.abs(coef))[::-1][:10]\n",
    "\n",
    "# Top gene names and their coefficients\n",
    "top_10_genes = [top_genes[i] for i in top_10_idx]\n",
    "top_10_coefs = [coef[i] for i in top_10_idx]\n",
    "\n",
    "print(\"Top 10 predictive genes and their coefficients:\")\n",
    "for gene, weight in zip(top_10_genes, top_10_coefs):\n",
    "    print(f\"{gene}: {weight:.3f}\")\n"
   ]
  },
  {
   "cell_type": "code",
   "execution_count": 59,
   "id": "42ee37a5-a14d-4940-8b78-7fdbdb2013cf",
   "metadata": {},
   "outputs": [
    {
     "data": {
      "image/png": "[encoded data removed]",
      "text/plain": [
       "<Figure size 640x480 with 1 Axes>"
      ]
     },
     "metadata": {},
     "output_type": "display_data"
    }
   ],
   "source": [
    "import matplotlib.pyplot as plt\n",
    "\n",
    "plt.barh(top_10_genes, top_10_coefs)\n",
    "plt.xlabel(\"Coefficient\")\n",
    "plt.title(\"Top 10 Predictive Genes (CVD Logistic Regression)\")\n",
    "plt.gca().invert_yaxis()\n",
    "plt.savefig('C:/Users/shrij/OneDrive/Desktop/GSE66360-GeneExpression-Analysis/results/top10PredictiveGenes.png')\n",
    "plt.show()\n"
   ]
  },
  {
   "cell_type": "code",
   "execution_count": 60,
   "id": "9f3b99db-7152-45d2-a93b-53223eed5400",
   "metadata": {},
   "outputs": [],
   "source": [
    "pd.DataFrame({\"Gene\": top_10_genes, \"Coefficient\": top_10_coefs}).to_csv(\"top10_predictive_genes.csv\", index=False)\n"
   ]
  },
  {
   "cell_type": "code",
   "execution_count": 61,
   "id": "cb32fa49-d213-44a3-ac51-f1389fb384e0",
   "metadata": {},
   "outputs": [
    {
     "name": "stdout",
     "output_type": "stream",
     "text": [
      "Series([], dtype: int64)\n"
     ]
    }
   ],
   "source": [
    "# Check missing values count per column\n",
    "missing_counts = X.isnull().sum()\n",
    "print(missing_counts[missing_counts > 0])\n",
    "\n",
    "# Simple imputation — fill missing values with column median\n",
    "X_filled = X.fillna(X.median())\n"
   ]
  },
  {
   "cell_type": "code",
   "execution_count": 62,
   "id": "d04a0cba-0796-4997-b1d1-d0f7300e5cb0",
   "metadata": {},
   "outputs": [],
   "source": [
    "import numpy as np\n",
    "\n",
    "# Log2 transform if data not already in log scale\n",
    "X_log = np.log2(X_filled + 1)\n"
   ]
  },
  {
   "cell_type": "code",
   "execution_count": 70,
   "id": "cc53f440-5e7c-4cf1-a8d8-62a0328e0723",
   "metadata": {},
   "outputs": [
    {
     "data": {
      "image/png": "[encoded data removed]",
      "text/plain": [
       "<Figure size 700x500 with 1 Axes>"
      ]
     },
     "metadata": {},
     "output_type": "display_data"
    }
   ],
   "source": [
    "from sklearn.decomposition import PCA\n",
    "import matplotlib.pyplot as plt\n",
    "\n",
    "pca = PCA(n_components=2)\n",
    "X_pca = pca.fit_transform(X_log)\n",
    "\n",
    "plt.figure(figsize=(7,5))\n",
    "colors = ['red' if d == 'Myocardial Infarction' else 'blue' for d in expr_df['Diagnosis']]\n",
    "plt.scatter(X_pca[:,0], X_pca[:,1], c=colors, alpha=0.7)\n",
    "plt.xlabel(\"PC1\")\n",
    "plt.ylabel(\"PC2\")\n",
    "plt.title(\"PCA: Gene Expression (CVD)\")\n",
    "plt.legend(['Myocardial Infarction', 'Control'])\n",
    "plt.savefig('C:/Users/shrij/OneDrive/Desktop/GSE66360-GeneExpression-Analysis/results/PCAgeneexpression.png')\n",
    "plt.show()\n"
   ]
  },
  {
   "cell_type": "code",
   "execution_count": 64,
   "id": "1ec517e8-00cf-416d-8b5f-53fc305a54bd",
   "metadata": {},
   "outputs": [
    {
     "data": {
      "image/png": "[encoded data removed]",
      "text/plain": [
       "<Figure size 1000x400 with 1 Axes>"
      ]
     },
     "metadata": {},
     "output_type": "display_data"
    }
   ],
   "source": [
    "import seaborn as sns\n",
    "\n",
    "gene_variances = X_log.var().sort_values(ascending=False)[:50]\n",
    "plt.figure(figsize=(10,4))\n",
    "sns.barplot(x=gene_variances.index, y=gene_variances.values)\n",
    "plt.xticks(rotation=90)\n",
    "plt.title(\"Top 50 Most Variable Genes\")\n",
    "plt.tight_layout()\n",
    "plt.savefig('C:/Users/shrij/OneDrive/Desktop/GSE66360-GeneExpression-Analysis/results/top50VariableGenes.png')\n",
    "plt.show()\n"
   ]
  },
  {
   "cell_type": "code",
   "execution_count": 65,
   "id": "4a130296-26ff-4afd-b221-d61ce663caa5",
   "metadata": {},
   "outputs": [
    {
     "name": "stdout",
     "output_type": "stream",
     "text": [
      "Mean pairwise distance: 64.79628611951556\n"
     ]
    }
   ],
   "source": [
    "import scipy.spatial.distance as dist\n",
    "\n",
    "dists = dist.pdist(X_log, 'euclidean')\n",
    "print(\"Mean pairwise distance:\", np.mean(dists))\n"
   ]
  },
  {
   "cell_type": "code",
   "execution_count": 66,
   "id": "92188f11-d6dd-4204-8f3c-8dce3ad8ad99",
   "metadata": {},
   "outputs": [
    {
     "name": "stdout",
     "output_type": "stream",
     "text": [
      "              Gene          pval\n",
      "25540  216248_s_at  6.949837e-20\n",
      "18284  208869_s_at  1.132051e-18\n",
      "14069  204622_x_at  5.959763e-18\n",
      "53304    244054_at  7.665845e-17\n",
      "13335    203888_at  1.393074e-15\n",
      "18283  208868_s_at  2.065622e-15\n",
      "49352    240103_at  2.588350e-15\n",
      "13334  203887_s_at  3.930740e-15\n",
      "13021    203574_at  5.624793e-15\n",
      "27844  218559_s_at  2.831905e-14\n"
     ]
    }
   ],
   "source": [
    "import scipy.stats as stats\n",
    "controls = expr_df[expr_df['Diagnosis'] == 'Control'].drop('Diagnosis', axis=1)\n",
    "cases = expr_df[expr_df['Diagnosis'] == 'Myocardial Infarction'].drop('Diagnosis', axis=1)\n",
    "\n",
    "# Perform t-tests for each gene\n",
    "pvals = []\n",
    "for gene in X_log.columns:\n",
    "    stat, p = stats.ttest_ind(controls[gene], cases[gene])\n",
    "    pvals.append(p)\n",
    "\n",
    "# Collect top significant genes\n",
    "import pandas as pd\n",
    "deg_results = pd.DataFrame({'Gene': X_log.columns, 'pval': pvals})\n",
    "deg_results = deg_results.sort_values('pval')\n",
    "print(deg_results.head(10))\n"
   ]
  },
  {
   "cell_type": "code",
   "execution_count": 67,
   "id": "21f2cde8-efa9-4454-a890-a53630e6b65b",
   "metadata": {},
   "outputs": [
    {
     "name": "stdout",
     "output_type": "stream",
     "text": [
      "Cross-validated ROC AUC scores: [1.         0.90625    0.828125   0.9375     0.94642857]\n",
      "Mean CV ROC AUC: 0.9236607142857143\n"
     ]
    }
   ],
   "source": [
    "from sklearn.model_selection import cross_val_score\n",
    "cv_scores = cross_val_score(model_top, X_train_top_scaled, y_train, cv=5, scoring='roc_auc')\n",
    "print(\"Cross-validated ROC AUC scores:\", cv_scores)\n",
    "print(\"Mean CV ROC AUC:\", cv_scores.mean())\n"
   ]
  },
  {
   "cell_type": "code",
   "execution_count": 71,
   "id": "649cf2fa-132d-49cb-8da1-feefda294ce5",
   "metadata": {},
   "outputs": [
    {
     "data": {
      "text/html": [
       "<div>\n",
       "<style scoped>\n",
       "    .dataframe tbody tr th:only-of-type {\n",
       "        vertical-align: middle;\n",
       "    }\n",
       "\n",
       "    .dataframe tbody tr th {\n",
       "        vertical-align: top;\n",
       "    }\n",
       "\n",
       "    .dataframe thead th {\n",
       "        text-align: right;\n",
       "    }\n",
       "</style>\n",
       "<table border=\"1\" class=\"dataframe\">\n",
       "  <thead>\n",
       "    <tr style=\"text-align: right;\">\n",
       "      <th></th>\n",
       "      <th>Gene</th>\n",
       "      <th>pval</th>\n",
       "    </tr>\n",
       "  </thead>\n",
       "  <tbody>\n",
       "    <tr>\n",
       "      <th>25540</th>\n",
       "      <td>216248_s_at</td>\n",
       "      <td>1.280883e-19</td>\n",
       "    </tr>\n",
       "    <tr>\n",
       "      <th>18284</th>\n",
       "      <td>208869_s_at</td>\n",
       "      <td>2.989947e-18</td>\n",
       "    </tr>\n",
       "    <tr>\n",
       "      <th>14069</th>\n",
       "      <td>204622_x_at</td>\n",
       "      <td>8.400521e-18</td>\n",
       "    </tr>\n",
       "    <tr>\n",
       "      <th>53304</th>\n",
       "      <td>244054_at</td>\n",
       "      <td>5.909667e-16</td>\n",
       "    </tr>\n",
       "    <tr>\n",
       "      <th>18283</th>\n",
       "      <td>208868_s_at</td>\n",
       "      <td>6.733958e-15</td>\n",
       "    </tr>\n",
       "    <tr>\n",
       "      <th>13021</th>\n",
       "      <td>203574_at</td>\n",
       "      <td>7.759318e-15</td>\n",
       "    </tr>\n",
       "    <tr>\n",
       "      <th>49352</th>\n",
       "      <td>240103_at</td>\n",
       "      <td>9.206444e-15</td>\n",
       "    </tr>\n",
       "    <tr>\n",
       "      <th>13335</th>\n",
       "      <td>203888_at</td>\n",
       "      <td>1.522553e-14</td>\n",
       "    </tr>\n",
       "    <tr>\n",
       "      <th>14068</th>\n",
       "      <td>204621_s_at</td>\n",
       "      <td>3.235876e-14</td>\n",
       "    </tr>\n",
       "    <tr>\n",
       "      <th>27844</th>\n",
       "      <td>218559_s_at</td>\n",
       "      <td>4.408196e-14</td>\n",
       "    </tr>\n",
       "  </tbody>\n",
       "</table>\n",
       "</div>"
      ],
      "text/plain": [
       "              Gene          pval\n",
       "25540  216248_s_at  1.280883e-19\n",
       "18284  208869_s_at  2.989947e-18\n",
       "14069  204622_x_at  8.400521e-18\n",
       "53304    244054_at  5.909667e-16\n",
       "18283  208868_s_at  6.733958e-15\n",
       "13021    203574_at  7.759318e-15\n",
       "49352    240103_at  9.206444e-15\n",
       "13335    203888_at  1.522553e-14\n",
       "14068  204621_s_at  3.235876e-14\n",
       "27844  218559_s_at  4.408196e-14"
      ]
     },
     "execution_count": 71,
     "metadata": {},
     "output_type": "execute_result"
    }
   ],
   "source": [
    "import scipy.stats as stats\n",
    "import pandas as pd\n",
    "\n",
    "# Separate expression by diagnosis\n",
    "controls = expr_df[expr_df['Diagnosis'] == 'Control'].drop('Diagnosis', axis=1)\n",
    "cases = expr_df[expr_df['Diagnosis'] == 'Myocardial Infarction'].drop('Diagnosis', axis=1)\n",
    "\n",
    "# Perform t-test for each gene\n",
    "pvals = []\n",
    "for gene in expr_df.columns[:-1]:  # exclude 'Diagnosis' column\n",
    "    stat, p = stats.ttest_ind(controls[gene], cases[gene], equal_var=False)\n",
    "    pvals.append(p)\n",
    "\n",
    "# Compile results into DataFrame\n",
    "deg_results = pd.DataFrame({'Gene': expr_df.columns[:-1], 'pval': pvals})\n",
    "deg_results = deg_results.sort_values('pval')\n",
    "\n",
    "# Display top 10 significant genes\n",
    "deg_results.head(10)\n"
   ]
  },
  {
   "cell_type": "code",
   "execution_count": 72,
   "id": "90dff9b2-153d-4c58-ad0a-d500486312a9",
   "metadata": {},
   "outputs": [
    {
     "name": "stdout",
     "output_type": "stream",
     "text": [
      "Jupyter detected...\n",
      "3 channel Terms of Service accepted\n",
      "Retrieving notices: done\n",
      "Channels:\n",
      " - defaults\n",
      "Platform: win-64\n",
      "Collecting package metadata (repodata.json): done\n",
      "Solving environment: done\n",
      "\n",
      "# All requested packages already installed.\n",
      "\n"
     ]
    },
    {
     "name": "stderr",
     "output_type": "stream",
     "text": [
      "\n",
      "\n",
      "==> WARNING: A newer version of conda exists. <==\n",
      "    current version: 25.5.1\n",
      "    latest version: 25.7.0\n",
      "\n",
      "Please update conda by running\n",
      "\n",
      "    $ conda update -n base -c defaults conda\n",
      "\n",
      "\n"
     ]
    }
   ],
   "source": [
    "!conda install -y statsmodels\n"
   ]
  },
  {
   "cell_type": "code",
   "execution_count": 73,
   "id": "4f2800e1-a323-496b-80db-034a988fc39a",
   "metadata": {},
   "outputs": [
    {
     "data": {
      "text/html": [
       "<div>\n",
       "<style scoped>\n",
       "    .dataframe tbody tr th:only-of-type {\n",
       "        vertical-align: middle;\n",
       "    }\n",
       "\n",
       "    .dataframe tbody tr th {\n",
       "        vertical-align: top;\n",
       "    }\n",
       "\n",
       "    .dataframe thead th {\n",
       "        text-align: right;\n",
       "    }\n",
       "</style>\n",
       "<table border=\"1\" class=\"dataframe\">\n",
       "  <thead>\n",
       "    <tr style=\"text-align: right;\">\n",
       "      <th></th>\n",
       "      <th>Gene</th>\n",
       "      <th>pval</th>\n",
       "      <th>adj_pval</th>\n",
       "    </tr>\n",
       "  </thead>\n",
       "  <tbody>\n",
       "    <tr>\n",
       "      <th>25540</th>\n",
       "      <td>216248_s_at</td>\n",
       "      <td>1.280883e-19</td>\n",
       "      <td>7.003229e-15</td>\n",
       "    </tr>\n",
       "    <tr>\n",
       "      <th>18284</th>\n",
       "      <td>208869_s_at</td>\n",
       "      <td>2.989947e-18</td>\n",
       "      <td>8.173767e-14</td>\n",
       "    </tr>\n",
       "    <tr>\n",
       "      <th>14069</th>\n",
       "      <td>204622_x_at</td>\n",
       "      <td>8.400521e-18</td>\n",
       "      <td>1.530995e-13</td>\n",
       "    </tr>\n",
       "    <tr>\n",
       "      <th>53304</th>\n",
       "      <td>244054_at</td>\n",
       "      <td>5.909667e-16</td>\n",
       "      <td>8.077776e-12</td>\n",
       "    </tr>\n",
       "    <tr>\n",
       "      <th>18283</th>\n",
       "      <td>208868_s_at</td>\n",
       "      <td>6.733958e-15</td>\n",
       "      <td>7.070679e-11</td>\n",
       "    </tr>\n",
       "    <tr>\n",
       "      <th>13021</th>\n",
       "      <td>203574_at</td>\n",
       "      <td>7.759318e-15</td>\n",
       "      <td>7.070679e-11</td>\n",
       "    </tr>\n",
       "    <tr>\n",
       "      <th>49352</th>\n",
       "      <td>240103_at</td>\n",
       "      <td>9.206444e-15</td>\n",
       "      <td>7.190890e-11</td>\n",
       "    </tr>\n",
       "    <tr>\n",
       "      <th>13335</th>\n",
       "      <td>203888_at</td>\n",
       "      <td>1.522553e-14</td>\n",
       "      <td>1.040570e-10</td>\n",
       "    </tr>\n",
       "    <tr>\n",
       "      <th>14068</th>\n",
       "      <td>204621_s_at</td>\n",
       "      <td>3.235876e-14</td>\n",
       "      <td>1.965794e-10</td>\n",
       "    </tr>\n",
       "    <tr>\n",
       "      <th>27844</th>\n",
       "      <td>218559_s_at</td>\n",
       "      <td>4.408196e-14</td>\n",
       "      <td>2.410181e-10</td>\n",
       "    </tr>\n",
       "  </tbody>\n",
       "</table>\n",
       "</div>"
      ],
      "text/plain": [
       "              Gene          pval      adj_pval\n",
       "25540  216248_s_at  1.280883e-19  7.003229e-15\n",
       "18284  208869_s_at  2.989947e-18  8.173767e-14\n",
       "14069  204622_x_at  8.400521e-18  1.530995e-13\n",
       "53304    244054_at  5.909667e-16  8.077776e-12\n",
       "18283  208868_s_at  6.733958e-15  7.070679e-11\n",
       "13021    203574_at  7.759318e-15  7.070679e-11\n",
       "49352    240103_at  9.206444e-15  7.190890e-11\n",
       "13335    203888_at  1.522553e-14  1.040570e-10\n",
       "14068  204621_s_at  3.235876e-14  1.965794e-10\n",
       "27844  218559_s_at  4.408196e-14  2.410181e-10"
      ]
     },
     "execution_count": 73,
     "metadata": {},
     "output_type": "execute_result"
    }
   ],
   "source": [
    "from statsmodels.stats.multitest import multipletests\n",
    "\n",
    "deg_results['adj_pval'] = multipletests(deg_results['pval'], method='fdr_bh')[1]\n",
    "deg_results.sort_values('adj_pval').head(10)\n"
   ]
  },
  {
   "cell_type": "code",
   "execution_count": 74,
   "id": "3f79a772-a840-4ac2-bd68-38ca3ac3fe49",
   "metadata": {},
   "outputs": [
    {
     "data": {
      "image/png": "[encoded data removed]",
      "text/plain": [
       "<Figure size 800x600 with 1 Axes>"
      ]
     },
     "metadata": {},
     "output_type": "display_data"
    }
   ],
   "source": [
    "# Calculate log2 fold change\n",
    "mean_control = controls.mean()\n",
    "mean_case = cases.mean()\n",
    "log2_fc = mean_case - mean_control\n",
    "deg_results['log2_fc'] = log2_fc.values\n",
    "\n",
    "import matplotlib.pyplot as plt\n",
    "import numpy as np\n",
    "\n",
    "plt.figure(figsize=(8,6))\n",
    "plt.scatter(deg_results['log2_fc'], -np.log10(deg_results['adj_pval']), alpha=0.5)\n",
    "plt.xlabel('Log2 Fold Change')\n",
    "plt.ylabel('-log10(adj p-value)')\n",
    "plt.title('Volcano Plot: Differential Expression (CVD)')\n",
    "plt.grid(True)\n",
    "plt.savefig('C:/Users/shrij/OneDrive/Desktop/GSE66360-GeneExpression-Analysis/results/VolcanoPlot.png')\n",
    "plt.show()\n"
   ]
  },
  {
   "cell_type": "code",
   "execution_count": 42,
   "id": "728eb961-c419-47aa-819e-ca40dd44c49d",
   "metadata": {},
   "outputs": [
    {
     "name": "stdout",
     "output_type": "stream",
     "text": [
      "25540     216248_s_at\n",
      "18284     208869_s_at\n",
      "14069     204622_x_at\n",
      "53304       244054_at\n",
      "18283     208868_s_at\n",
      "13021       203574_at\n",
      "49352       240103_at\n",
      "13335       203888_at\n",
      "14068     204621_s_at\n",
      "27844     218559_s_at\n",
      "32213     222934_s_at\n",
      "13334     203887_s_at\n",
      "50528       241279_at\n",
      "14355     204908_s_at\n",
      "15310       205863_at\n",
      "19821     210423_s_at\n",
      "2112     1555167_s_at\n",
      "20708     211372_s_at\n",
      "26489     217202_s_at\n",
      "29318       220034_at\n",
      "14850       205403_at\n",
      "13268       203821_at\n",
      "14514       205067_at\n",
      "8878       1568830_at\n",
      "19550     210146_x_at\n",
      "14067     204620_s_at\n",
      "14686       205239_at\n",
      "11411       201963_at\n",
      "14923       205476_at\n",
      "25307     216015_s_at\n",
      "54329        39402_at\n",
      "54090     244840_x_at\n",
      "19182     209774_x_at\n",
      "31011     221731_x_at\n",
      "20645     211302_s_at\n",
      "16720     207275_s_at\n",
      "20225     210845_s_at\n",
      "21232     211924_s_at\n",
      "41467       232213_at\n",
      "4137       1558299_at\n",
      "54263        37028_at\n",
      "19365       209959_at\n",
      "13798       204351_at\n",
      "25282     215990_s_at\n",
      "54302        38037_at\n",
      "13679       204232_at\n",
      "28718       219434_at\n",
      "34094       224836_at\n",
      "13300     203853_s_at\n",
      "49287       240038_at\n",
      "Name: Gene, dtype: object\n"
     ]
    }
   ],
   "source": [
    "top_genes = deg_results[deg_results['adj_pval'] < 0.05].sort_values('adj_pval').head(50)['Gene']\n",
    "top_genes.to_csv(\"top_de_genes.csv\", index=False)\n",
    "print(top_genes)\n"
   ]
  },
  {
   "cell_type": "code",
   "execution_count": 43,
   "id": "df5a3995-8d29-4c8c-9540-441c472bcc69",
   "metadata": {},
   "outputs": [
    {
     "name": "stdout",
     "output_type": "stream",
     "text": [
      "#ID = Affymetrix Probe Set ID\n",
      "#GB_ACC = GenBank Accession Number\n",
      "#SPOT_ID = identifies controls\n",
      "#Species Scientific Name = The genus and species of the organism represented by the probe set.\n",
      "#Annotation Date = The date that the annotations for this probe array were last updated. It will generally be earlier than the date when the annotations were posted on the Affymetrix web site.\n",
      "#Sequence Type =\n",
      "#Sequence Source = The database from which the sequence used to design this probe set was taken.\n",
      "#Target Description =\n",
      "#Representative Public ID = The accession number of a representative sequence. Note that for consensus-based probe sets, the representative sequence is only one of several sequences (sequence sub-clusters) used to build the consensus sequence and it is not directly used to derive the probe sequences. The representative sequence is chosen during array design as a sequence that is best associated with the transcribed region being interrogated by the probe set. Refer to the \"Sequence Source\" field to determine the database used.\n",
      "#Gene Title = Title of Gene represented by the probe set.\n",
      "#Gene Symbol = A gene symbol, when one is available (from UniGene).\n",
      "#ENTREZ_GENE_ID = Entrez Gene Database UID\n",
      "#RefSeq Transcript ID = References to multiple sequences in RefSeq. The field contains the ID and Description for each entry, and there can be multiple entries per ProbeSet.\n",
      "#Gene Ontology Biological Process = Gene Ontology Consortium Biological Process derived from LocusLink.  Each annotation consists of three parts: \"Accession Number // Description // Evidence\". The description corresponds directly to the GO ID. The evidence can be \"direct\", or \"extended\".\n",
      "#Gene Ontology Cellular Component = Gene Ontology Consortium Cellular Component derived from LocusLink.  Each annotation consists of three parts: \"Accession Number // Description // Evidence\". The description corresponds directly to the GO ID. The evidence can be \"direct\", or \"extended\".\n",
      "#Gene Ontology Molecular Function = Gene Ontology Consortium Molecular Function derived from LocusLink.  Each annotation consists of three parts: \"Accession Number // Description // Evidence\". The description corresponds directly to the GO ID. The evidence can be \"direct\", or \"extended\".\n",
      "ID\tGB_ACC\tSPOT_ID\tSpecies Scientific Name\tAnnotation Date\tSequence Type\tSequence Source\tTarget Description\tRepresentative Public ID\tGene Title\tGene Symbol\tENTREZ_GENE_ID\tRefSeq Transcript ID\tGene Ontology Biological Process\tGene Ontology Cellular Component\tGene Ontology Molecular Function\n",
      "1007_s_at\tU48705\t\tHomo sapiens\tOct 6, 2014\tExemplar sequence\tAffymetrix Proprietary Database\tU48705 /FEATURE=mRNA /DEFINITION=HSU48705 Human receptor tyrosine kinase DDR gene, complete cds\tU48705\tdiscoidin domain receptor tyrosine kinase 1 /// microRNA 4640\tDDR1 /// MIR4640\t780 /// 100616237\tNM_001202521 /// NM_001202522 /// NM_001202523 /// NM_001954 /// NM_013993 /// NM_013994 /// NR_039783 /// XM_005249385 /// XM_005249386 /// XM_005249387 /// XM_005249389 /// XM_005272873 /// XM_005272874 /// XM_005272875 /// XM_005272877 /// XM_005275027 /// XM_005275028 /// XM_005275030 /// XM_005275031 /// XM_005275162 /// XM_005275163 /// XM_005275164 /// XM_005275166 /// XM_005275457 /// XM_005275458 /// XM_005275459 /// XM_005275461 /// XM_006715185 /// XM_006715186 /// XM_006715187 /// XM_006715188 /// XM_006715189 /// XM_006715190 /// XM_006725501 /// XM_006725502 /// XM_006725503 /// XM_006725504 /// XM_006725505 /// XM_006725506 /// XM_006725714 /// XM_006725715 /// XM_006725716 /// XM_006725717 /// XM_006725718 /// XM_006725719 /// XM_006725720 /// XM_006725721 /// XM_006725722 /// XM_006725827 /// XM_006725828 /// XM_006725829 /// XM_006725830 /// XM_006725831 /// XM_006725832 /// XM_006726017 /// XM_006726018 /// XM_006726019 /// XM_006726020 /// XM_006726021 /// XM_006726022 /// XR_427836 /// XR_430858 /// XR_430938 /// XR_430974 /// XR_431015\t0001558 // regulation of cell growth // inferred from electronic annotation /// 0001952 // regulation of cell-matrix adhesion // inferred from electronic annotation /// 0006468 // protein phosphorylation // inferred from electronic annotation /// 0007155 // cell adhesion // traceable author statement /// 0007169 // transmembrane receptor protein tyrosine kinase signaling pathway // inferred from electronic annotation /// 0007565 // female pregnancy // inferred from electronic annotation /// 0007566 // embryo implantation // inferred from electronic annotation /// 0007595 // lactation // inferred from electronic annotation /// 0008285 // negative regulation of cell proliferation // inferred from electronic annotation /// 0010715 // regulation of extracellular matrix disassembly // inferred from mutant phenotype /// 0014909 // smooth muscle cell migration // inferred from mutant phenotype /// 0016310 // phosphorylation // inferred from electronic annotation /// 0018108 // peptidyl-tyrosine phosphorylation // inferred from electronic annotation /// 0030198 // extracellular matrix organization // traceable author statement /// 0038063 // collagen-activated tyrosine kinase receptor signaling pathway // inferred from direct assay /// 0038063 // collagen-activated tyrosine kinase receptor signaling pathway // inferred from mutant phenotype /// 0038083 // peptidyl-tyrosine autophosphorylation // inferred from direct assay /// 0043583 // ear development // inferred from electronic annotation /// 0044319 // wound healing, spreading of cells // inferred from mutant phenotype /// 0046777 // protein autophosphorylation // inferred from direct assay /// 0060444 // branching involved in mammary gland duct morphogenesis // inferred from electronic annotation /// 0060749 // mammary gland alveolus development // inferred from electronic annotation /// 0061302 // smooth muscle cell-matrix adhesion // inferred from mutant phenotype\t0005576 // extracellular region // inferred from electronic annotation /// 0005615 // extracellular space // inferred from direct assay /// 0005886 // plasma membrane // traceable author statement /// 0005887 // integral component of plasma membrane // traceable author statement /// 0016020 // membrane // inferred from electronic annotation /// 0016021 // integral component of membrane // inferred from electronic annotation /// 0043235 // receptor complex // inferred from direct assay /// 0070062 // extracellular vesicular exosome // inferred from direct assay\t0000166 // nucleotide binding // inferred from electronic annotation /// 0004672 // protein kinase activity // inferred from electronic annotation /// 0004713 // protein tyrosine kinase activity // inferred from electronic annotation /// 0004714 // transmembrane receptor protein tyrosine kinase activity // traceable author statement /// 0005515 // protein binding // inferred from physical interaction /// 0005518 // collagen binding // inferred from direct assay /// 0005518 // collagen binding // inferred from mutant phenotype /// 0005524 // ATP binding // inferred from electronic annotation /// 0016301 // kinase activity // inferred from electronic annotation /// 0016740 // transferase activity // inferred from electronic annotation /// 0016772 // transferase activity, transferring phosphorus-containing groups // inferred from electronic annotation /// 0038062 // protein tyrosine kinase collagen receptor activity // inferred from direct assay /// 0046872 // metal ion binding // inferred from electronic annotation\n",
      "1053_at\tM87338\t\tHomo sapiens\tOct 6, 2014\tExemplar sequence\tGenBank\tM87338 /FEATURE= /DEFINITION=HUMA1SBU Human replication factor C, 40-kDa subunit (A1) mRNA, complete cds\tM87338\treplication factor C (activator 1) 2, 40kDa\tRFC2\t5982\tNM_001278791 /// NM_001278792 /// NM_001278793 /// NM_002914 /// NM_181471 /// XM_006716080\t0000278 // mitotic cell cycle // traceable author statement /// 0000722 // telomere maintenance via recombination // traceable author statement /// 0000723 // telomere maintenance // traceable author statement /// 0006260 // DNA replication // traceable author statement /// 0006271 // DNA strand elongation involved in DNA replication // traceable author statement /// 0006281 // DNA repair // traceable author statement /// 0006283 // transcription-coupled nucleotide-excision repair // traceable author statement /// 0006289 // nucleotide-excision repair // traceable author statement /// 0006297 // nucleotide-excision repair, DNA gap filling // traceable author statement /// 0015979 // photosynthesis // inferred from electronic annotation /// 0015995 // chlorophyll biosynthetic process // inferred from electronic annotation /// 0032201 // telomere maintenance via semi-conservative replication // traceable author statement\t0005634 // nucleus // inferred from electronic annotation /// 0005654 // nucleoplasm // traceable author statement /// 0005663 // DNA replication factor C complex // inferred from direct assay\t0000166 // nucleotide binding // inferred from electronic annotation /// 0003677 // DNA binding // inferred from electronic annotation /// 0005515 // protein binding // inferred from physical interaction /// 0005524 // ATP binding // inferred from electronic annotation /// 0016851 // magnesium chelatase activity // inferred from electronic annotation /// 0017111 // nucleoside-triphosphatase activity // inferred from electronic annotation\n",
      "117_at\tX51757\t\tHomo sapiens\tOct 6, 2014\tExemplar sequence\tAffymetrix Proprietary Database\tX51757 /FEATURE=cds /DEFINITION=HSP70B Human heat-shock protein HSP70B' gene\tX51757\theat shock 70kDa protein 6 (HSP70B')\tHSPA6\t3310\tNM_002155\t0000902 // cell morphogenesis // inferred from electronic annotation /// 0006200 // ATP catabolic process // inferred from direct assay /// 0006950 // response to stress // inferred from electronic annotation /// 0006986 // response to unfolded protein // traceable author statement /// 0034605 // cellular response to heat // inferred from direct assay /// 0042026 // protein refolding // inferred from direct assay /// 0070370 // cellular heat acclimation // inferred from mutant phenotype\t0005737 // cytoplasm // inferred from direct assay /// 0005814 // centriole // inferred from direct assay /// 0005829 // cytosol // inferred from direct assay /// 0008180 // COP9 signalosome // inferred from direct assay /// 0070062 // extracellular vesicular exosome // inferred from direct assay /// 0072562 // blood microparticle // inferred from direct assay\t0000166 // nucleotide binding // inferred from electronic annotation /// 0005524 // ATP binding // inferred from electronic annotation /// 0019899 // enzyme binding // inferred from physical interaction /// 0031072 // heat shock protein binding // inferred from physical interaction /// 0042623 // ATPase activity, coupled // inferred from direct assay /// 0051082 // unfolded protein binding // inferred from direct assay\n"
     ]
    }
   ],
   "source": [
    "with open(\"GPL570-55999.txt\") as f:\n",
    "    for _ in range(20):\n",
    "        print(f.readline().strip())\n"
   ]
  },
  {
   "cell_type": "code",
   "execution_count": 45,
   "id": "68b4cec8-8323-4da4-b07d-7f6fc0201c84",
   "metadata": {},
   "outputs": [
    {
     "name": "stdout",
     "output_type": "stream",
     "text": [
      "#ID = Affymetrix Probe Set ID\n",
      "#GB_ACC = GenBank Accession Number\n",
      "#SPOT_ID = identifies controls\n",
      "#Species Scientific Name = The genus and species of the organism represented by the probe set.\n",
      "#Annotation Date = The date that the annotations for this probe array were last updated. It will generally be earlier than the date when the annotations were posted on the Affymetrix web site.\n",
      "#Sequence Type =\n",
      "#Sequence Source = The database from which the sequence used to design this probe set was taken.\n",
      "#Target Description =\n",
      "#Representative Public ID = The accession number of a representative sequence. Note that for consensus-based probe sets, the representative sequence is only one of several sequences (sequence sub-clusters) used to build the consensus sequence and it is not directly used to derive the probe sequences. The representative sequence is chosen during array design as a sequence that is best associated with the transcribed region being interrogated by the probe set. Refer to the \"Sequence Source\" field to determine the database used.\n",
      "#Gene Title = Title of Gene represented by the probe set.\n",
      "#Gene Symbol = A gene symbol, when one is available (from UniGene).\n",
      "#ENTREZ_GENE_ID = Entrez Gene Database UID\n",
      "#RefSeq Transcript ID = References to multiple sequences in RefSeq. The field contains the ID and Description for each entry, and there can be multiple entries per ProbeSet.\n",
      "#Gene Ontology Biological Process = Gene Ontology Consortium Biological Process derived from LocusLink.  Each annotation consists of three parts: \"Accession Number // Description // Evidence\". The description corresponds directly to the GO ID. The evidence can be \"direct\", or \"extended\".\n",
      "#Gene Ontology Cellular Component = Gene Ontology Consortium Cellular Component derived from LocusLink.  Each annotation consists of three parts: \"Accession Number // Description // Evidence\". The description corresponds directly to the GO ID. The evidence can be \"direct\", or \"extended\".\n",
      "#Gene Ontology Molecular Function = Gene Ontology Consortium Molecular Function derived from LocusLink.  Each annotation consists of three parts: \"Accession Number // Description // Evidence\". The description corresponds directly to the GO ID. The evidence can be \"direct\", or \"extended\".\n",
      "ID\tGB_ACC\tSPOT_ID\tSpecies Scientific Name\tAnnotation Date\tSequence Type\tSequence Source\tTarget Description\tRepresentative Public ID\tGene Title\tGene Symbol\tENTREZ_GENE_ID\tRefSeq Transcript ID\tGene Ontology Biological Process\tGene Ontology Cellular Component\tGene Ontology Molecular Function\n",
      "1007_s_at\tU48705\t\tHomo sapiens\tOct 6, 2014\tExemplar sequence\tAffymetrix Proprietary Database\tU48705 /FEATURE=mRNA /DEFINITION=HSU48705 Human receptor tyrosine kinase DDR gene, complete cds\tU48705\tdiscoidin domain receptor tyrosine kinase 1 /// microRNA 4640\tDDR1 /// MIR4640\t780 /// 100616237\tNM_001202521 /// NM_001202522 /// NM_001202523 /// NM_001954 /// NM_013993 /// NM_013994 /// NR_039783 /// XM_005249385 /// XM_005249386 /// XM_005249387 /// XM_005249389 /// XM_005272873 /// XM_005272874 /// XM_005272875 /// XM_005272877 /// XM_005275027 /// XM_005275028 /// XM_005275030 /// XM_005275031 /// XM_005275162 /// XM_005275163 /// XM_005275164 /// XM_005275166 /// XM_005275457 /// XM_005275458 /// XM_005275459 /// XM_005275461 /// XM_006715185 /// XM_006715186 /// XM_006715187 /// XM_006715188 /// XM_006715189 /// XM_006715190 /// XM_006725501 /// XM_006725502 /// XM_006725503 /// XM_006725504 /// XM_006725505 /// XM_006725506 /// XM_006725714 /// XM_006725715 /// XM_006725716 /// XM_006725717 /// XM_006725718 /// XM_006725719 /// XM_006725720 /// XM_006725721 /// XM_006725722 /// XM_006725827 /// XM_006725828 /// XM_006725829 /// XM_006725830 /// XM_006725831 /// XM_006725832 /// XM_006726017 /// XM_006726018 /// XM_006726019 /// XM_006726020 /// XM_006726021 /// XM_006726022 /// XR_427836 /// XR_430858 /// XR_430938 /// XR_430974 /// XR_431015\t0001558 // regulation of cell growth // inferred from electronic annotation /// 0001952 // regulation of cell-matrix adhesion // inferred from electronic annotation /// 0006468 // protein phosphorylation // inferred from electronic annotation /// 0007155 // cell adhesion // traceable author statement /// 0007169 // transmembrane receptor protein tyrosine kinase signaling pathway // inferred from electronic annotation /// 0007565 // female pregnancy // inferred from electronic annotation /// 0007566 // embryo implantation // inferred from electronic annotation /// 0007595 // lactation // inferred from electronic annotation /// 0008285 // negative regulation of cell proliferation // inferred from electronic annotation /// 0010715 // regulation of extracellular matrix disassembly // inferred from mutant phenotype /// 0014909 // smooth muscle cell migration // inferred from mutant phenotype /// 0016310 // phosphorylation // inferred from electronic annotation /// 0018108 // peptidyl-tyrosine phosphorylation // inferred from electronic annotation /// 0030198 // extracellular matrix organization // traceable author statement /// 0038063 // collagen-activated tyrosine kinase receptor signaling pathway // inferred from direct assay /// 0038063 // collagen-activated tyrosine kinase receptor signaling pathway // inferred from mutant phenotype /// 0038083 // peptidyl-tyrosine autophosphorylation // inferred from direct assay /// 0043583 // ear development // inferred from electronic annotation /// 0044319 // wound healing, spreading of cells // inferred from mutant phenotype /// 0046777 // protein autophosphorylation // inferred from direct assay /// 0060444 // branching involved in mammary gland duct morphogenesis // inferred from electronic annotation /// 0060749 // mammary gland alveolus development // inferred from electronic annotation /// 0061302 // smooth muscle cell-matrix adhesion // inferred from mutant phenotype\t0005576 // extracellular region // inferred from electronic annotation /// 0005615 // extracellular space // inferred from direct assay /// 0005886 // plasma membrane // traceable author statement /// 0005887 // integral component of plasma membrane // traceable author statement /// 0016020 // membrane // inferred from electronic annotation /// 0016021 // integral component of membrane // inferred from electronic annotation /// 0043235 // receptor complex // inferred from direct assay /// 0070062 // extracellular vesicular exosome // inferred from direct assay\t0000166 // nucleotide binding // inferred from electronic annotation /// 0004672 // protein kinase activity // inferred from electronic annotation /// 0004713 // protein tyrosine kinase activity // inferred from electronic annotation /// 0004714 // transmembrane receptor protein tyrosine kinase activity // traceable author statement /// 0005515 // protein binding // inferred from physical interaction /// 0005518 // collagen binding // inferred from direct assay /// 0005518 // collagen binding // inferred from mutant phenotype /// 0005524 // ATP binding // inferred from electronic annotation /// 0016301 // kinase activity // inferred from electronic annotation /// 0016740 // transferase activity // inferred from electronic annotation /// 0016772 // transferase activity, transferring phosphorus-containing groups // inferred from electronic annotation /// 0038062 // protein tyrosine kinase collagen receptor activity // inferred from direct assay /// 0046872 // metal ion binding // inferred from electronic annotation\n",
      "1053_at\tM87338\t\tHomo sapiens\tOct 6, 2014\tExemplar sequence\tGenBank\tM87338 /FEATURE= /DEFINITION=HUMA1SBU Human replication factor C, 40-kDa subunit (A1) mRNA, complete cds\tM87338\treplication factor C (activator 1) 2, 40kDa\tRFC2\t5982\tNM_001278791 /// NM_001278792 /// NM_001278793 /// NM_002914 /// NM_181471 /// XM_006716080\t0000278 // mitotic cell cycle // traceable author statement /// 0000722 // telomere maintenance via recombination // traceable author statement /// 0000723 // telomere maintenance // traceable author statement /// 0006260 // DNA replication // traceable author statement /// 0006271 // DNA strand elongation involved in DNA replication // traceable author statement /// 0006281 // DNA repair // traceable author statement /// 0006283 // transcription-coupled nucleotide-excision repair // traceable author statement /// 0006289 // nucleotide-excision repair // traceable author statement /// 0006297 // nucleotide-excision repair, DNA gap filling // traceable author statement /// 0015979 // photosynthesis // inferred from electronic annotation /// 0015995 // chlorophyll biosynthetic process // inferred from electronic annotation /// 0032201 // telomere maintenance via semi-conservative replication // traceable author statement\t0005634 // nucleus // inferred from electronic annotation /// 0005654 // nucleoplasm // traceable author statement /// 0005663 // DNA replication factor C complex // inferred from direct assay\t0000166 // nucleotide binding // inferred from electronic annotation /// 0003677 // DNA binding // inferred from electronic annotation /// 0005515 // protein binding // inferred from physical interaction /// 0005524 // ATP binding // inferred from electronic annotation /// 0016851 // magnesium chelatase activity // inferred from electronic annotation /// 0017111 // nucleoside-triphosphatase activity // inferred from electronic annotation\n",
      "117_at\tX51757\t\tHomo sapiens\tOct 6, 2014\tExemplar sequence\tAffymetrix Proprietary Database\tX51757 /FEATURE=cds /DEFINITION=HSP70B Human heat-shock protein HSP70B' gene\tX51757\theat shock 70kDa protein 6 (HSP70B')\tHSPA6\t3310\tNM_002155\t0000902 // cell morphogenesis // inferred from electronic annotation /// 0006200 // ATP catabolic process // inferred from direct assay /// 0006950 // response to stress // inferred from electronic annotation /// 0006986 // response to unfolded protein // traceable author statement /// 0034605 // cellular response to heat // inferred from direct assay /// 0042026 // protein refolding // inferred from direct assay /// 0070370 // cellular heat acclimation // inferred from mutant phenotype\t0005737 // cytoplasm // inferred from direct assay /// 0005814 // centriole // inferred from direct assay /// 0005829 // cytosol // inferred from direct assay /// 0008180 // COP9 signalosome // inferred from direct assay /// 0070062 // extracellular vesicular exosome // inferred from direct assay /// 0072562 // blood microparticle // inferred from direct assay\t0000166 // nucleotide binding // inferred from electronic annotation /// 0005524 // ATP binding // inferred from electronic annotation /// 0019899 // enzyme binding // inferred from physical interaction /// 0031072 // heat shock protein binding // inferred from physical interaction /// 0042623 // ATPase activity, coupled // inferred from direct assay /// 0051082 // unfolded protein binding // inferred from direct assay\n",
      "121_at\tX69699\t\tHomo sapiens\tOct 6, 2014\tExemplar sequence\tGenBank\tX69699 /FEATURE= /DEFINITION=HSPAX8A H.sapiens Pax8 mRNA\tX69699\tpaired box 8\tPAX8\t7849\tNM_003466 /// NM_013951 /// NM_013952 /// NM_013953 /// NM_013992\t0001655 // urogenital system development // inferred from sequence or structural similarity /// 0001656 // metanephros development // inferred from electronic annotation /// 0001658 // branching involved in ureteric bud morphogenesis // inferred from expression pattern /// 0001822 // kidney development // inferred from expression pattern /// 0001823 // mesonephros development // inferred from sequence or structural similarity /// 0003337 // mesenchymal to epithelial transition involved in metanephros morphogenesis // inferred from expression pattern /// 0006351 // transcription, DNA-templated // inferred from direct assay /// 0006355 // regulation of transcription, DNA-templated // inferred from electronic annotation /// 0007275 // multicellular organismal development // inferred from electronic annotation /// 0007417 // central nervous system development // inferred from expression pattern /// 0009653 // anatomical structure morphogenesis // traceable author statement /// 0030154 // cell differentiation // inferred from electronic annotation /// 0030878 // thyroid gland development // inferred from expression pattern /// 0030878 // thyroid gland development // inferred from mutant phenotype /// 0038194 // thyroid-stimulating hormone signaling pathway // traceable author statement /// 0039003 // pronephric field specification // inferred from sequence or structural similarity /// 0042472 // inner ear morphogenesis // inferred from sequence or structural similarity /// 0042981 // regulation of apoptotic process // inferred from sequence or structural similarity /// 0045893 // positive regulation of transcription, DNA-templated // inferred from direct assay /// 0045893 // positive regulation of transcription, DNA-templated // inferred from sequence or structural similarity /// 0045944 // positive regulation of transcription from RNA polymerase II promoter // inferred from direct assay /// 0048793 // pronephros development // inferred from sequence or structural similarity /// 0071371 // cellular response to gonadotropin stimulus // inferred from direct assay /// 0071599 // otic vesicle development // inferred from expression pattern /// 0072050 // S-shaped body morphogenesis // inferred from electronic annotation /// 0072073 // kidney epithelium development // inferred from electronic annotation /// 0072108 // positive regulation of mesenchymal to epithelial transition involved in metanephros morphogenesis // inferred from sequence or structural similarity /// 0072164 // mesonephric tubule development // inferred from electronic annotation /// 0072207 // metanephric epithelium development // inferred from expression pattern /// 0072221 // metanephric distal convoluted tubule development // inferred from sequence or structural similarity /// 0072278 // metanephric comma-shaped body morphogenesis // inferred from expression pattern /// 0072284 // metanephric S-shaped body morphogenesis // inferred from expression pattern /// 0072289 // metanephric nephron tubule formation // inferred from sequence or structural similarity /// 0072305 // negative regulation of mesenchymal cell apoptotic process involved in metanephric nephron morphogenesis // inferred from sequence or structural similarity /// 0072307 // regulation of metanephric nephron tubule epithelial cell differentiation // inferred from sequence or structural similarity /// 0090190 // positive regulation of branching involved in ureteric bud morphogenesis // inferred from sequence or structural similarity /// 1900212 // negative regulation of mesenchymal cell apoptotic process involved in metanephros development // inferred from sequence or structural similarity /// 1900215 // negative regulation of apoptotic process involved in metanephric collecting duct development // inferred from sequence or structural similarity /// 1900218 // negative regulation of apoptotic process involved in metanephric nephron tubule development // inferred from sequence or structural similarity /// 2000594 // positive regulation of metanephric DCT cell differentiation // inferred from sequence or structural similarity /// 2000611 // positive regulation of thyroid hormone generation // inferred from mutant phenotype /// 2000612 // regulation of thyroid-stimulating hormone secretion // inferred from mutant phenotype\t0005634 // nucleus // inferred from direct assay /// 0005654 // nucleoplasm // inferred from sequence or structural similarity /// 0005730 // nucleolus // inferred from direct assay\t0000979 // RNA polymerase II core promoter sequence-specific DNA binding // inferred from direct assay /// 0003677 // DNA binding // inferred from direct assay /// 0003677 // DNA binding // inferred from mutant phenotype /// 0003700 // sequence-specific DNA binding transcription factor activity // inferred from direct assay /// 0004996 // thyroid-stimulating hormone receptor activity // traceable author statement /// 0005515 // protein binding // inferred from physical interaction /// 0044212 // transcription regulatory region DNA binding // inferred from direct assay\n",
      "1255_g_at\tL36861\t\tHomo sapiens\tOct 6, 2014\tExemplar sequence\tAffymetrix Proprietary Database\tL36861 /FEATURE=expanded_cds /DEFINITION=HUMGCAPB Homo sapiens guanylate cyclase activating protein (GCAP) gene exons 1-4, complete cds\tL36861\tguanylate cyclase activator 1A (retina)\tGUCA1A\t2978\tNM_000409 /// XM_006715073\t0007165 // signal transduction // non-traceable author statement /// 0007601 // visual perception // inferred from electronic annotation /// 0007602 // phototransduction // inferred from electronic annotation /// 0007603 // phototransduction, visible light // traceable author statement /// 0016056 // rhodopsin mediated signaling pathway // traceable author statement /// 0022400 // regulation of rhodopsin mediated signaling pathway // traceable author statement /// 0030828 // positive regulation of cGMP biosynthetic process // inferred from electronic annotation /// 0031282 // regulation of guanylate cyclase activity // inferred from electronic annotation /// 0031284 // positive regulation of guanylate cyclase activity // inferred from electronic annotation /// 0050896 // response to stimulus // inferred from electronic annotation\t0001750 // photoreceptor outer segment // inferred from electronic annotation /// 0001917 // photoreceptor inner segment // inferred from electronic annotation /// 0005578 // proteinaceous extracellular matrix // inferred from electronic annotation /// 0005886 // plasma membrane // inferred from direct assay /// 0016020 // membrane // inferred from electronic annotation /// 0097381 // photoreceptor disc membrane // traceable author statement\t0005509 // calcium ion binding // inferred from electronic annotation /// 0008048 // calcium sensitive guanylate cyclase activator activity // inferred from electronic annotation /// 0030249 // guanylate cyclase regulator activity // inferred from electronic annotation /// 0046872 // metal ion binding // inferred from electronic annotation\n",
      "1294_at\tL13852\t\tHomo sapiens\tOct 6, 2014\tExemplar sequence\tGenBank\tL13852 /FEATURE= /DEFINITION=HUME1URP Homo sapiens ubiquitin-activating enzyme E1 related protein mRNA, complete cds\tL13852\tmicroRNA 5193 /// ubiquitin-like modifier activating enzyme 7\tMIR5193 /// UBA7\t7318 /// 100847079\tNM_003335 /// NR_049825 /// XM_005265430 /// XM_006713321\t0006464 // cellular protein modification process // inferred from direct assay /// 0016567 // protein ubiquitination // not recorded /// 0016567 // protein ubiquitination // inferred from electronic annotation /// 0019221 // cytokine-mediated signaling pathway // traceable author statement /// 0019941 // modification-dependent protein catabolic process // not recorded /// 0032020 // ISG15-protein conjugation // inferred from direct assay /// 0032480 // negative regulation of type I interferon production // traceable author statement /// 0045087 // innate immune response // traceable author statement\t0005634 // nucleus // not recorded /// 0005829 // cytosol // not recorded /// 0005829 // cytosol // traceable author statement\t0000166 // nucleotide binding // inferred from electronic annotation /// 0003824 // catalytic activity // inferred from electronic annotation /// 0004839 // ubiquitin activating enzyme activity // not recorded /// 0004842 // ubiquitin-protein transferase activity // not recorded /// 0005524 // ATP binding // inferred from electronic annotation /// 0008641 // small protein activating enzyme activity // inferred from electronic annotation /// 0016874 // ligase activity // inferred from electronic annotation /// 0019782 // ISG15 activating enzyme activity // inferred from direct assay\n",
      "1316_at\tX55005\t\tHomo sapiens\tOct 6, 2014\tExemplar sequence\tAffymetrix Proprietary Database\tX55005 /FEATURE=mRNA /DEFINITION=HSCERBAR Homo sapiens mRNA for thyroid hormone receptor alpha 1 THRA1, (c-erbA-1 gene)\tX55005\tthyroid hormone receptor, alpha\tTHRA\t7067\tNM_001190918 /// NM_001190919 /// NM_003250 /// NM_199334\t0000122 // negative regulation of transcription from RNA polymerase II promoter // inferred from direct assay /// 0000122 // negative regulation of transcription from RNA polymerase II promoter // inferred from mutant phenotype /// 0001502 // cartilage condensation // inferred from electronic annotation /// 0001503 // ossification // inferred from electronic annotation /// 0002155 // regulation of thyroid hormone mediated signaling pathway // inferred from electronic annotation /// 0005978 // glycogen biosynthetic process // inferred from sequence or structural similarity /// 0006351 // transcription, DNA-templated // inferred from electronic annotation /// 0006355 // regulation of transcription, DNA-templated // inferred from electronic annotation /// 0006357 // regulation of transcription from RNA polymerase II promoter // inferred from direct assay /// 0006366 // transcription from RNA polymerase II promoter // inferred from direct assay /// 0006367 // transcription initiation from RNA polymerase II promoter // traceable author statement /// 0007611 // learning or memory // inferred from electronic annotation /// 0007623 // circadian rhythm // inferred from electronic annotation /// 0008016 // regulation of heart contraction // inferred from electronic annotation /// 0008050 // female courtship behavior // inferred from electronic annotation /// 0009409 // response to cold // inferred from electronic annotation /// 0009755 // hormone-mediated signaling pathway // inferred from direct assay /// 0009887 // organ morphogenesis // inferred from electronic annotation /// 0010467 // gene expression // traceable author statement /// 0010498 // proteasomal protein catabolic process // inferred from sequence or structural similarity /// 0010831 // positive regulation of myotube differentiation // inferred from electronic annotation /// 0010871 // negative regulation of receptor biosynthetic process // inferred from mutant phenotype /// 0017055 // negative regulation of RNA polymerase II transcriptional preinitiation complex assembly // inferred from direct assay /// 0019216 // regulation of lipid metabolic process // inferred from sequence or structural similarity /// 0030154 // cell differentiation // inferred from electronic annotation /// 0030218 // erythrocyte differentiation // inferred from electronic annotation /// 0030522 // intracellular receptor signaling pathway // inferred from electronic annotation /// 0030878 // thyroid gland development // inferred from electronic annotation /// 0032922 // circadian regulation of gene expression // inferred from sequence or structural similarity /// 0033032 // regulation of myeloid cell apoptotic process // inferred from electronic annotation /// 0034144 // negative regulation of toll-like receptor 4 signaling pathway // inferred from mutant phenotype /// 0035947 // regulation of gluconeogenesis by regulation of transcription from RNA polymerase II promoter // inferred from mutant phenotype /// 0042752 // regulation of circadian rhythm // inferred from sequence or structural similarity /// 0042994 // cytoplasmic sequestering of transcription factor // inferred from electronic annotation /// 0043401 // steroid hormone mediated signaling pathway // inferred from electronic annotation /// 0044321 // response to leptin // inferred from sequence or structural similarity /// 0045598 // regulation of fat cell differentiation // inferred from sequence or structural similarity /// 0045892 // negative regulation of transcription, DNA-templated // inferred from direct assay /// 0045893 // positive regulation of transcription, DNA-templated // inferred from sequence or structural similarity /// 0045925 // positive regulation of female receptivity // inferred from electronic annotation /// 0045944 // positive regulation of transcription from RNA polymerase II promoter // inferred from electronic annotation /// 0048511 // rhythmic process // inferred from electronic annotation /// 0050994 // regulation of lipid catabolic process // inferred from electronic annotation /// 0060086 // circadian temperature homeostasis // inferred from sequence or structural similarity /// 0060509 // Type I pneumocyte differentiation // inferred from electronic annotation /// 0061178 // regulation of insulin secretion involved in cellular response to glucose stimulus // inferred from sequence or structural similarity /// 0061469 // regulation of type B pancreatic cell proliferation // inferred from sequence or structural similarity /// 0070859 // positive regulation of bile acid biosynthetic process // inferred from sequence or structural similarity /// 0071222 // cellular response to lipopolysaccharide // inferred from mutant phenotype /// 2000143 // negative regulation of DNA-templated transcription, initiation // inferred from direct assay /// 2000188 // regulation of cholesterol homeostasis // inferred from sequence or structural similarity /// 2000189 // positive regulation of cholesterol homeostasis // inferred from direct assay\t0000790 // nuclear chromatin // inferred from direct assay /// 0005634 // nucleus // inferred from direct assay /// 0005654 // nucleoplasm // traceable author statement /// 0005737 // cytoplasm // inferred from electronic annotation /// 0005737 // cytoplasm // inferred from sequence or structural similarity /// 0005829 // cytosol // inferred from direct assay /// 0030425 // dendrite // inferred from electronic annotation /// 0030425 // dendrite // inferred from sequence or structural similarity /// 0042995 // cell projection // inferred from electronic annotation /// 0043197 // dendritic spine // inferred from electronic annotation /// 0043197 // dendritic spine // inferred from sequence or structural similarity\t0000978 // RNA polymerase II core promoter proximal region sequence-specific DNA binding // inferred from mutant phenotype /// 0001046 // core promoter sequence-specific DNA binding // inferred from direct assay /// 0001078 // RNA polymerase II core promoter proximal region sequence-specific DNA binding transcription factor activity involved in negative regulation of transcription // inferred from direct assay /// 0001222 // transcription corepressor binding // inferred from direct assay /// 0001222 // transcription corepressor binding // inferred from mutant phenotype /// 0002153 // steroid receptor RNA activator RNA binding // inferred from electronic annotation /// 0003677 // DNA binding // inferred from electronic annotation /// 0003700 // sequence-specific DNA binding transcription factor activity // inferred from direct assay /// 0003707 // steroid hormone receptor activity // inferred from electronic annotation /// 0003714 // transcription corepressor activity // traceable author statement /// 0003727 // single-stranded RNA binding // inferred from electronic annotation /// 0004879 // ligand-activated sequence-specific DNA binding RNA polymerase II transcription factor activity // traceable author statement /// 0004879 // ligand-activated sequence-specific DNA binding RNA polymerase II transcription factor activity // inferred from electronic annotation /// 0004887 // thyroid hormone receptor activity // inferred from direct assay /// 0005515 // protein binding // inferred from physical interaction /// 0008134 // transcription factor binding // inferred from physical interaction /// 0008270 // zinc ion binding // inferred from electronic annotation /// 0017025 // TBP-class protein binding // inferred from direct assay /// 0019904 // protein domain specific binding // inferred from physical interaction /// 0020037 // heme binding // inferred from direct assay /// 0031490 // chromatin DNA binding // inferred from electronic annotation /// 0032403 // protein complex binding // inferred from electronic annotation /// 0043565 // sequence-specific DNA binding // inferred from electronic annotation /// 0044212 // transcription regulatory region DNA binding // inferred from direct assay /// 0046872 // metal ion binding // inferred from electronic annotation /// 0070324 // thyroid hormone binding // inferred from direct assay /// 0070324 // thyroid hormone binding // inferred from physical interaction\n",
      "1320_at\tX79510\t\tHomo sapiens\tOct 6, 2014\tExemplar sequence\tAffymetrix Proprietary Database\tX79510 /FEATURE=cds /DEFINITION=HSPTPD1 H.sapiens mRNA for protein-tyrosine-phosphatase D1\tX79510\tprotein tyrosine phosphatase, non-receptor type 21\tPTPN21\t11099\tNM_007039 /// XM_005267287 /// XM_006720011\t0006470 // protein dephosphorylation // traceable author statement /// 0016311 // dephosphorylation // inferred from electronic annotation /// 0035335 // peptidyl-tyrosine dephosphorylation // inferred from electronic annotation /// 0035335 // peptidyl-tyrosine dephosphorylation // traceable author statement\t0005737 // cytoplasm // inferred from electronic annotation /// 0005856 // cytoskeleton // inferred from electronic annotation\t0004721 // phosphoprotein phosphatase activity // inferred from electronic annotation /// 0004725 // protein tyrosine phosphatase activity // inferred from electronic annotation /// 0005515 // protein binding // inferred from physical interaction /// 0016787 // hydrolase activity // inferred from electronic annotation /// 0016791 // phosphatase activity // inferred from electronic annotation\n",
      "1405_i_at\tM21121\t\tHomo sapiens\tOct 6, 2014\tExemplar sequence\tGenBank\tM21121 /FEATURE= /DEFINITION=HUMTCSM Human T cell-specific protein (RANTES) mRNA, complete cds\tM21121\tchemokine (C-C motif) ligand 5\tCCL5\t6352\tNM_001278736 /// NM_002985\t0000165 // MAPK cascade // inferred from mutant phenotype /// 0002407 // dendritic cell chemotaxis // traceable author statement /// 0002548 // monocyte chemotaxis // inferred by curator /// 0002676 // regulation of chronic inflammatory response // traceable author statement /// 0006468 // protein phosphorylation // inferred from direct assay /// 0006816 // calcium ion transport // inferred from direct assay /// 0006874 // cellular calcium ion homeostasis // inferred from direct assay /// 0006887 // exocytosis // inferred from direct assay /// 0006935 // chemotaxis // non-traceable author statement /// 0006954 // inflammatory response // inferred from direct assay /// 0006955 // immune response // inferred from electronic annotation /// 0007159 // leukocyte cell-cell adhesion // inferred from direct assay /// 0007267 // cell-cell signaling // inferred from direct assay /// 0009615 // response to virus // traceable author statement /// 0009636 // response to toxic substance // inferred from direct assay /// 0010535 // positive regulation of activation of JAK2 kinase activity // traceable author statement /// 0010759 // positive regulation of macrophage chemotaxis // inferred from direct assay /// 0010820 // positive regulation of T cell chemotaxis // inferred from direct assay /// 0014068 // positive regulation of phosphatidylinositol 3-kinase signaling // inferred from direct assay /// 0014911 // positive regulation of smooth muscle cell migration // inferred from direct assay /// 0030335 // positive regulation of cell migration // inferred from direct assay /// 0031328 // positive regulation of cellular biosynthetic process // inferred from direct assay /// 0031584 // activation of phospholipase D activity // inferred from direct assay /// 0031663 // lipopolysaccharide-mediated signaling pathway // inferred from direct assay /// 0033634 // positive regulation of cell-cell adhesion mediated by integrin // inferred from direct assay /// 0034097 // response to cytokine // inferred from electronic annotation /// 0034112 // positive regulation of homotypic cell-cell adhesion // inferred from direct assay /// 0034612 // response to tumor necrosis factor // inferred from electronic annotation /// 0042102 // positive regulation of T cell proliferation // inferred from direct assay /// 0042119 // neutrophil activation // inferred from direct assay /// 0042327 // positive regulation of phosphorylation // inferred from direct assay /// 0042531 // positive regulation of tyrosine phosphorylation of STAT protein // inferred from direct assay /// 0043491 // protein kinase B signaling // inferred from mutant phenotype /// 0043623 // cellular protein complex assembly // inferred from direct assay /// 0043922 // negative regulation by host of viral transcription // inferred from direct assay /// 0044344 // cellular response to fibroblast growth factor stimulus // inferred from expression pattern /// 0045070 // positive regulation of viral genome replication // traceable author statement /// 0045071 // negative regulation of viral genome replication // inferred from direct assay /// 0045089 // positive regulation of innate immune response // traceable author statement /// 0045744 // negative regulation of G-protein coupled receptor protein signaling pathway // inferred from direct assay /// 0045785 // positive regulation of cell adhesion // inferred from direct assay /// 0045948 // positive regulation of translational initiation // non-traceable author statement /// 0046427 // positive regulation of JAK-STAT cascade // traceable author statement /// 0048245 // eosinophil chemotaxis // inferred from direct assay /// 0048246 // macrophage chemotaxis // traceable author statement /// 0048661 // positive regulation of smooth muscle cell proliferation // inferred from direct assay /// 0050679 // positive regulation of epithelial cell proliferation // inferred from electronic annotation /// 0050863 // regulation of T cell activation // inferred from direct assay /// 0050918 // positive chemotaxis // inferred from direct assay /// 0051262 // protein tetramerization // inferred from direct assay /// 0051928 // positive regulation of calcium ion transport // inferred from direct assay /// 0060326 // cell chemotaxis // inferred from electronic annotation /// 0061098 // positive regulation of protein tyrosine kinase activity // inferred from direct assay /// 0070098 // chemokine-mediated signaling pathway // traceable author statement /// 0070100 // negative regulation of chemokine-mediated signaling pathway // inferred from direct assay /// 0070233 // negative regulation of T cell apoptotic process // inferred from direct assay /// 0070234 // positive regulation of T cell apoptotic process // inferred from direct assay /// 0071346 // cellular response to interferon-gamma // inferred from expression pattern /// 0071347 // cellular response to interleukin-1 // inferred from expression pattern /// 0071356 // cellular response to tumor necrosis factor // inferred from expression pattern /// 0071407 // cellular response to organic cyclic compound // inferred from direct assay /// 0090026 // positive regulation of monocyte chemotaxis // inferred from direct assay /// 2000110 // negative regulation of macrophage apoptotic process // inferred from electronic annotation /// 2000406 // positive regulation of T cell migration // inferred from direct assay /// 2000503 // positive regulation of natural killer cell chemotaxis // inferred from direct assay\t0005576 // extracellular region // traceable author statement /// 0005615 // extracellular space // inferred from electronic annotation /// 0005737 // cytoplasm // inferred from electronic annotation\t0004435 // phosphatidylinositol phospholipase C activity // inferred from direct assay /// 0004672 // protein kinase activity // inferred from direct assay /// 0005125 // cytokine activity // inferred from electronic annotation /// 0005515 // protein binding // inferred from physical interaction /// 0008009 // chemokine activity // inferred from direct assay /// 0008009 // chemokine activity // non-traceable author statement /// 0016004 // phospholipase activator activity // inferred from direct assay /// 0030298 // receptor signaling protein tyrosine kinase activator activity // inferred from direct assay /// 0031726 // CCR1 chemokine receptor binding // inferred from direct assay /// 0031726 // CCR1 chemokine receptor binding // inferred from physical interaction /// 0031726 // CCR1 chemokine receptor binding // traceable author statement /// 0031729 // CCR4 chemokine receptor binding // traceable author statement /// 0031730 // CCR5 chemokine receptor binding // inferred from physical interaction /// 0042056 // chemoattractant activity // inferred from direct assay /// 0042379 // chemokine receptor binding // inferred from physical interaction /// 0042803 // protein homodimerization activity // inferred from direct assay /// 0043621 // protein self-association // inferred from direct assay /// 0046817 // chemokine receptor antagonist activity // inferred from direct assay\n",
      "1431_at\tJ02843\t\tHomo sapiens\tOct 6, 2014\tExemplar sequence\tAffymetrix Proprietary Database\tJ02843 /FEATURE=cds /DEFINITION=HUMCYPIIE Human cytochrome P450IIE1 (ethanol-inducible) gene, complete cds\tJ02843\tcytochrome P450, family 2, subfamily E, polypeptide 1\tCYP2E1\t1571\tNM_000773\t0006641 // triglyceride metabolic process // inferred from electronic annotation /// 0006805 // xenobiotic metabolic process // traceable author statement /// 0008202 // steroid metabolic process // inferred from mutant phenotype /// 0010193 // response to ozone // inferred from electronic annotation /// 0010243 // response to organonitrogen compound // inferred from electronic annotation /// 0016098 // monoterpenoid metabolic process // inferred from direct assay /// 0017144 // drug metabolic process // inferred from direct assay /// 0017144 // drug metabolic process // inferred from mutant phenotype /// 0042493 // response to drug // inferred from electronic annotation /// 0044281 // small molecule metabolic process // traceable author statement /// 0045471 // response to ethanol // inferred from electronic annotation /// 0046483 // heterocycle metabolic process // inferred from direct assay /// 0055114 // oxidation-reduction process // inferred from direct assay\t0000139 // Golgi membrane // inferred from electronic annotation /// 0005739 // mitochondrion // inferred from electronic annotation /// 0005783 // endoplasmic reticulum // inferred from electronic annotation /// 0005789 // endoplasmic reticulum membrane // traceable author statement /// 0016020 // membrane // inferred from electronic annotation /// 0031090 // organelle membrane // inferred from electronic annotation /// 0031227 // intrinsic component of endoplasmic reticulum membrane // inferred from electronic annotation /// 0043231 // intracellular membrane-bounded organelle // inferred from electronic annotation\t0004497 // monooxygenase activity // inferred from direct assay /// 0005506 // iron ion binding // inferred from electronic annotation /// 0009055 // electron carrier activity // inferred from electronic annotation /// 0016491 // oxidoreductase activity // inferred from direct assay /// 0016705 // oxidoreductase activity, acting on paired donors, with incorporation or reduction of molecular oxygen // inferred from electronic annotation /// 0016709 // oxidoreductase activity, acting on paired donors, with incorporation or reduction of molecular oxygen, NAD(P)H as one donor, and incorporation of one atom of oxygen // traceable author statement /// 0016712 // oxidoreductase activity, acting on paired donors, with incorporation or reduction of molecular oxygen, reduced flavin or flavoprotein as one donor, and incorporation of one atom of oxygen // inferred from electronic annotation /// 0019825 // oxygen binding // traceable author statement /// 0019899 // enzyme binding // inferred from physical interaction /// 0020037 // heme binding // inferred from direct assay /// 0046872 // metal ion binding // inferred from electronic annotation /// 0070330 // aromatase activity // inferred from electronic annotation\n",
      "1438_at\tX75208\t\tHomo sapiens\tOct 6, 2014\tExemplar sequence\tAffymetrix Proprietary Database\tX75208 /FEATURE=cds /DEFINITION=HSPTKR H.sapiens HEK2 mRNA for protein tyrosine kinase receptor\tX75208\tEPH receptor B3\tEPHB3\t2049\tNM_004443\t0001525 // angiogenesis // inferred from sequence or structural similarity /// 0001655 // urogenital system development // inferred from sequence or structural similarity /// 0006468 // protein phosphorylation // inferred from electronic annotation /// 0007169 // transmembrane receptor protein tyrosine kinase signaling pathway // inferred from electronic annotation /// 0007275 // multicellular organismal development // inferred from electronic annotation /// 0007399 // nervous system development // inferred from electronic annotation /// 0007411 // axon guidance // inferred from sequence or structural similarity /// 0007413 // axonal fasciculation // inferred from sequence or structural similarity /// 0016310 // phosphorylation // inferred from electronic annotation /// 0016477 // cell migration // inferred from direct assay /// 0018108 // peptidyl-tyrosine phosphorylation // inferred from electronic annotation /// 0021952 // central nervous system projection neuron axonogenesis // inferred from electronic annotation /// 0022038 // corpus callosum development // inferred from sequence or structural similarity /// 0022407 // regulation of cell-cell adhesion // inferred from direct assay /// 0031290 // retinal ganglion cell axon guidance // inferred from electronic annotation /// 0032314 // regulation of Rac GTPase activity // inferred from direct assay /// 0034446 // substrate adhesion-dependent cell spreading // inferred from direct assay /// 0043088 // regulation of Cdc42 GTPase activity // inferred from direct assay /// 0046777 // protein autophosphorylation // inferred from direct assay /// 0048013 // ephrin receptor signaling pathway // inferred from direct assay /// 0048538 // thymus development // inferred from sequence or structural similarity /// 0048546 // digestive tract morphogenesis // inferred from sequence or structural similarity /// 0050770 // regulation of axonogenesis // inferred from sequence or structural similarity /// 0051965 // positive regulation of synapse assembly // inferred from sequence or structural similarity /// 0060021 // palate development // inferred from sequence or structural similarity /// 0060996 // dendritic spine development // inferred from sequence or structural similarity /// 0060997 // dendritic spine morphogenesis // inferred from sequence or structural similarity\t0005886 // plasma membrane // inferred from electronic annotation /// 0005887 // integral component of plasma membrane // inferred from direct assay /// 0016020 // membrane // inferred from electronic annotation /// 0016021 // integral component of membrane // inferred from electronic annotation /// 0030425 // dendrite // inferred from electronic annotation /// 0042995 // cell projection // inferred from electronic annotation\t0000166 // nucleotide binding // inferred from electronic annotation /// 0004672 // protein kinase activity // inferred from electronic annotation /// 0004713 // protein tyrosine kinase activity // inferred from electronic annotation /// 0004714 // transmembrane receptor protein tyrosine kinase activity // inferred from electronic annotation /// 0005003 // ephrin receptor activity // inferred from direct assay /// 0005515 // protein binding // inferred from electronic annotation /// 0005524 // ATP binding // inferred from electronic annotation /// 0008046 // axon guidance receptor activity // inferred from electronic annotation /// 0016301 // kinase activity // inferred from electronic annotation /// 0016740 // transferase activity // inferred from electronic annotation /// 0016772 // transferase activity, transferring phosphorus-containing groups // inferred from electronic annotation\n",
      "1487_at\tL38487\t\tHomo sapiens\tOct 6, 2014\tExemplar sequence\tAffymetrix Proprietary Database\tL38487 /FEATURE=mRNA /DEFINITION=HUMHERRA1 Human estrogen receptor-related protein (hERRa1) mRNA, 3' end, partial cds\tL38487\testrogen-related receptor alpha\tESRRA\t2101\tNM_001282450 /// NM_001282451 /// NM_004451 /// XM_006718449 /// XM_006718450\t0006351 // transcription, DNA-templated // inferred from electronic annotation /// 0006355 // regulation of transcription, DNA-templated // inferred from mutant phenotype /// 0006367 // transcription initiation from RNA polymerase II promoter // traceable author statement /// 0010467 // gene expression // traceable author statement /// 0030278 // regulation of ossification // inferred from electronic annotation /// 0030522 // intracellular receptor signaling pathway // traceable author statement /// 0042127 // regulation of cell proliferation // inferred from electronic annotation /// 0043401 // steroid hormone mediated signaling pathway // inferred from electronic annotation /// 0045667 // regulation of osteoblast differentiation // inferred from electronic annotation /// 0045670 // regulation of osteoclast differentiation // inferred from electronic annotation /// 0045893 // positive regulation of transcription, DNA-templated // inferred from electronic annotation /// 0045944 // positive regulation of transcription from RNA polymerase II promoter // inferred from sequence or structural similarity /// 0051216 // cartilage development // inferred from electronic annotation\t0005634 // nucleus // inferred from direct assay /// 0005654 // nucleoplasm // traceable author statement /// 0005730 // nucleolus // inferred from direct assay /// 0015630 // microtubule cytoskeleton // inferred from direct assay /// 0045171 // intercellular bridge // inferred from direct assay\t0003677 // DNA binding // traceable author statement /// 0003700 // sequence-specific DNA binding transcription factor activity // inferred from electronic annotation /// 0003707 // steroid hormone receptor activity // inferred from electronic annotation /// 0004879 // ligand-activated sequence-specific DNA binding RNA polymerase II transcription factor activity // traceable author statement /// 0005496 // steroid binding // inferred from electronic annotation /// 0005515 // protein binding // inferred from physical interaction /// 0008270 // zinc ion binding // inferred from electronic annotation /// 0019904 // protein domain specific binding // inferred from physical interaction /// 0043565 // sequence-specific DNA binding // inferred from direct assay /// 0046872 // metal ion binding // inferred from electronic annotation\n",
      "1494_f_at\tM33318\t\tHomo sapiens\tOct 6, 2014\tExemplar sequence\tAffymetrix Proprietary Database\tM33318 /FEATURE=mRNA /DEFINITION=HUMCPIIA3A Human cytochrome P450IIA3 (CYP2A3) mRNA, complete cds\tM33318\tcytochrome P450, family 2, subfamily A, polypeptide 6\tCYP2A6\t1548\tNM_000762\t0006805 // xenobiotic metabolic process // traceable author statement /// 0008202 // steroid metabolic process // inferred from mutant phenotype /// 0009804 // coumarin metabolic process // inferred from direct assay /// 0017144 // drug metabolic process // inferred from direct assay /// 0017144 // drug metabolic process // inferred from mutant phenotype /// 0042738 // exogenous drug catabolic process // inferred from direct assay /// 0044281 // small molecule metabolic process // traceable author statement /// 0046226 // coumarin catabolic process // inferred from direct assay /// 0055114 // oxidation-reduction process // inferred from electronic annotation\t0005783 // endoplasmic reticulum // inferred from electronic annotation /// 0005789 // endoplasmic reticulum membrane // traceable author statement /// 0005881 // cytoplasmic microtubule // inferred from direct assay /// 0016020 // membrane // inferred from electronic annotation /// 0031090 // organelle membrane // inferred from electronic annotation /// 0043231 // intracellular membrane-bounded organelle // inferred from electronic annotation\t0004497 // monooxygenase activity // inferred from electronic annotation /// 0005506 // iron ion binding // inferred from electronic annotation /// 0008389 // coumarin 7-hydroxylase activity // inferred from direct assay /// 0009055 // electron carrier activity // inferred from electronic annotation /// 0016491 // oxidoreductase activity // inferred from electronic annotation /// 0016705 // oxidoreductase activity, acting on paired donors, with incorporation or reduction of molecular oxygen // inferred from electronic annotation /// 0016712 // oxidoreductase activity, acting on paired donors, with incorporation or reduction of molecular oxygen, reduced flavin or flavoprotein as one donor, and incorporation of one atom of oxygen // inferred from electronic annotation /// 0019825 // oxygen binding // traceable author statement /// 0019899 // enzyme binding // inferred from physical interaction /// 0020037 // heme binding // inferred from direct assay /// 0046872 // metal ion binding // inferred from electronic annotation /// 0070330 // aromatase activity // inferred from electronic annotation\n"
     ]
    }
   ],
   "source": [
    "with open(\"GPL570-55999.txt\") as f:\n",
    "    for i in range(30):\n",
    "        print(f.readline().strip())\n"
   ]
  },
  {
   "cell_type": "code",
   "execution_count": 46,
   "id": "67e291c7-ce6d-488e-a580-262c90e04b3e",
   "metadata": {},
   "outputs": [
    {
     "name": "stdout",
     "output_type": "stream",
     "text": [
      "Index(['1487_at', 'L38487', 'Unnamed: 2', 'Homo sapiens', 'Oct 6, 2014',\n",
      "       'Exemplar sequence', 'Affymetrix Proprietary Database',\n",
      "       'L38487 /FEATURE=mRNA /DEFINITION=HUMHERRA1 Human estrogen receptor-related protein (hERRa1) mRNA, 3' end, partial cds',\n",
      "       'L38487.1', 'estrogen-related receptor alpha', 'ESRRA', '2101',\n",
      "       'NM_001282450 /// NM_001282451 /// NM_004451 /// XM_006718449 /// XM_006718450',\n",
      "       '0006351 // transcription, DNA-templated // inferred from electronic annotation /// 0006355 // regulation of transcription, DNA-templated // inferred from mutant phenotype /// 0006367 // transcription initiation from RNA polymerase II promoter // traceable author statement /// 0010467 // gene expression // traceable author statement /// 0030278 // regulation of ossification // inferred from electronic annotation /// 0030522 // intracellular receptor signaling pathway // traceable author statement /// 0042127 // regulation of cell proliferation // inferred from electronic annotation /// 0043401 // steroid hormone mediated signaling pathway // inferred from electronic annotation /// 0045667 // regulation of osteoblast differentiation // inferred from electronic annotation /// 0045670 // regulation of osteoclast differentiation // inferred from electronic annotation /// 0045893 // positive regulation of transcription, DNA-templated // inferred from electronic annotation /// 0045944 // positive regulation of transcription from RNA polymerase II promoter // inferred from sequence or structural similarity /// 0051216 // cartilage development // inferred from electronic annotation',\n",
      "       '0005634 // nucleus // inferred from direct assay /// 0005654 // nucleoplasm // traceable author statement /// 0005730 // nucleolus // inferred from direct assay /// 0015630 // microtubule cytoskeleton // inferred from direct assay /// 0045171 // intercellular bridge // inferred from direct assay',\n",
      "       '0003677 // DNA binding // traceable author statement /// 0003700 // sequence-specific DNA binding transcription factor activity // inferred from electronic annotation /// 0003707 // steroid hormone receptor activity // inferred from electronic annotation /// 0004879 // ligand-activated sequence-specific DNA binding RNA polymerase II transcription factor activity // traceable author statement /// 0005496 // steroid binding // inferred from electronic annotation /// 0005515 // protein binding // inferred from physical interaction /// 0008270 // zinc ion binding // inferred from electronic annotation /// 0019904 // protein domain specific binding // inferred from physical interaction /// 0043565 // sequence-specific DNA binding // inferred from direct assay /// 0046872 // metal ion binding // inferred from electronic annotation'],\n",
      "      dtype='object')\n"
     ]
    },
    {
     "name": "stderr",
     "output_type": "stream",
     "text": [
      "C:\\Users\\shrij\\AppData\\Local\\Temp\\ipykernel_24784\\4051560040.py:2: DtypeWarning: Columns (2) have mixed types. Specify dtype option on import or set low_memory=False.\n",
      "  ann = pd.read_csv(\"GPL570-55999.txt\", sep=\"\\t\", skiprows=table_start_line)\n"
     ]
    },
    {
     "data": {
      "text/html": [
       "<div>\n",
       "<style scoped>\n",
       "    .dataframe tbody tr th:only-of-type {\n",
       "        vertical-align: middle;\n",
       "    }\n",
       "\n",
       "    .dataframe tbody tr th {\n",
       "        vertical-align: top;\n",
       "    }\n",
       "\n",
       "    .dataframe thead th {\n",
       "        text-align: right;\n",
       "    }\n",
       "</style>\n",
       "<table border=\"1\" class=\"dataframe\">\n",
       "  <thead>\n",
       "    <tr style=\"text-align: right;\">\n",
       "      <th></th>\n",
       "      <th>1487_at</th>\n",
       "      <th>L38487</th>\n",
       "      <th>Unnamed: 2</th>\n",
       "      <th>Homo sapiens</th>\n",
       "      <th>Oct 6, 2014</th>\n",
       "      <th>Exemplar sequence</th>\n",
       "      <th>Affymetrix Proprietary Database</th>\n",
       "      <th>L38487 /FEATURE=mRNA /DEFINITION=HUMHERRA1 Human estrogen receptor-related protein (hERRa1) mRNA, 3' end, partial cds</th>\n",
       "      <th>L38487.1</th>\n",
       "      <th>estrogen-related receptor alpha</th>\n",
       "      <th>ESRRA</th>\n",
       "      <th>2101</th>\n",
       "      <th>NM_001282450 /// NM_001282451 /// NM_004451 /// XM_006718449 /// XM_006718450</th>\n",
       "      <th>0006351 // transcription, DNA-templated // inferred from electronic annotation /// 0006355 // regulation of transcription, DNA-templated // inferred from mutant phenotype /// 0006367 // transcription initiation from RNA polymerase II promoter // traceable author statement /// 0010467 // gene expression // traceable author statement /// 0030278 // regulation of ossification // inferred from electronic annotation /// 0030522 // intracellular receptor signaling pathway // traceable author statement /// 0042127 // regulation of cell proliferation // inferred from electronic annotation /// 0043401 // steroid hormone mediated signaling pathway // inferred from electronic annotation /// 0045667 // regulation of osteoblast differentiation // inferred from electronic annotation /// 0045670 // regulation of osteoclast differentiation // inferred from electronic annotation /// 0045893 // positive regulation of transcription, DNA-templated // inferred from electronic annotation /// 0045944 // positive regulation of transcription from RNA polymerase II promoter // inferred from sequence or structural similarity /// 0051216 // cartilage development // inferred from electronic annotation</th>\n",
       "      <th>0005634 // nucleus // inferred from direct assay /// 0005654 // nucleoplasm // traceable author statement /// 0005730 // nucleolus // inferred from direct assay /// 0015630 // microtubule cytoskeleton // inferred from direct assay /// 0045171 // intercellular bridge // inferred from direct assay</th>\n",
       "      <th>0003677 // DNA binding // traceable author statement /// 0003700 // sequence-specific DNA binding transcription factor activity // inferred from electronic annotation /// 0003707 // steroid hormone receptor activity // inferred from electronic annotation /// 0004879 // ligand-activated sequence-specific DNA binding RNA polymerase II transcription factor activity // traceable author statement /// 0005496 // steroid binding // inferred from electronic annotation /// 0005515 // protein binding // inferred from physical interaction /// 0008270 // zinc ion binding // inferred from electronic annotation /// 0019904 // protein domain specific binding // inferred from physical interaction /// 0043565 // sequence-specific DNA binding // inferred from direct assay /// 0046872 // metal ion binding // inferred from electronic annotation</th>\n",
       "    </tr>\n",
       "  </thead>\n",
       "  <tbody>\n",
       "    <tr>\n",
       "      <th>0</th>\n",
       "      <td>1494_f_at</td>\n",
       "      <td>M33318</td>\n",
       "      <td>NaN</td>\n",
       "      <td>Homo sapiens</td>\n",
       "      <td>Oct 6, 2014</td>\n",
       "      <td>Exemplar sequence</td>\n",
       "      <td>Affymetrix Proprietary Database</td>\n",
       "      <td>M33318 /FEATURE=mRNA /DEFINITION=HUMCPIIA3A Hu...</td>\n",
       "      <td>M33318</td>\n",
       "      <td>cytochrome P450, family 2, subfamily A, polype...</td>\n",
       "      <td>CYP2A6</td>\n",
       "      <td>1548</td>\n",
       "      <td>NM_000762</td>\n",
       "      <td>0006805 // xenobiotic metabolic process // tra...</td>\n",
       "      <td>0005783 // endoplasmic reticulum // inferred f...</td>\n",
       "      <td>0004497 // monooxygenase activity // inferred ...</td>\n",
       "    </tr>\n",
       "    <tr>\n",
       "      <th>1</th>\n",
       "      <td>1552256_a_at</td>\n",
       "      <td>NM_005505</td>\n",
       "      <td>NaN</td>\n",
       "      <td>Homo sapiens</td>\n",
       "      <td>Oct 6, 2014</td>\n",
       "      <td>Consensus sequence</td>\n",
       "      <td>GenBank</td>\n",
       "      <td>gb:NM_005505.2 /DB_XREF=gi:21361199 /GEN=SCARB...</td>\n",
       "      <td>NM_005505</td>\n",
       "      <td>scavenger receptor class B, member 1</td>\n",
       "      <td>SCARB1</td>\n",
       "      <td>949</td>\n",
       "      <td>NM_001082959 /// NM_005505</td>\n",
       "      <td>0001935 // endothelial cell proliferation // i...</td>\n",
       "      <td>0005737 // cytoplasm // inferred from electron...</td>\n",
       "      <td>0001530 // lipopolysaccharide binding // infer...</td>\n",
       "    </tr>\n",
       "    <tr>\n",
       "      <th>2</th>\n",
       "      <td>1552257_a_at</td>\n",
       "      <td>NM_015140</td>\n",
       "      <td>NaN</td>\n",
       "      <td>Homo sapiens</td>\n",
       "      <td>Oct 6, 2014</td>\n",
       "      <td>Consensus sequence</td>\n",
       "      <td>GenBank</td>\n",
       "      <td>gb:NM_015140.1 /DB_XREF=gi:11056035 /TID=Hs2.8...</td>\n",
       "      <td>NM_015140</td>\n",
       "      <td>tubulin tyrosine ligase-like family, member 12</td>\n",
       "      <td>TTLL12</td>\n",
       "      <td>23170</td>\n",
       "      <td>NM_015140</td>\n",
       "      <td>0006464 // cellular protein modification proce...</td>\n",
       "      <td>NaN</td>\n",
       "      <td>NaN</td>\n",
       "    </tr>\n",
       "    <tr>\n",
       "      <th>3</th>\n",
       "      <td>1552258_at</td>\n",
       "      <td>NM_052871</td>\n",
       "      <td>NaN</td>\n",
       "      <td>Homo sapiens</td>\n",
       "      <td>Oct 6, 2014</td>\n",
       "      <td>Consensus sequence</td>\n",
       "      <td>GenBank</td>\n",
       "      <td>gb:NM_052871.1 /DB_XREF=gi:16418372 /TID=Hs2.4...</td>\n",
       "      <td>NM_052871</td>\n",
       "      <td>long intergenic non-protein coding RNA 152 ///...</td>\n",
       "      <td>LINC00152 /// LOC101930489</td>\n",
       "      <td>112597 /// 101930489</td>\n",
       "      <td>NM_052871 /// NR_024204 /// NR_024205 /// NR_0...</td>\n",
       "      <td>NaN</td>\n",
       "      <td>NaN</td>\n",
       "      <td>NaN</td>\n",
       "    </tr>\n",
       "    <tr>\n",
       "      <th>4</th>\n",
       "      <td>1552261_at</td>\n",
       "      <td>NM_080735</td>\n",
       "      <td>NaN</td>\n",
       "      <td>Homo sapiens</td>\n",
       "      <td>Oct 6, 2014</td>\n",
       "      <td>Consensus sequence</td>\n",
       "      <td>GenBank</td>\n",
       "      <td>gb:NM_080735.1 /DB_XREF=gi:18379359 /GEN=WFDC2...</td>\n",
       "      <td>NM_080735</td>\n",
       "      <td>WAP four-disulfide core domain 2</td>\n",
       "      <td>WFDC2</td>\n",
       "      <td>10406</td>\n",
       "      <td>NM_006103 /// NM_080733 /// NM_080734 /// NM_0...</td>\n",
       "      <td>0006508 // proteolysis // traceable author sta...</td>\n",
       "      <td>0005576 // extracellular region // inferred fr...</td>\n",
       "      <td>0004866 // endopeptidase inhibitor activity //...</td>\n",
       "    </tr>\n",
       "  </tbody>\n",
       "</table>\n",
       "</div>"
      ],
      "text/plain": [
       "        1487_at     L38487 Unnamed: 2  Homo sapiens  Oct 6, 2014  \\\n",
       "0     1494_f_at     M33318        NaN  Homo sapiens  Oct 6, 2014   \n",
       "1  1552256_a_at  NM_005505        NaN  Homo sapiens  Oct 6, 2014   \n",
       "2  1552257_a_at  NM_015140        NaN  Homo sapiens  Oct 6, 2014   \n",
       "3    1552258_at  NM_052871        NaN  Homo sapiens  Oct 6, 2014   \n",
       "4    1552261_at  NM_080735        NaN  Homo sapiens  Oct 6, 2014   \n",
       "\n",
       "    Exemplar sequence  Affymetrix Proprietary Database  \\\n",
       "0   Exemplar sequence  Affymetrix Proprietary Database   \n",
       "1  Consensus sequence                          GenBank   \n",
       "2  Consensus sequence                          GenBank   \n",
       "3  Consensus sequence                          GenBank   \n",
       "4  Consensus sequence                          GenBank   \n",
       "\n",
       "  L38487 /FEATURE=mRNA /DEFINITION=HUMHERRA1 Human estrogen receptor-related protein (hERRa1) mRNA, 3' end, partial cds  \\\n",
       "0  M33318 /FEATURE=mRNA /DEFINITION=HUMCPIIA3A Hu...                                                                      \n",
       "1  gb:NM_005505.2 /DB_XREF=gi:21361199 /GEN=SCARB...                                                                      \n",
       "2  gb:NM_015140.1 /DB_XREF=gi:11056035 /TID=Hs2.8...                                                                      \n",
       "3  gb:NM_052871.1 /DB_XREF=gi:16418372 /TID=Hs2.4...                                                                      \n",
       "4  gb:NM_080735.1 /DB_XREF=gi:18379359 /GEN=WFDC2...                                                                      \n",
       "\n",
       "    L38487.1                    estrogen-related receptor alpha  \\\n",
       "0     M33318  cytochrome P450, family 2, subfamily A, polype...   \n",
       "1  NM_005505               scavenger receptor class B, member 1   \n",
       "2  NM_015140     tubulin tyrosine ligase-like family, member 12   \n",
       "3  NM_052871  long intergenic non-protein coding RNA 152 ///...   \n",
       "4  NM_080735                   WAP four-disulfide core domain 2   \n",
       "\n",
       "                        ESRRA                  2101  \\\n",
       "0                      CYP2A6                  1548   \n",
       "1                      SCARB1                   949   \n",
       "2                      TTLL12                 23170   \n",
       "3  LINC00152 /// LOC101930489  112597 /// 101930489   \n",
       "4                       WFDC2                 10406   \n",
       "\n",
       "  NM_001282450 /// NM_001282451 /// NM_004451 /// XM_006718449 /// XM_006718450  \\\n",
       "0                                          NM_000762                              \n",
       "1                         NM_001082959 /// NM_005505                              \n",
       "2                                          NM_015140                              \n",
       "3  NM_052871 /// NR_024204 /// NR_024205 /// NR_0...                              \n",
       "4  NM_006103 /// NM_080733 /// NM_080734 /// NM_0...                              \n",
       "\n",
       "  0006351 // transcription, DNA-templated // inferred from electronic annotation /// 0006355 // regulation of transcription, DNA-templated // inferred from mutant phenotype /// 0006367 // transcription initiation from RNA polymerase II promoter // traceable author statement /// 0010467 // gene expression // traceable author statement /// 0030278 // regulation of ossification // inferred from electronic annotation /// 0030522 // intracellular receptor signaling pathway // traceable author statement /// 0042127 // regulation of cell proliferation // inferred from electronic annotation /// 0043401 // steroid hormone mediated signaling pathway // inferred from electronic annotation /// 0045667 // regulation of osteoblast differentiation // inferred from electronic annotation /// 0045670 // regulation of osteoclast differentiation // inferred from electronic annotation /// 0045893 // positive regulation of transcription, DNA-templated // inferred from electronic annotation /// 0045944 // positive regulation of transcription from RNA polymerase II promoter // inferred from sequence or structural similarity /// 0051216 // cartilage development // inferred from electronic annotation  \\\n",
       "0  0006805 // xenobiotic metabolic process // tra...                                                                                                                                                                                                                                                                                                                                                                                                                                                                                                                                                                                                                                                                                                                                                                                                                                                                                                                                                                                                                                                                                                                                                                                        \n",
       "1  0001935 // endothelial cell proliferation // i...                                                                                                                                                                                                                                                                                                                                                                                                                                                                                                                                                                                                                                                                                                                                                                                                                                                                                                                                                                                                                                                                                                                                                                                        \n",
       "2  0006464 // cellular protein modification proce...                                                                                                                                                                                                                                                                                                                                                                                                                                                                                                                                                                                                                                                                                                                                                                                                                                                                                                                                                                                                                                                                                                                                                                                        \n",
       "3                                                NaN                                                                                                                                                                                                                                                                                                                                                                                                                                                                                                                                                                                                                                                                                                                                                                                                                                                                                                                                                                                                                                                                                                                                                                                        \n",
       "4  0006508 // proteolysis // traceable author sta...                                                                                                                                                                                                                                                                                                                                                                                                                                                                                                                                                                                                                                                                                                                                                                                                                                                                                                                                                                                                                                                                                                                                                                                        \n",
       "\n",
       "  0005634 // nucleus // inferred from direct assay /// 0005654 // nucleoplasm // traceable author statement /// 0005730 // nucleolus // inferred from direct assay /// 0015630 // microtubule cytoskeleton // inferred from direct assay /// 0045171 // intercellular bridge // inferred from direct assay  \\\n",
       "0  0005783 // endoplasmic reticulum // inferred f...                                                                                                                                                                                                                                                         \n",
       "1  0005737 // cytoplasm // inferred from electron...                                                                                                                                                                                                                                                         \n",
       "2                                                NaN                                                                                                                                                                                                                                                         \n",
       "3                                                NaN                                                                                                                                                                                                                                                         \n",
       "4  0005576 // extracellular region // inferred fr...                                                                                                                                                                                                                                                         \n",
       "\n",
       "  0003677 // DNA binding // traceable author statement /// 0003700 // sequence-specific DNA binding transcription factor activity // inferred from electronic annotation /// 0003707 // steroid hormone receptor activity // inferred from electronic annotation /// 0004879 // ligand-activated sequence-specific DNA binding RNA polymerase II transcription factor activity // traceable author statement /// 0005496 // steroid binding // inferred from electronic annotation /// 0005515 // protein binding // inferred from physical interaction /// 0008270 // zinc ion binding // inferred from electronic annotation /// 0019904 // protein domain specific binding // inferred from physical interaction /// 0043565 // sequence-specific DNA binding // inferred from direct assay /// 0046872 // metal ion binding // inferred from electronic annotation  \n",
       "0  0004497 // monooxygenase activity // inferred ...                                                                                                                                                                                                                                                                                                                                                                                                                                                                                                                                                                                                                                                                                                                                                                                                                    \n",
       "1  0001530 // lipopolysaccharide binding // infer...                                                                                                                                                                                                                                                                                                                                                                                                                                                                                                                                                                                                                                                                                                                                                                                                                    \n",
       "2                                                NaN                                                                                                                                                                                                                                                                                                                                                                                                                                                                                                                                                                                                                                                                                                                                                                                                                    \n",
       "3                                                NaN                                                                                                                                                                                                                                                                                                                                                                                                                                                                                                                                                                                                                                                                                                                                                                                                                    \n",
       "4  0004866 // endopeptidase inhibitor activity //...                                                                                                                                                                                                                                                                                                                                                                                                                                                                                                                                                                                                                                                                                                                                                                                                                    "
      ]
     },
     "execution_count": 46,
     "metadata": {},
     "output_type": "execute_result"
    }
   ],
   "source": [
    "table_start_line = 28  # change based on your inspection\n",
    "ann = pd.read_csv(\"GPL570-55999.txt\", sep=\"\\t\", skiprows=table_start_line)\n",
    "print(ann.columns)\n",
    "ann.head()\n"
   ]
  },
  {
   "cell_type": "code",
   "execution_count": 48,
   "id": "621dc41d-dcc2-4fce-be1d-614b83f7f7d0",
   "metadata": {},
   "outputs": [
    {
     "name": "stdout",
     "output_type": "stream",
     "text": [
      "['1487_at', 'L38487', 'Unnamed: 2', 'Homo sapiens', 'Oct 6, 2014', 'Exemplar sequence', 'Affymetrix Proprietary Database', \"L38487 /FEATURE=mRNA /DEFINITION=HUMHERRA1 Human estrogen receptor-related protein (hERRa1) mRNA, 3' end, partial cds\", 'L38487.1', 'estrogen-related receptor alpha', 'ESRRA', '2101', 'NM_001282450 /// NM_001282451 /// NM_004451 /// XM_006718449 /// XM_006718450', '0006351 // transcription, DNA-templated // inferred from electronic annotation /// 0006355 // regulation of transcription, DNA-templated // inferred from mutant phenotype /// 0006367 // transcription initiation from RNA polymerase II promoter // traceable author statement /// 0010467 // gene expression // traceable author statement /// 0030278 // regulation of ossification // inferred from electronic annotation /// 0030522 // intracellular receptor signaling pathway // traceable author statement /// 0042127 // regulation of cell proliferation // inferred from electronic annotation /// 0043401 // steroid hormone mediated signaling pathway // inferred from electronic annotation /// 0045667 // regulation of osteoblast differentiation // inferred from electronic annotation /// 0045670 // regulation of osteoclast differentiation // inferred from electronic annotation /// 0045893 // positive regulation of transcription, DNA-templated // inferred from electronic annotation /// 0045944 // positive regulation of transcription from RNA polymerase II promoter // inferred from sequence or structural similarity /// 0051216 // cartilage development // inferred from electronic annotation', '0005634 // nucleus // inferred from direct assay /// 0005654 // nucleoplasm // traceable author statement /// 0005730 // nucleolus // inferred from direct assay /// 0015630 // microtubule cytoskeleton // inferred from direct assay /// 0045171 // intercellular bridge // inferred from direct assay', '0003677 // DNA binding // traceable author statement /// 0003700 // sequence-specific DNA binding transcription factor activity // inferred from electronic annotation /// 0003707 // steroid hormone receptor activity // inferred from electronic annotation /// 0004879 // ligand-activated sequence-specific DNA binding RNA polymerase II transcription factor activity // traceable author statement /// 0005496 // steroid binding // inferred from electronic annotation /// 0005515 // protein binding // inferred from physical interaction /// 0008270 // zinc ion binding // inferred from electronic annotation /// 0019904 // protein domain specific binding // inferred from physical interaction /// 0043565 // sequence-specific DNA binding // inferred from direct assay /// 0046872 // metal ion binding // inferred from electronic annotation']\n"
     ]
    }
   ],
   "source": [
    "print(list(ann.columns))\n"
   ]
  },
  {
   "cell_type": "code",
   "execution_count": 49,
   "id": "a688df7d-8239-44af-81b6-1550e6caf519",
   "metadata": {},
   "outputs": [
    {
     "name": "stdout",
     "output_type": "stream",
     "text": [
      "0: 1487_at\n",
      "1: L38487\n",
      "2: Unnamed: 2\n",
      "3: Homo sapiens\n",
      "4: Oct 6, 2014\n",
      "5: Exemplar sequence\n",
      "6: Affymetrix Proprietary Database\n",
      "7: L38487 /FEATURE=mRNA /DEFINITION=HUMHERRA1 Human estrogen receptor-related protein (hERRa1) mRNA, 3' end, partial cds\n",
      "8: L38487.1\n",
      "9: estrogen-related receptor alpha\n",
      "10: ESRRA\n",
      "11: 2101\n",
      "12: NM_001282450 /// NM_001282451 /// NM_004451 /// XM_006718449 /// XM_006718450\n",
      "13: 0006351 // transcription, DNA-templated // inferred from electronic annotation /// 0006355 // regulation of transcription, DNA-templated // inferred from mutant phenotype /// 0006367 // transcription initiation from RNA polymerase II promoter // traceable author statement /// 0010467 // gene expression // traceable author statement /// 0030278 // regulation of ossification // inferred from electronic annotation /// 0030522 // intracellular receptor signaling pathway // traceable author statement /// 0042127 // regulation of cell proliferation // inferred from electronic annotation /// 0043401 // steroid hormone mediated signaling pathway // inferred from electronic annotation /// 0045667 // regulation of osteoblast differentiation // inferred from electronic annotation /// 0045670 // regulation of osteoclast differentiation // inferred from electronic annotation /// 0045893 // positive regulation of transcription, DNA-templated // inferred from electronic annotation /// 0045944 // positive regulation of transcription from RNA polymerase II promoter // inferred from sequence or structural similarity /// 0051216 // cartilage development // inferred from electronic annotation\n",
      "14: 0005634 // nucleus // inferred from direct assay /// 0005654 // nucleoplasm // traceable author statement /// 0005730 // nucleolus // inferred from direct assay /// 0015630 // microtubule cytoskeleton // inferred from direct assay /// 0045171 // intercellular bridge // inferred from direct assay\n",
      "15: 0003677 // DNA binding // traceable author statement /// 0003700 // sequence-specific DNA binding transcription factor activity // inferred from electronic annotation /// 0003707 // steroid hormone receptor activity // inferred from electronic annotation /// 0004879 // ligand-activated sequence-specific DNA binding RNA polymerase II transcription factor activity // traceable author statement /// 0005496 // steroid binding // inferred from electronic annotation /// 0005515 // protein binding // inferred from physical interaction /// 0008270 // zinc ion binding // inferred from electronic annotation /// 0019904 // protein domain specific binding // inferred from physical interaction /// 0043565 // sequence-specific DNA binding // inferred from direct assay /// 0046872 // metal ion binding // inferred from electronic annotation\n"
     ]
    }
   ],
   "source": [
    "for idx, name in enumerate(ann.columns):\n",
    "    print(f\"{idx}: {name}\")\n"
   ]
  },
  {
   "cell_type": "code",
   "execution_count": 51,
   "id": "c1312f7d-0b46-403d-bd3b-a21b69c1488f",
   "metadata": {},
   "outputs": [
    {
     "name": "stdout",
     "output_type": "stream",
     "text": [
      "{'1487_at': '1494_f_at', 'L38487': 'M33318', 'Unnamed: 2': nan, 'Homo sapiens': 'Homo sapiens', 'Oct 6, 2014': 'Oct 6, 2014', 'Exemplar sequence': 'Exemplar sequence', 'Affymetrix Proprietary Database': 'Affymetrix Proprietary Database', \"L38487 /FEATURE=mRNA /DEFINITION=HUMHERRA1 Human estrogen receptor-related protein (hERRa1) mRNA, 3' end, partial cds\": 'M33318 /FEATURE=mRNA /DEFINITION=HUMCPIIA3A Human cytochrome P450IIA3 (CYP2A3) mRNA, complete cds', 'L38487.1': 'M33318', 'estrogen-related receptor alpha': 'cytochrome P450, family 2, subfamily A, polypeptide 6', 'ESRRA': 'CYP2A6', '2101': '1548', 'NM_001282450 /// NM_001282451 /// NM_004451 /// XM_006718449 /// XM_006718450': 'NM_000762', '0006351 // transcription, DNA-templated // inferred from electronic annotation /// 0006355 // regulation of transcription, DNA-templated // inferred from mutant phenotype /// 0006367 // transcription initiation from RNA polymerase II promoter // traceable author statement /// 0010467 // gene expression // traceable author statement /// 0030278 // regulation of ossification // inferred from electronic annotation /// 0030522 // intracellular receptor signaling pathway // traceable author statement /// 0042127 // regulation of cell proliferation // inferred from electronic annotation /// 0043401 // steroid hormone mediated signaling pathway // inferred from electronic annotation /// 0045667 // regulation of osteoblast differentiation // inferred from electronic annotation /// 0045670 // regulation of osteoclast differentiation // inferred from electronic annotation /// 0045893 // positive regulation of transcription, DNA-templated // inferred from electronic annotation /// 0045944 // positive regulation of transcription from RNA polymerase II promoter // inferred from sequence or structural similarity /// 0051216 // cartilage development // inferred from electronic annotation': '0006805 // xenobiotic metabolic process // traceable author statement /// 0008202 // steroid metabolic process // inferred from mutant phenotype /// 0009804 // coumarin metabolic process // inferred from direct assay /// 0017144 // drug metabolic process // inferred from direct assay /// 0017144 // drug metabolic process // inferred from mutant phenotype /// 0042738 // exogenous drug catabolic process // inferred from direct assay /// 0044281 // small molecule metabolic process // traceable author statement /// 0046226 // coumarin catabolic process // inferred from direct assay /// 0055114 // oxidation-reduction process // inferred from electronic annotation', '0005634 // nucleus // inferred from direct assay /// 0005654 // nucleoplasm // traceable author statement /// 0005730 // nucleolus // inferred from direct assay /// 0015630 // microtubule cytoskeleton // inferred from direct assay /// 0045171 // intercellular bridge // inferred from direct assay': '0005783 // endoplasmic reticulum // inferred from electronic annotation /// 0005789 // endoplasmic reticulum membrane // traceable author statement /// 0005881 // cytoplasmic microtubule // inferred from direct assay /// 0016020 // membrane // inferred from electronic annotation /// 0031090 // organelle membrane // inferred from electronic annotation /// 0043231 // intracellular membrane-bounded organelle // inferred from electronic annotation', '0003677 // DNA binding // traceable author statement /// 0003700 // sequence-specific DNA binding transcription factor activity // inferred from electronic annotation /// 0003707 // steroid hormone receptor activity // inferred from electronic annotation /// 0004879 // ligand-activated sequence-specific DNA binding RNA polymerase II transcription factor activity // traceable author statement /// 0005496 // steroid binding // inferred from electronic annotation /// 0005515 // protein binding // inferred from physical interaction /// 0008270 // zinc ion binding // inferred from electronic annotation /// 0019904 // protein domain specific binding // inferred from physical interaction /// 0043565 // sequence-specific DNA binding // inferred from direct assay /// 0046872 // metal ion binding // inferred from electronic annotation': '0004497 // monooxygenase activity // inferred from electronic annotation /// 0005506 // iron ion binding // inferred from electronic annotation /// 0008389 // coumarin 7-hydroxylase activity // inferred from direct assay /// 0009055 // electron carrier activity // inferred from electronic annotation /// 0016491 // oxidoreductase activity // inferred from electronic annotation /// 0016705 // oxidoreductase activity, acting on paired donors, with incorporation or reduction of molecular oxygen // inferred from electronic annotation /// 0016712 // oxidoreductase activity, acting on paired donors, with incorporation or reduction of molecular oxygen, reduced flavin or flavoprotein as one donor, and incorporation of one atom of oxygen // inferred from electronic annotation /// 0019825 // oxygen binding // traceable author statement /// 0019899 // enzyme binding // inferred from physical interaction /// 0020037 // heme binding // inferred from direct assay /// 0046872 // metal ion binding // inferred from electronic annotation /// 0070330 // aromatase activity // inferred from electronic annotation'}\n"
     ]
    }
   ],
   "source": [
    "print(ann.iloc[0].to_dict())\n"
   ]
  },
  {
   "cell_type": "code",
   "execution_count": 52,
   "id": "951171c1-f858-489a-a75c-92a203079630",
   "metadata": {},
   "outputs": [
    {
     "name": "stdout",
     "output_type": "stream",
     "text": [
      "0: 1494_f_at\n",
      "1: M33318\n",
      "2: nan\n",
      "3: Homo sapiens\n",
      "4: Oct 6, 2014\n",
      "5: Exemplar sequence\n",
      "6: Affymetrix Proprietary Database\n",
      "7: M33318 /FEATURE=mRNA /DEFINITION=HUMCPIIA3A Human cytochrome P450IIA3 (CYP2A3) mRNA, complete cds\n",
      "8: M33318\n",
      "9: cytochrome P450, family 2, subfamily A, polypeptide 6\n",
      "10: CYP2A6\n",
      "11: 1548\n",
      "12: NM_000762\n",
      "13: 0006805 // xenobiotic metabolic process // traceable author statement /// 0008202 // steroid metabolic process // inferred from mutant phenotype /// 0009804 // coumarin metabolic process // inferred from direct assay /// 0017144 // drug metabolic process // inferred from direct assay /// 0017144 // drug metabolic process // inferred from mutant phenotype /// 0042738 // exogenous drug catabolic process // inferred from direct assay /// 0044281 // small molecule metabolic process // traceable author statement /// 0046226 // coumarin catabolic process // inferred from direct assay /// 0055114 // oxidation-reduction process // inferred from electronic annotation\n",
      "14: 0005783 // endoplasmic reticulum // inferred from electronic annotation /// 0005789 // endoplasmic reticulum membrane // traceable author statement /// 0005881 // cytoplasmic microtubule // inferred from direct assay /// 0016020 // membrane // inferred from electronic annotation /// 0031090 // organelle membrane // inferred from electronic annotation /// 0043231 // intracellular membrane-bounded organelle // inferred from electronic annotation\n",
      "15: 0004497 // monooxygenase activity // inferred from electronic annotation /// 0005506 // iron ion binding // inferred from electronic annotation /// 0008389 // coumarin 7-hydroxylase activity // inferred from direct assay /// 0009055 // electron carrier activity // inferred from electronic annotation /// 0016491 // oxidoreductase activity // inferred from electronic annotation /// 0016705 // oxidoreductase activity, acting on paired donors, with incorporation or reduction of molecular oxygen // inferred from electronic annotation /// 0016712 // oxidoreductase activity, acting on paired donors, with incorporation or reduction of molecular oxygen, reduced flavin or flavoprotein as one donor, and incorporation of one atom of oxygen // inferred from electronic annotation /// 0019825 // oxygen binding // traceable author statement /// 0019899 // enzyme binding // inferred from physical interaction /// 0020037 // heme binding // inferred from direct assay /// 0046872 // metal ion binding // inferred from electronic annotation /// 0070330 // aromatase activity // inferred from electronic annotation\n"
     ]
    }
   ],
   "source": [
    "for idx, val in enumerate(ann.iloc[0]):\n",
    "    print(f\"{idx}: {val}\")\n"
   ]
  },
  {
   "cell_type": "code",
   "execution_count": 54,
   "id": "e7b1e3cf-08bc-47f8-bae6-b72b78411728",
   "metadata": {},
   "outputs": [
    {
     "name": "stdout",
     "output_type": "stream",
     "text": [
      "0: 1494_f_at\n",
      "1: M33318\n",
      "2: nan\n",
      "3: Homo sapiens\n",
      "4: Oct 6, 2014\n",
      "5: Exemplar sequence\n",
      "6: Affymetrix Proprietary Database\n",
      "7: M33318 /FEATURE=mRNA /DEFINITION=HUMCPIIA3A Human cytochrome P450IIA3 (CYP2A3) mRNA, complete cds\n",
      "8: M33318\n",
      "9: cytochrome P450, family 2, subfamily A, polypeptide 6\n",
      "10: CYP2A6\n",
      "11: 1548\n",
      "12: NM_000762\n",
      "13: 0006805 // xenobiotic metabolic process // traceable author statement /// 0008202 // steroid metabolic process // inferred from mutant phenotype /// 0009804 // coumarin metabolic process // inferred from direct assay /// 0017144 // drug metabolic process // inferred from direct assay /// 0017144 // drug metabolic process // inferred from mutant phenotype /// 0042738 // exogenous drug catabolic process // inferred from direct assay /// 0044281 // small molecule metabolic process // traceable author statement /// 0046226 // coumarin catabolic process // inferred from direct assay /// 0055114 // oxidation-reduction process // inferred from electronic annotation\n",
      "14: 0005783 // endoplasmic reticulum // inferred from electronic annotation /// 0005789 // endoplasmic reticulum membrane // traceable author statement /// 0005881 // cytoplasmic microtubule // inferred from direct assay /// 0016020 // membrane // inferred from electronic annotation /// 0031090 // organelle membrane // inferred from electronic annotation /// 0043231 // intracellular membrane-bounded organelle // inferred from electronic annotation\n",
      "15: 0004497 // monooxygenase activity // inferred from electronic annotation /// 0005506 // iron ion binding // inferred from electronic annotation /// 0008389 // coumarin 7-hydroxylase activity // inferred from direct assay /// 0009055 // electron carrier activity // inferred from electronic annotation /// 0016491 // oxidoreductase activity // inferred from electronic annotation /// 0016705 // oxidoreductase activity, acting on paired donors, with incorporation or reduction of molecular oxygen // inferred from electronic annotation /// 0016712 // oxidoreductase activity, acting on paired donors, with incorporation or reduction of molecular oxygen, reduced flavin or flavoprotein as one donor, and incorporation of one atom of oxygen // inferred from electronic annotation /// 0019825 // oxygen binding // traceable author statement /// 0019899 // enzyme binding // inferred from physical interaction /// 0020037 // heme binding // inferred from direct assay /// 0046872 // metal ion binding // inferred from electronic annotation /// 0070330 // aromatase activity // inferred from electronic annotation\n"
     ]
    }
   ],
   "source": [
    "for idx, val in enumerate(ann.iloc[0]):\n",
    "    print(f\"{idx}: {val}\")\n"
   ]
  },
  {
   "cell_type": "code",
   "execution_count": 55,
   "id": "ffccec90-44f0-48ac-96f5-694c5a96ea6b",
   "metadata": {},
   "outputs": [
    {
     "name": "stdout",
     "output_type": "stream",
     "text": [
      "Index(['1487_at', 'L38487', 'Unnamed: 2', 'Homo sapiens', 'Oct 6, 2014',\n",
      "       'Exemplar sequence', 'Affymetrix Proprietary Database',\n",
      "       'L38487 /FEATURE=mRNA /DEFINITION=HUMHERRA1 Human estrogen receptor-related protein (hERRa1) mRNA, 3' end, partial cds',\n",
      "       'L38487.1', 'estrogen-related receptor alpha', 'ESRRA', '2101',\n",
      "       'NM_001282450 /// NM_001282451 /// NM_004451 /// XM_006718449 /// XM_006718450',\n",
      "       '0006351 // transcription, DNA-templated // inferred from electronic annotation /// 0006355 // regulation of transcription, DNA-templated // inferred from mutant phenotype /// 0006367 // transcription initiation from RNA polymerase II promoter // traceable author statement /// 0010467 // gene expression // traceable author statement /// 0030278 // regulation of ossification // inferred from electronic annotation /// 0030522 // intracellular receptor signaling pathway // traceable author statement /// 0042127 // regulation of cell proliferation // inferred from electronic annotation /// 0043401 // steroid hormone mediated signaling pathway // inferred from electronic annotation /// 0045667 // regulation of osteoblast differentiation // inferred from electronic annotation /// 0045670 // regulation of osteoclast differentiation // inferred from electronic annotation /// 0045893 // positive regulation of transcription, DNA-templated // inferred from electronic annotation /// 0045944 // positive regulation of transcription from RNA polymerase II promoter // inferred from sequence or structural similarity /// 0051216 // cartilage development // inferred from electronic annotation',\n",
      "       '0005634 // nucleus // inferred from direct assay /// 0005654 // nucleoplasm // traceable author statement /// 0005730 // nucleolus // inferred from direct assay /// 0015630 // microtubule cytoskeleton // inferred from direct assay /// 0045171 // intercellular bridge // inferred from direct assay',\n",
      "       '0003677 // DNA binding // traceable author statement /// 0003700 // sequence-specific DNA binding transcription factor activity // inferred from electronic annotation /// 0003707 // steroid hormone receptor activity // inferred from electronic annotation /// 0004879 // ligand-activated sequence-specific DNA binding RNA polymerase II transcription factor activity // traceable author statement /// 0005496 // steroid binding // inferred from electronic annotation /// 0005515 // protein binding // inferred from physical interaction /// 0008270 // zinc ion binding // inferred from electronic annotation /// 0019904 // protein domain specific binding // inferred from physical interaction /// 0043565 // sequence-specific DNA binding // inferred from direct assay /// 0046872 // metal ion binding // inferred from electronic annotation'],\n",
      "      dtype='object')\n"
     ]
    }
   ],
   "source": [
    "print(ann.columns[0:20])\n"
   ]
  },
  {
   "cell_type": "code",
   "execution_count": 56,
   "id": "1262fc88-5eb2-4291-b4a2-1b43cb81c18f",
   "metadata": {},
   "outputs": [
    {
     "name": "stdout",
     "output_type": "stream",
     "text": [
      "           Gene                                         GeneSymbol\n",
      "0     1494_f_at  0006805 // xenobiotic metabolic process // tra...\n",
      "1  1552256_a_at  0001935 // endothelial cell proliferation // i...\n",
      "2  1552257_a_at  0006464 // cellular protein modification proce...\n",
      "3    1552258_at                                                NaN\n",
      "4    1552261_at  0006508 // proteolysis // traceable author sta...\n",
      "5    1552263_at  0000165 // MAPK cascade // traceable author st...\n",
      "6  1552264_a_at  0000165 // MAPK cascade // traceable author st...\n",
      "7    1552266_at  0006508 // proteolysis // inferred from electr...\n",
      "8    1552269_at                                                NaN\n",
      "9    1552271_at                                                NaN\n"
     ]
    }
   ],
   "source": [
    "probe_col = ann.columns[0]\n",
    "gene_symbol_col = ann.columns[13]   # update 13 to your correct index\n",
    "\n",
    "ann_sub = ann[[probe_col, gene_symbol_col]].copy()\n",
    "ann_sub.columns = ['Gene', 'GeneSymbol']\n",
    "print(ann_sub.head(10))\n"
   ]
  },
  {
   "cell_type": "code",
   "execution_count": 57,
   "id": "8b4b415b-db07-4a89-a5a5-41ced5ea86a9",
   "metadata": {},
   "outputs": [
    {
     "name": "stdout",
     "output_type": "stream",
     "text": [
      "           Gene GeneSymbol\n",
      "0     1494_f_at    0006805\n",
      "1  1552256_a_at    0001935\n",
      "2  1552257_a_at    0006464\n",
      "3    1552258_at        nan\n",
      "4    1552261_at    0006508\n",
      "5    1552263_at    0000165\n",
      "6  1552264_a_at    0000165\n",
      "7    1552266_at    0006508\n",
      "8    1552269_at        nan\n",
      "9    1552271_at        nan\n"
     ]
    }
   ],
   "source": [
    "ann_sub['GeneSymbol'] = ann_sub['GeneSymbol'].astype(str).str.split(' ').str[0]\n",
    "ann_sub['GeneSymbol'] = ann_sub['GeneSymbol'].str.split('///').str[0]\n",
    "print(ann_sub.head(10))\n"
   ]
  },
  {
   "cell_type": "code",
   "execution_count": 58,
   "id": "3e78058d-ce43-4d39-9dbf-8d8a1a4bbd66",
   "metadata": {},
   "outputs": [
    {
     "name": "stdout",
     "output_type": "stream",
     "text": [
      "          Gene GeneSymbol      adj_pval\n",
      "0  216248_s_at    0001666  7.003229e-15\n",
      "1  208869_s_at    0000045  8.173767e-14\n",
      "2  204622_x_at    0001666  1.530995e-13\n",
      "3    244054_at        nan  8.077776e-12\n",
      "4  208868_s_at    0000045  7.070679e-11\n",
      "5    203574_at    0000122  7.070679e-11\n",
      "6    240103_at        nan  7.190890e-11\n",
      "7    203888_at    0007165  1.040570e-10\n",
      "8  204621_s_at    0001666  1.965794e-10\n",
      "9  218559_s_at    0006351  2.410181e-10\n"
     ]
    }
   ],
   "source": [
    "deg_annotated = pd.merge(deg_results, ann_sub, on='Gene', how='left')\n",
    "print(deg_annotated[['Gene', 'GeneSymbol', 'adj_pval']].head(10))\n"
   ]
  },
  {
   "cell_type": "code",
   "execution_count": 59,
   "id": "82e7d8d7-efb6-4573-86ea-e97e29fc1a6c",
   "metadata": {},
   "outputs": [],
   "source": [
    "deg_annotated.to_csv(\"DEGs_with_GeneSymbol.csv\", index=False)\n"
   ]
  },
  {
   "cell_type": "code",
   "execution_count": 60,
   "id": "2e9faebe-0f2e-41e3-961b-6e55ebddbc7c",
   "metadata": {},
   "outputs": [],
   "source": [
    "# Filter out empty/non-informative symbols\n",
    "gene_list = deg_annotated['GeneSymbol'].dropna().unique()\n",
    "with open(\"GeneSymbol_list.txt\", \"w\") as f:\n",
    "    for gene in gene_list:\n",
    "        f.write(str(gene) + \"\\n\")\n"
   ]
  },
  {
   "cell_type": "code",
   "execution_count": 61,
   "id": "7a545b55-b628-458f-a34a-53603527fd4c",
   "metadata": {},
   "outputs": [
    {
     "name": "stdout",
     "output_type": "stream",
     "text": [
      "['.conda', '.config', '.idlerc', '.ipynb_checkpoints', '.ipython', '.jupyter', '.matplotlib', '.thumbnails', 'AppData', 'Application Data', 'Contacts', 'Cookies', 'DEGs_with_GeneSymbol.csv', 'Desktop', 'Documents', 'Downloads', 'Dropbox', 'Favorites', 'GeneSymbol_list.txt', 'GPL570-55999.txt', 'GSE66360_series_matrix.txt.gz', 'Links', 'Local Settings', 'miniconda3', 'Music', 'My Documents', 'NetHood', 'NTUSER.DAT', 'ntuser.dat.LOG1', 'ntuser.dat.LOG2', 'NTUSER.DAT{cabe2134-40e6-11f0-8441-88abdee76abe}.TM.blf', 'NTUSER.DAT{cabe2134-40e6-11f0-8441-88abdee76abe}.TMContainer00000000000000000001.regtrans-ms', 'NTUSER.DAT{cabe2134-40e6-11f0-8441-88abdee76abe}.TMContainer00000000000000000002.regtrans-ms', 'ntuser.ini', 'OneDrive', 'PrintHood', 'py', 'python', 'Recent', 'Saved Games', 'Searches', 'SendTo', 'Start Menu', 'Templates', 'top10_predictive_genes.csv', 'top_de_genes.csv', 'Untitled.ipynb', 'Untitled1.ipynb', 'Videos', 'Zotero']\n"
     ]
    }
   ],
   "source": [
    "import os\n",
    "print(os.listdir())\n"
   ]
  },
  {
   "cell_type": "code",
   "execution_count": 62,
   "id": "35435a9e-c9cc-49e5-89d3-f28c4ed6f24d",
   "metadata": {},
   "outputs": [
    {
     "name": "stdout",
     "output_type": "stream",
     "text": [
      "Gene,pval,adj_pval,log2_fc,GeneSymbol\n",
      "216248_s_at,1.2808832548522478e-19,7.003229195904665e-15,-0.1514472452907789,0001666\n",
      "208869_s_at,2.9899468718277424e-18,8.173767260859091e-14,0.07642444893839251,0000045\n",
      "204622_x_at,8.400520807987535e-18,1.5309949172557282e-13,0.7844275205857798,0001666\n",
      "244054_at,5.909666787788285e-16,8.077775790558111e-12,0.009883707715247603,nan\n",
      "0001666\n",
      "0000045\n",
      "nan\n",
      "0000122\n",
      "0007165\n"
     ]
    }
   ],
   "source": [
    "# For CSV\n",
    "with open(\"DEGs_with_GeneSymbol.csv\") as f:\n",
    "    for _ in range(5):\n",
    "        print(f.readline().strip())\n",
    "\n",
    "# For TXT gene list\n",
    "with open(\"GeneSymbol_list.txt\") as f:\n",
    "    for _ in range(5):\n",
    "        print(f.readline().strip())\n"
   ]
  },
  {
   "cell_type": "code",
   "execution_count": 63,
   "id": "3d20b78e-a856-453b-b9bb-c01d9528823d",
   "metadata": {},
   "outputs": [
    {
     "name": "stdout",
     "output_type": "stream",
     "text": [
      "['1487_at', 'L38487', 'Unnamed: 2', 'Homo sapiens', 'Oct 6, 2014', 'Exemplar sequence', 'Affymetrix Proprietary Database', \"L38487 /FEATURE=mRNA /DEFINITION=HUMHERRA1 Human estrogen receptor-related protein (hERRa1) mRNA, 3' end, partial cds\", 'L38487.1', 'estrogen-related receptor alpha', 'ESRRA', '2101', 'NM_001282450 /// NM_001282451 /// NM_004451 /// XM_006718449 /// XM_006718450', '0006351 // transcription, DNA-templated // inferred from electronic annotation /// 0006355 // regulation of transcription, DNA-templated // inferred from mutant phenotype /// 0006367 // transcription initiation from RNA polymerase II promoter // traceable author statement /// 0010467 // gene expression // traceable author statement /// 0030278 // regulation of ossification // inferred from electronic annotation /// 0030522 // intracellular receptor signaling pathway // traceable author statement /// 0042127 // regulation of cell proliferation // inferred from electronic annotation /// 0043401 // steroid hormone mediated signaling pathway // inferred from electronic annotation /// 0045667 // regulation of osteoblast differentiation // inferred from electronic annotation /// 0045670 // regulation of osteoclast differentiation // inferred from electronic annotation /// 0045893 // positive regulation of transcription, DNA-templated // inferred from electronic annotation /// 0045944 // positive regulation of transcription from RNA polymerase II promoter // inferred from sequence or structural similarity /// 0051216 // cartilage development // inferred from electronic annotation', '0005634 // nucleus // inferred from direct assay /// 0005654 // nucleoplasm // traceable author statement /// 0005730 // nucleolus // inferred from direct assay /// 0015630 // microtubule cytoskeleton // inferred from direct assay /// 0045171 // intercellular bridge // inferred from direct assay', '0003677 // DNA binding // traceable author statement /// 0003700 // sequence-specific DNA binding transcription factor activity // inferred from electronic annotation /// 0003707 // steroid hormone receptor activity // inferred from electronic annotation /// 0004879 // ligand-activated sequence-specific DNA binding RNA polymerase II transcription factor activity // traceable author statement /// 0005496 // steroid binding // inferred from electronic annotation /// 0005515 // protein binding // inferred from physical interaction /// 0008270 // zinc ion binding // inferred from electronic annotation /// 0019904 // protein domain specific binding // inferred from physical interaction /// 0043565 // sequence-specific DNA binding // inferred from direct assay /// 0046872 // metal ion binding // inferred from electronic annotation']\n"
     ]
    }
   ],
   "source": [
    "print(list(ann.columns))\n"
   ]
  },
  {
   "cell_type": "code",
   "execution_count": 65,
   "id": "d77768f9-c085-4426-ad59-b147c02fd6fe",
   "metadata": {},
   "outputs": [
    {
     "name": "stdout",
     "output_type": "stream",
     "text": [
      "['1487_at', 'L38487', 'Unnamed: 2', 'Homo sapiens', 'Oct 6, 2014', 'Exemplar sequence', 'Affymetrix Proprietary Database', \"L38487 /FEATURE=mRNA /DEFINITION=HUMHERRA1 Human estrogen receptor-related protein (hERRa1) mRNA, 3' end, partial cds\", 'L38487.1', 'estrogen-related receptor alpha', 'ESRRA', '2101', 'NM_001282450 /// NM_001282451 /// NM_004451 /// XM_006718449 /// XM_006718450', '0006351 // transcription, DNA-templated // inferred from electronic annotation /// 0006355 // regulation of transcription, DNA-templated // inferred from mutant phenotype /// 0006367 // transcription initiation from RNA polymerase II promoter // traceable author statement /// 0010467 // gene expression // traceable author statement /// 0030278 // regulation of ossification // inferred from electronic annotation /// 0030522 // intracellular receptor signaling pathway // traceable author statement /// 0042127 // regulation of cell proliferation // inferred from electronic annotation /// 0043401 // steroid hormone mediated signaling pathway // inferred from electronic annotation /// 0045667 // regulation of osteoblast differentiation // inferred from electronic annotation /// 0045670 // regulation of osteoclast differentiation // inferred from electronic annotation /// 0045893 // positive regulation of transcription, DNA-templated // inferred from electronic annotation /// 0045944 // positive regulation of transcription from RNA polymerase II promoter // inferred from sequence or structural similarity /// 0051216 // cartilage development // inferred from electronic annotation', '0005634 // nucleus // inferred from direct assay /// 0005654 // nucleoplasm // traceable author statement /// 0005730 // nucleolus // inferred from direct assay /// 0015630 // microtubule cytoskeleton // inferred from direct assay /// 0045171 // intercellular bridge // inferred from direct assay', '0003677 // DNA binding // traceable author statement /// 0003700 // sequence-specific DNA binding transcription factor activity // inferred from electronic annotation /// 0003707 // steroid hormone receptor activity // inferred from electronic annotation /// 0004879 // ligand-activated sequence-specific DNA binding RNA polymerase II transcription factor activity // traceable author statement /// 0005496 // steroid binding // inferred from electronic annotation /// 0005515 // protein binding // inferred from physical interaction /// 0008270 // zinc ion binding // inferred from electronic annotation /// 0019904 // protein domain specific binding // inferred from physical interaction /// 0043565 // sequence-specific DNA binding // inferred from direct assay /// 0046872 // metal ion binding // inferred from electronic annotation']\n"
     ]
    }
   ],
   "source": [
    "print(list(ann.columns))\n"
   ]
  },
  {
   "cell_type": "code",
   "execution_count": 67,
   "id": "0b710b13-7377-4d74-bd1b-69d9bfbe7a3f",
   "metadata": {},
   "outputs": [
    {
     "name": "stdout",
     "output_type": "stream",
     "text": [
      "0: 1487_at\n",
      "1: L38487\n",
      "2: Unnamed: 2\n",
      "3: Homo sapiens\n",
      "4: Oct 6, 2014\n",
      "5: Exemplar sequence\n",
      "6: Affymetrix Proprietary Database\n",
      "7: L38487 /FEATURE=mRNA /DEFINITION=HUMHERRA1 Human estrogen receptor-related protein (hERRa1) mRNA, 3' end, partial cds\n",
      "8: L38487.1\n",
      "9: estrogen-related receptor alpha\n",
      "10: ESRRA\n",
      "11: 2101\n",
      "12: NM_001282450 /// NM_001282451 /// NM_004451 /// XM_006718449 /// XM_006718450\n",
      "13: 0006351 // transcription, DNA-templated // inferred from electronic annotation /// 0006355 // regulation of transcription, DNA-templated // inferred from mutant phenotype /// 0006367 // transcription initiation from RNA polymerase II promoter // traceable author statement /// 0010467 // gene expression // traceable author statement /// 0030278 // regulation of ossification // inferred from electronic annotation /// 0030522 // intracellular receptor signaling pathway // traceable author statement /// 0042127 // regulation of cell proliferation // inferred from electronic annotation /// 0043401 // steroid hormone mediated signaling pathway // inferred from electronic annotation /// 0045667 // regulation of osteoblast differentiation // inferred from electronic annotation /// 0045670 // regulation of osteoclast differentiation // inferred from electronic annotation /// 0045893 // positive regulation of transcription, DNA-templated // inferred from electronic annotation /// 0045944 // positive regulation of transcription from RNA polymerase II promoter // inferred from sequence or structural similarity /// 0051216 // cartilage development // inferred from electronic annotation\n",
      "14: 0005634 // nucleus // inferred from direct assay /// 0005654 // nucleoplasm // traceable author statement /// 0005730 // nucleolus // inferred from direct assay /// 0015630 // microtubule cytoskeleton // inferred from direct assay /// 0045171 // intercellular bridge // inferred from direct assay\n",
      "15: 0003677 // DNA binding // traceable author statement /// 0003700 // sequence-specific DNA binding transcription factor activity // inferred from electronic annotation /// 0003707 // steroid hormone receptor activity // inferred from electronic annotation /// 0004879 // ligand-activated sequence-specific DNA binding RNA polymerase II transcription factor activity // traceable author statement /// 0005496 // steroid binding // inferred from electronic annotation /// 0005515 // protein binding // inferred from physical interaction /// 0008270 // zinc ion binding // inferred from electronic annotation /// 0019904 // protein domain specific binding // inferred from physical interaction /// 0043565 // sequence-specific DNA binding // inferred from direct assay /// 0046872 // metal ion binding // inferred from electronic annotation\n"
     ]
    }
   ],
   "source": [
    "for idx, name in enumerate(ann.columns):\n",
    "    print(f\"{idx}: {name}\")\n"
   ]
  },
  {
   "cell_type": "code",
   "execution_count": 69,
   "id": "2fcb6b36-cc64-49b5-b5e8-51b7dafee1d7",
   "metadata": {},
   "outputs": [
    {
     "name": "stdout",
     "output_type": "stream",
     "text": [
      "0: 1487_at\n",
      "1: L38487\n",
      "2: Unnamed: 2\n",
      "3: Homo sapiens\n",
      "4: Oct 6, 2014\n",
      "5: Exemplar sequence\n",
      "6: Affymetrix Proprietary Database\n",
      "7: L38487 /FEATURE=mRNA /DEFINITION=HUMHERRA1 Human estrogen receptor-related protein (hERRa1) mRNA, 3' end, partial cds\n",
      "8: L38487.1\n",
      "9: estrogen-related receptor alpha\n",
      "10: ESRRA\n",
      "11: 2101\n",
      "12: NM_001282450 /// NM_001282451 /// NM_004451 /// XM_006718449 /// XM_006718450\n",
      "13: 0006351 // transcription, DNA-templated // inferred from electronic annotation /// 0006355 // regulation of transcription, DNA-templated // inferred from mutant phenotype /// 0006367 // transcription initiation from RNA polymerase II promoter // traceable author statement /// 0010467 // gene expression // traceable author statement /// 0030278 // regulation of ossification // inferred from electronic annotation /// 0030522 // intracellular receptor signaling pathway // traceable author statement /// 0042127 // regulation of cell proliferation // inferred from electronic annotation /// 0043401 // steroid hormone mediated signaling pathway // inferred from electronic annotation /// 0045667 // regulation of osteoblast differentiation // inferred from electronic annotation /// 0045670 // regulation of osteoclast differentiation // inferred from electronic annotation /// 0045893 // positive regulation of transcription, DNA-templated // inferred from electronic annotation /// 0045944 // positive regulation of transcription from RNA polymerase II promoter // inferred from sequence or structural similarity /// 0051216 // cartilage development // inferred from electronic annotation\n",
      "14: 0005634 // nucleus // inferred from direct assay /// 0005654 // nucleoplasm // traceable author statement /// 0005730 // nucleolus // inferred from direct assay /// 0015630 // microtubule cytoskeleton // inferred from direct assay /// 0045171 // intercellular bridge // inferred from direct assay\n",
      "15: 0003677 // DNA binding // traceable author statement /// 0003700 // sequence-specific DNA binding transcription factor activity // inferred from electronic annotation /// 0003707 // steroid hormone receptor activity // inferred from electronic annotation /// 0004879 // ligand-activated sequence-specific DNA binding RNA polymerase II transcription factor activity // traceable author statement /// 0005496 // steroid binding // inferred from electronic annotation /// 0005515 // protein binding // inferred from physical interaction /// 0008270 // zinc ion binding // inferred from electronic annotation /// 0019904 // protein domain specific binding // inferred from physical interaction /// 0043565 // sequence-specific DNA binding // inferred from direct assay /// 0046872 // metal ion binding // inferred from electronic annotation\n"
     ]
    }
   ],
   "source": [
    "for idx, name in enumerate(ann.columns):\n",
    "    print(f\"{idx}: {name}\")\n"
   ]
  },
  {
   "cell_type": "code",
   "execution_count": 3,
   "id": "bac2df82-2f66-42f6-8735-6ad40f30ce9a",
   "metadata": {},
   "outputs": [
    {
     "name": "stdout",
     "output_type": "stream",
     "text": [
      "Index(['Gene', 'pval', 'adj_pval', 'log2_fc', 'GeneSymbol'], dtype='object')\n"
     ]
    }
   ],
   "source": [
    "import pandas as pd\n",
    "ann = pd.read_csv('DEGs_with_GeneSymbol.csv')\n",
    "print(ann.columns)  # Verify columns are as expected\n"
   ]
  },
  {
   "cell_type": "code",
   "execution_count": 4,
   "id": "e02b23f7-25ec-43e4-8a9e-2ac4ee5ae24c",
   "metadata": {},
   "outputs": [
    {
     "name": "stdout",
     "output_type": "stream",
     "text": [
      "          Gene GeneSymbol\n",
      "0  216248_s_at     1666.0\n",
      "1  208869_s_at       45.0\n",
      "2  204622_x_at     1666.0\n",
      "3    244054_at        nan\n",
      "4  208868_s_at       45.0\n",
      "5    203574_at      122.0\n",
      "6    240103_at        nan\n",
      "7    203888_at     7165.0\n",
      "8  204621_s_at     1666.0\n",
      "9  218559_s_at     6351.0\n"
     ]
    }
   ],
   "source": [
    "probe_col = 'Gene'       # Update this to your actual column name\n",
    "gene_symbol_col = 'GeneSymbol'  # Update as needed\n",
    "\n",
    "ann_sub = ann[[probe_col, gene_symbol_col]].copy()\n",
    "ann_sub.columns = ['Gene', 'GeneSymbol']\n",
    "\n",
    "# Clean up gene symbols if there are delimiters (e.g., “///”)\n",
    "ann_sub['GeneSymbol'] = ann_sub['GeneSymbol'].astype(str).str.split('///').str[0]\n",
    "\n",
    "print(ann_sub.head(10))\n"
   ]
  },
  {
   "cell_type": "code",
   "execution_count": 5,
   "id": "793dfeff-a3ca-47d6-a90c-bd2cd0f2c103",
   "metadata": {},
   "outputs": [
    {
     "name": "stdout",
     "output_type": "stream",
     "text": [
      "           Gene GeneSymbol\n",
      "3     244054_at        nan\n",
      "6     240103_at        nan\n",
      "12    241279_at        nan\n",
      "39   1558299_at        nan\n",
      "49    240038_at        nan\n",
      "55    235536_at        nan\n",
      "94   1563118_at        nan\n",
      "98    235739_at        nan\n",
      "104   244026_at        nan\n",
      "107  1562194_at        nan\n"
     ]
    }
   ],
   "source": [
    "# Remove rows where GeneSymbol is missing or not a valid string (optional)\n",
    "ann_sub = ann_sub[ann_sub['GeneSymbol'].notna()]\n",
    "ann_sub = ann_sub[ann_sub['GeneSymbol'].apply(lambda x: isinstance(x, str) and x.isalpha())]\n",
    "print(ann_sub.head(10))\n"
   ]
  },
  {
   "cell_type": "code",
   "execution_count": 6,
   "id": "8642c15a-7cc0-4696-ad1d-e3620031ae29",
   "metadata": {},
   "outputs": [],
   "source": [
    "ann_sub['GeneSymbol'].to_csv('clean_gene_symbols.txt', index=False, header=False)\n"
   ]
  },
  {
   "cell_type": "code",
   "execution_count": 7,
   "id": "c4556efd-385f-4cbf-8d49-aa0958fc6a43",
   "metadata": {},
   "outputs": [
    {
     "name": "stdout",
     "output_type": "stream",
     "text": [
      "nan\n",
      "nan\n",
      "nan\n",
      "nan\n",
      "nan\n",
      "nan\n",
      "nan\n",
      "nan\n",
      "nan\n",
      "nan\n"
     ]
    }
   ],
   "source": [
    "# Load and display the first few lines to verify\n",
    "with open('clean_gene_symbols.txt') as f:\n",
    "    for _ in range(10):\n",
    "        print(next(f).strip())\n"
   ]
  },
  {
   "cell_type": "code",
   "execution_count": 8,
   "id": "d5ce6a9b-dba9-43aa-b903-b67ca72a68f7",
   "metadata": {},
   "outputs": [
    {
     "name": "stdout",
     "output_type": "stream",
     "text": [
      "            Gene  GeneSymbol\n",
      "0    216248_s_at      1666.0\n",
      "1    208869_s_at        45.0\n",
      "2    204622_x_at      1666.0\n",
      "3      244054_at         NaN\n",
      "4    208868_s_at        45.0\n",
      "5      203574_at       122.0\n",
      "6      240103_at         NaN\n",
      "7      203888_at      7165.0\n",
      "8    204621_s_at      1666.0\n",
      "9    218559_s_at      6351.0\n",
      "10   222934_s_at      2376.0\n",
      "11   203887_s_at      7165.0\n",
      "12     241279_at         NaN\n",
      "13   204908_s_at        60.0\n",
      "14   210423_s_at        60.0\n",
      "15     205863_at      2376.0\n",
      "16  1555167_s_at      6766.0\n",
      "17   211372_s_at      6955.0\n",
      "18   217202_s_at      1504.0\n",
      "19     220034_at      1960.0\n"
     ]
    }
   ],
   "source": [
    "print(ann[['Gene', 'GeneSymbol']].head(20))\n",
    "\n"
   ]
  },
  {
   "cell_type": "code",
   "execution_count": 9,
   "id": "68a4f46b-9fc2-4593-8b1c-c042a8d2d055",
   "metadata": {},
   "outputs": [
    {
     "name": "stdout",
     "output_type": "stream",
     "text": [
      "Empty DataFrame\n",
      "Columns: [Gene, GeneSymbol]\n",
      "Index: []\n"
     ]
    }
   ],
   "source": [
    "# Remove rows with missing or non-string symbols\n",
    "ann_sub = ann[ann['GeneSymbol'].notna()]\n",
    "ann_sub = ann_sub[ann_sub['GeneSymbol'].apply(lambda x: isinstance(x, str) and not x.isnumeric() and x.strip().isalpha())]\n",
    "print(ann_sub[['Gene', 'GeneSymbol']].head(10))\n",
    "\n"
   ]
  },
  {
   "cell_type": "code",
   "execution_count": 10,
   "id": "20ac5333-1d78-4a59-84ba-5e6356534d31",
   "metadata": {},
   "outputs": [
    {
     "name": "stdout",
     "output_type": "stream",
     "text": [
      "          Gene\n",
      "0  216248_s_at\n",
      "1  208869_s_at\n",
      "2  204622_x_at\n",
      "3    244054_at\n",
      "4  208868_s_at\n",
      "Index(['Gene'], dtype='object')\n"
     ]
    }
   ],
   "source": [
    "# Load another file\n",
    "df_alt = pd.read_csv('top_de_genes.csv')\n",
    "print(df_alt.head())\n",
    "print(df_alt.columns)\n"
   ]
  },
  {
   "cell_type": "code",
   "execution_count": 12,
   "id": "ad5a0f3f-d1a0-4fe7-8ec4-6559a08c0fc4",
   "metadata": {},
   "outputs": [],
   "source": [
    "with open('GPL570-55999.txt', 'r') as f:\n",
    "    lines = f.readlines()\n",
    "\n",
    "# Skip lines until you reach the line where data starts (after comments)\n",
    "# For example, header could be at line 37\n",
    "data_lines = lines[37:]  # adjust as needed\n"
   ]
  },
  {
   "cell_type": "code",
   "execution_count": 13,
   "id": "2a7769db-16d9-47fd-998b-8245bd8b480e",
   "metadata": {},
   "outputs": [
    {
     "name": "stdout",
     "output_type": "stream",
     "text": [
      "['1552269_at\\tNM_138796\\t\\tHomo sapiens\\tOct 6, 2014\\tConsensus sequence\\tGenBank\\tgb:NM_138796.1 /DB_XREF=gi:20270344 /TID=Hs2.99214.1 /CNT=32 /FEA=FLmRNA /TIER=FL+Stack /STK=14 /LL=128153 /UG_GENE=LOC128153 /UG=Hs.99214 /UG_TITLE=hypothetical protein BC014608 /DEF=Homo sapiens hypothetical protein BC014608 (LOC128153), mRNA. /FL=gb:NM_138796.1 gb:BC014608.1\\tNM_138796\\tspermatogenesis associated 17\\tSPATA17\\t128153\\tNM_138796', 'XM_005273052', 'XM_006711165\\t\\t0005737 // cytoplasm // inferred from electronic annotation\\t0005515 // protein binding // inferred from electronic annotation', '0005516 // calmodulin binding // inferred from electronic annotation']\n"
     ]
    }
   ],
   "source": [
    "parsed_data = []\n",
    "\n",
    "for line in data_lines:\n",
    "    # Split by triple slash delimiter with spaces trimmed\n",
    "    parts = [part.strip() for part in line.split('///')]\n",
    "    parsed_data.append(parts)\n",
    "\n",
    "# Check the first parsed row\n",
    "print(parsed_data[0])\n"
   ]
  },
  {
   "cell_type": "code",
   "execution_count": 15,
   "id": "38f0eccd-ea52-4b14-a9fe-6f02f0a998ee",
   "metadata": {},
   "outputs": [
    {
     "name": "stdout",
     "output_type": "stream",
     "text": [
      "4 ['1552269_at\\tNM_138796\\t\\tHomo sapiens\\tOct 6, 2014\\tConsensus sequence\\tGenBank\\tgb:NM_138796.1 /DB_XREF=gi:20270344 /TID=Hs2.99214.1 /CNT=32 /FEA=FLmRNA /TIER=FL+Stack /STK=14 /LL=128153 /UG_GENE=LOC128153 /UG=Hs.99214 /UG_TITLE=hypothetical protein BC014608 /DEF=Homo sapiens hypothetical protein BC014608 (LOC128153), mRNA. /FL=gb:NM_138796.1 gb:BC014608.1\\tNM_138796\\tspermatogenesis associated 17\\tSPATA17\\t128153\\tNM_138796', 'XM_005273052', 'XM_006711165\\t\\t0005737 // cytoplasm // inferred from electronic annotation\\t0005515 // protein binding // inferred from electronic annotation', '0005516 // calmodulin binding // inferred from electronic annotation']\n",
      "2 ['1552271_at\\tNM_153359\\t\\tHomo sapiens\\tOct 6, 2014\\tConsensus sequence\\tGenBank\\tgb:NM_153359.1 /DB_XREF=gi:23503298 /TID=Hs2.214543.1 /CNT=20 /FEA=FLmRNA /TIER=FL+Stack /STK=13 /LL=163154 /UG_GENE=MGC24975 /UG=Hs.214543 /UG_TITLE=hypothetical protein MGC24975 /DEF=Homo sapiens hypothetical protein MGC24975 (MGC24975), mRNA. /FL=gb:NM_153359.1 gb:BC023278.1\\tNM_153359\\tproline rich 22\\tPRR22\\t163154\\tNM_001134316', 'NM_153359']\n",
      "2 ['1552272_a_at\\tNM_153359\\t\\tHomo sapiens\\tOct 6, 2014\\tConsensus sequence\\tGenBank\\tgb:NM_153359.1 /DB_XREF=gi:23503298 /TID=Hs2.214543.1 /CNT=20 /FEA=FLmRNA /TIER=FL+Stack /STK=13 /LL=163154 /UG_GENE=MGC24975 /UG=Hs.214543 /UG_TITLE=hypothetical protein MGC24975 /DEF=Homo sapiens hypothetical protein MGC24975 (MGC24975), mRNA. /FL=gb:NM_153359.1 gb:BC023278.1\\tNM_153359\\tproline rich 22\\tPRR22\\t163154\\tNM_001134316', 'NM_153359']\n",
      "37 ['1552274_at\\tBC014479\\t\\tHomo sapiens\\tOct 6, 2014\\tConsensus sequence\\tGenBank\\tgb:BC014479.1 /DB_XREF=gi:15680248 /TID=Hs2.322934.1 /CNT=70 /FEA=FLmRNA /TIER=FL+Stack /STK=11 /LL=54899 /UG_GENE=FLJ20335 /UG=Hs.322934 /DEF=Homo sapiens, clone MGC:23156 IMAGE:4856139, mRNA, complete cds. /PROD=Unknown (protein for MGC:23156) /FL=gb:AF399753.1 gb:NM_017771.1 gb:BC014479.1\\tBC014479\\tPX domain containing serine/threonine kinase\\tPXK\\t54899\\tNM_001289095', 'NM_001289096', 'NM_001289098', 'NM_001289099', 'NM_001289100', 'NM_001289101', 'NM_017771', 'XM_005265250', 'XM_005265252', 'XM_005265255', 'XM_005265256', 'XM_006713213\\t0006468 // protein phosphorylation // non-traceable author statement', '0006954 // inflammatory response // inferred from mutant phenotype', '0007154 // cell communication // inferred from electronic annotation', '0008152 // metabolic process // inferred from electronic annotation', '0016310 // phosphorylation // inferred from electronic annotation', '0032780 // negative regulation of ATPase activity // inferred from electronic annotation', '0032780 // negative regulation of ATPase activity // inferred from sequence or structural similarity', '0043271 // negative regulation of ion transport // inferred from electronic annotation', '0043271 // negative regulation of ion transport // inferred from sequence or structural similarity', '0050804 // regulation of synaptic transmission // inferred from sequence or structural similarity\\t0005634 // nucleus // inferred from direct assay', '0005737 // cytoplasm // inferred from direct assay', '0005737 // cytoplasm // inferred from sequence or structural similarity', '0005813 // centrosome // inferred from direct assay', '0005815 // microtubule organizing center // inferred from direct assay', '0005886 // plasma membrane // inferred from direct assay', '0005886 // plasma membrane // inferred from sequence or structural similarity', '0016020 // membrane // inferred from electronic annotation\\t0000166 // nucleotide binding // non-traceable author statement', '0003779 // actin binding // inferred from electronic annotation', '0004672 // protein kinase activity // non-traceable author statement', '0005524 // ATP binding // non-traceable author statement', '0008022 // protein C-terminus binding // inferred from electronic annotation', '0008022 // protein C-terminus binding // inferred from sequence or structural similarity', '0016301 // kinase activity // inferred from electronic annotation', '0016772 // transferase activity, transferring phosphorus-containing groups // inferred from electronic annotation', '0035091 // phosphatidylinositol binding // inferred from electronic annotation', '0035091 // phosphatidylinositol binding // non-traceable author statement']\n",
      "37 ['1552275_s_at\\tBG573647\\t\\tHomo sapiens\\tOct 6, 2014\\tConsensus sequence\\tGenBank\\tgb:BG573647 /DB_XREF=gi:13581300 /DB_XREF=602594669F1 /CLONE=IMAGE:4722136 /TID=Hs2.322934.1 /CNT=70 /FEA=FLmRNA /TIER=ConsEnd /STK=0 /LL=54899 /UG_GENE=FLJ20335 /UG=Hs.322934 /UG_TITLE=hypothetical protein FLJ20335 /FL=gb:AF399753.1 gb:NM_017771.1 gb:BC014479.1\\tBG573647\\tPX domain containing serine/threonine kinase\\tPXK\\t54899\\tNM_001289095', 'NM_001289096', 'NM_001289098', 'NM_001289099', 'NM_001289100', 'NM_001289101', 'NM_017771', 'XM_005265250', 'XM_005265252', 'XM_005265255', 'XM_005265256', 'XM_006713213\\t0006468 // protein phosphorylation // non-traceable author statement', '0006954 // inflammatory response // inferred from mutant phenotype', '0007154 // cell communication // inferred from electronic annotation', '0008152 // metabolic process // inferred from electronic annotation', '0016310 // phosphorylation // inferred from electronic annotation', '0032780 // negative regulation of ATPase activity // inferred from electronic annotation', '0032780 // negative regulation of ATPase activity // inferred from sequence or structural similarity', '0043271 // negative regulation of ion transport // inferred from electronic annotation', '0043271 // negative regulation of ion transport // inferred from sequence or structural similarity', '0050804 // regulation of synaptic transmission // inferred from sequence or structural similarity\\t0005634 // nucleus // inferred from direct assay', '0005737 // cytoplasm // inferred from direct assay', '0005737 // cytoplasm // inferred from sequence or structural similarity', '0005813 // centrosome // inferred from direct assay', '0005815 // microtubule organizing center // inferred from direct assay', '0005886 // plasma membrane // inferred from direct assay', '0005886 // plasma membrane // inferred from sequence or structural similarity', '0016020 // membrane // inferred from electronic annotation\\t0000166 // nucleotide binding // non-traceable author statement', '0003779 // actin binding // inferred from electronic annotation', '0004672 // protein kinase activity // non-traceable author statement', '0005524 // ATP binding // non-traceable author statement', '0008022 // protein C-terminus binding // inferred from electronic annotation', '0008022 // protein C-terminus binding // inferred from sequence or structural similarity', '0016301 // kinase activity // inferred from electronic annotation', '0016772 // transferase activity, transferring phosphorus-containing groups // inferred from electronic annotation', '0035091 // phosphatidylinositol binding // inferred from electronic annotation', '0035091 // phosphatidylinositol binding // non-traceable author statement']\n"
     ]
    }
   ],
   "source": [
    "for i in range(5):\n",
    "    print(len(parsed_data[i]), parsed_data[i])\n"
   ]
  },
  {
   "cell_type": "code",
   "execution_count": 16,
   "id": "2650c9db-1408-4cd1-81c5-41e3495aef83",
   "metadata": {},
   "outputs": [
    {
     "name": "stdout",
     "output_type": "stream",
     "text": [
      "Column 0: ['1552269_at\\tNM_138796\\t\\tHomo sapiens\\tOct 6, 2014\\tConsensus sequence\\tGenBank\\tgb:NM_138796.1 /DB_XREF=gi:20270344 /TID=Hs2.99214.1 /CNT=32 /FEA=FLmRNA /TIER=FL+Stack /STK=14 /LL=128153 /UG_GENE=LOC128153 /UG=Hs.99214 /UG_TITLE=hypothetical protein BC014608 /DEF=Homo sapiens hypothetical protein BC014608 (LOC128153), mRNA. /FL=gb:NM_138796.1 gb:BC014608.1\\tNM_138796\\tspermatogenesis associated 17\\tSPATA17\\t128153\\tNM_138796', 'XM_005273052', 'XM_006711165\\t\\t0005737 // cytoplasm // inferred from electronic annotation\\t0005515 // protein binding // inferred from electronic annotation', '0005516 // calmodulin binding // inferred from electronic annotation']\n",
      "Column 1: ['1552271_at\\tNM_153359\\t\\tHomo sapiens\\tOct 6, 2014\\tConsensus sequence\\tGenBank\\tgb:NM_153359.1 /DB_XREF=gi:23503298 /TID=Hs2.214543.1 /CNT=20 /FEA=FLmRNA /TIER=FL+Stack /STK=13 /LL=163154 /UG_GENE=MGC24975 /UG=Hs.214543 /UG_TITLE=hypothetical protein MGC24975 /DEF=Homo sapiens hypothetical protein MGC24975 (MGC24975), mRNA. /FL=gb:NM_153359.1 gb:BC023278.1\\tNM_153359\\tproline rich 22\\tPRR22\\t163154\\tNM_001134316', 'NM_153359']\n",
      "Column 2: ['1552272_a_at\\tNM_153359\\t\\tHomo sapiens\\tOct 6, 2014\\tConsensus sequence\\tGenBank\\tgb:NM_153359.1 /DB_XREF=gi:23503298 /TID=Hs2.214543.1 /CNT=20 /FEA=FLmRNA /TIER=FL+Stack /STK=13 /LL=163154 /UG_GENE=MGC24975 /UG=Hs.214543 /UG_TITLE=hypothetical protein MGC24975 /DEF=Homo sapiens hypothetical protein MGC24975 (MGC24975), mRNA. /FL=gb:NM_153359.1 gb:BC023278.1\\tNM_153359\\tproline rich 22\\tPRR22\\t163154\\tNM_001134316', 'NM_153359']\n",
      "Column 3: ['1552274_at\\tBC014479\\t\\tHomo sapiens\\tOct 6, 2014\\tConsensus sequence\\tGenBank\\tgb:BC014479.1 /DB_XREF=gi:15680248 /TID=Hs2.322934.1 /CNT=70 /FEA=FLmRNA /TIER=FL+Stack /STK=11 /LL=54899 /UG_GENE=FLJ20335 /UG=Hs.322934 /DEF=Homo sapiens, clone MGC:23156 IMAGE:4856139, mRNA, complete cds. /PROD=Unknown (protein for MGC:23156) /FL=gb:AF399753.1 gb:NM_017771.1 gb:BC014479.1\\tBC014479\\tPX domain containing serine/threonine kinase\\tPXK\\t54899\\tNM_001289095', 'NM_001289096', 'NM_001289098', 'NM_001289099', 'NM_001289100', 'NM_001289101', 'NM_017771', 'XM_005265250', 'XM_005265252', 'XM_005265255', 'XM_005265256', 'XM_006713213\\t0006468 // protein phosphorylation // non-traceable author statement', '0006954 // inflammatory response // inferred from mutant phenotype', '0007154 // cell communication // inferred from electronic annotation', '0008152 // metabolic process // inferred from electronic annotation', '0016310 // phosphorylation // inferred from electronic annotation', '0032780 // negative regulation of ATPase activity // inferred from electronic annotation', '0032780 // negative regulation of ATPase activity // inferred from sequence or structural similarity', '0043271 // negative regulation of ion transport // inferred from electronic annotation', '0043271 // negative regulation of ion transport // inferred from sequence or structural similarity', '0050804 // regulation of synaptic transmission // inferred from sequence or structural similarity\\t0005634 // nucleus // inferred from direct assay', '0005737 // cytoplasm // inferred from direct assay', '0005737 // cytoplasm // inferred from sequence or structural similarity', '0005813 // centrosome // inferred from direct assay', '0005815 // microtubule organizing center // inferred from direct assay', '0005886 // plasma membrane // inferred from direct assay', '0005886 // plasma membrane // inferred from sequence or structural similarity', '0016020 // membrane // inferred from electronic annotation\\t0000166 // nucleotide binding // non-traceable author statement', '0003779 // actin binding // inferred from electronic annotation', '0004672 // protein kinase activity // non-traceable author statement', '0005524 // ATP binding // non-traceable author statement', '0008022 // protein C-terminus binding // inferred from electronic annotation', '0008022 // protein C-terminus binding // inferred from sequence or structural similarity', '0016301 // kinase activity // inferred from electronic annotation', '0016772 // transferase activity, transferring phosphorus-containing groups // inferred from electronic annotation', '0035091 // phosphatidylinositol binding // inferred from electronic annotation', '0035091 // phosphatidylinositol binding // non-traceable author statement']\n",
      "Column 4: ['1552275_s_at\\tBG573647\\t\\tHomo sapiens\\tOct 6, 2014\\tConsensus sequence\\tGenBank\\tgb:BG573647 /DB_XREF=gi:13581300 /DB_XREF=602594669F1 /CLONE=IMAGE:4722136 /TID=Hs2.322934.1 /CNT=70 /FEA=FLmRNA /TIER=ConsEnd /STK=0 /LL=54899 /UG_GENE=FLJ20335 /UG=Hs.322934 /UG_TITLE=hypothetical protein FLJ20335 /FL=gb:AF399753.1 gb:NM_017771.1 gb:BC014479.1\\tBG573647\\tPX domain containing serine/threonine kinase\\tPXK\\t54899\\tNM_001289095', 'NM_001289096', 'NM_001289098', 'NM_001289099', 'NM_001289100', 'NM_001289101', 'NM_017771', 'XM_005265250', 'XM_005265252', 'XM_005265255', 'XM_005265256', 'XM_006713213\\t0006468 // protein phosphorylation // non-traceable author statement', '0006954 // inflammatory response // inferred from mutant phenotype', '0007154 // cell communication // inferred from electronic annotation', '0008152 // metabolic process // inferred from electronic annotation', '0016310 // phosphorylation // inferred from electronic annotation', '0032780 // negative regulation of ATPase activity // inferred from electronic annotation', '0032780 // negative regulation of ATPase activity // inferred from sequence or structural similarity', '0043271 // negative regulation of ion transport // inferred from electronic annotation', '0043271 // negative regulation of ion transport // inferred from sequence or structural similarity', '0050804 // regulation of synaptic transmission // inferred from sequence or structural similarity\\t0005634 // nucleus // inferred from direct assay', '0005737 // cytoplasm // inferred from direct assay', '0005737 // cytoplasm // inferred from sequence or structural similarity', '0005813 // centrosome // inferred from direct assay', '0005815 // microtubule organizing center // inferred from direct assay', '0005886 // plasma membrane // inferred from direct assay', '0005886 // plasma membrane // inferred from sequence or structural similarity', '0016020 // membrane // inferred from electronic annotation\\t0000166 // nucleotide binding // non-traceable author statement', '0003779 // actin binding // inferred from electronic annotation', '0004672 // protein kinase activity // non-traceable author statement', '0005524 // ATP binding // non-traceable author statement', '0008022 // protein C-terminus binding // inferred from electronic annotation', '0008022 // protein C-terminus binding // inferred from sequence or structural similarity', '0016301 // kinase activity // inferred from electronic annotation', '0016772 // transferase activity, transferring phosphorus-containing groups // inferred from electronic annotation', '0035091 // phosphatidylinositol binding // inferred from electronic annotation', '0035091 // phosphatidylinositol binding // non-traceable author statement']\n",
      "Column 5: ['1552276_a_at\\tNM_080432\\t\\tHomo sapiens\\tOct 6, 2014\\tConsensus sequence\\tGenBank\\tgb:NM_080432.1 /DB_XREF=gi:17978486 /GEN=VPS18 /TID=Hs2.23876.1 /CNT=51 /FEA=FLmRNA /TIER=FL+Stack /STK=11 /LL=57617 /UG=Hs.23876 /DEF=Homo sapiens vacuolar protein sorting protein 18 (VPS18), transcript variant 2, mRNA. /PROD=vacuolar protein sorting 18 isoform 2 /FL=gb:NM_080432.1 gb:BC001513.1\\tNM_080432\\tvacuolar protein sorting 18 homolog (S. cerevisiae)\\tVPS18\\t57617\\tNM_020857\\t0006810 // transport // inferred from electronic annotation', '0006886 // intracellular protein transport // inferred from electronic annotation', '0007032 // endosome organization // inferred from direct assay', '0007040 // lysosome organization // inferred from direct assay', '0015031 // protein transport // inferred from electronic annotation', '0016192 // vesicle-mediated transport // inferred from electronic annotation\\t0005764 // lysosome // inferred from electronic annotation', '0005765 // lysosomal membrane // inferred from direct assay', '0005768 // endosome // inferred from electronic annotation', '0005769 // early endosome // inferred from electronic annotation', '0005884 // actin filament // inferred from electronic annotation', '0016020 // membrane // inferred from electronic annotation', '0030897 // HOPS complex // inferred from direct assay', '0031902 // late endosome membrane // inferred from electronic annotation\\t0003779 // actin binding // inferred from electronic annotation', '0005488 // binding // inferred from electronic annotation', '0005515 // protein binding // inferred from physical interaction', '0046872 // metal ion binding // inferred from electronic annotation']\n",
      "Column 6: ['1552277_a_at\\tNM_080655\\t\\tHomo sapiens\\tOct 6, 2014\\tConsensus sequence\\tGenBank\\tgb:NM_080655.1 /DB_XREF=gi:18087818 /TID=Hs2.78531.1 /CNT=25 /FEA=FLmRNA /TIER=FL+Stack /STK=11 /LL=91283 /UG_GENE=MGC17337 /UG=Hs.78531 /UG_TITLE=similar to RIKEN cDNA 5730528L13 gene /DEF=Homo sapiens similar to RIKEN cDNA 5730528L13 gene (MGC17337), mRNA. /FL=gb:NM_080655.1 gb:BC008993.1\\tNM_080655\\tMyb/SANT-like DNA-binding domain containing 3\\tMSANTD3\\t91283\\tNM_001198805', 'NM_001198806', 'NM_001198807', 'NM_080655\\t\\t\\t0042802 // identical protein binding // inferred from electronic annotation']\n",
      "Column 7: ['1552278_a_at\\tNM_080669\\t\\tHomo sapiens\\tOct 6, 2014\\tConsensus sequence\\tGenBank\\tgb:NM_080669.1 /DB_XREF=gi:18087846 /TID=Hs2.343553.1 /CNT=39 /FEA=FLmRNA /TIER=FL+Stack /STK=11 /LL=113235 /UG_GENE=MGC9564 /UG=Hs.343553 /UG_TITLE=similar to RIKEN cDNA 1110002C08 gene /DEF=Homo sapiens similar to RIKEN cDNA 1110002C08 gene (MGC9564), mRNA. /FL=gb:BC010691.1 gb:NM_080669.1\\tNM_080669\\tsolute carrier family 46 (folate transporter), member 1\\tSLC46A1\\t113235\\tNM_001242366', 'NM_080669', 'XM_005277786\\t0006766 // vitamin metabolic process // traceable author statement', '0006767 // water-soluble vitamin metabolic process // traceable author statement', '0006810 // transport // inferred from electronic annotation', '0006879 // cellular iron ion homeostasis // traceable author statement', '0015884 // folic acid transport // inferred from direct assay', '0015886 // heme transport // inferred from electronic annotation', '0044281 // small molecule metabolic process // traceable author statement', '0046655 // folic acid metabolic process // traceable author statement', '0051958 // methotrexate transport // inferred from electronic annotation', '0055085 // transmembrane transport // traceable author statement\\t0005737 // cytoplasm // inferred from sequence or structural similarity', '0005886 // plasma membrane // traceable author statement', '0016020 // membrane // inferred from electronic annotation', '0016021 // integral component of membrane // inferred from electronic annotation', '0016324 // apical plasma membrane // inferred from direct assay', '0031526 // brush border membrane // inferred from electronic annotation\\t0005215 // transporter activity // inferred from electronic annotation', '0005542 // folic acid binding // inferred from electronic annotation', '0008517 // folic acid transporter activity // inferred from direct assay', '0015232 // heme transporter activity // inferred from electronic annotation', '0015350 // methotrexate transporter activity // inferred from electronic annotation']\n",
      "Column 8: ['1552279_a_at\\tAK074161\\t\\tHomo sapiens\\tOct 6, 2014\\tConsensus sequence\\tGenBank\\tgb:AK074161.1 /DB_XREF=gi:18676669 /TID=Hs2.343553.1 /CNT=39 /FEA=FLmRNA /TIER=ConsEnd /STK=0 /LL=113235 /UG_GENE=MGC9564 /UG=Hs.343553 /UG_TITLE=similar to RIKEN cDNA 1110002C08 gene /DEF=Homo sapiens mRNA for FLJ00234 protein. /FL=gb:BC010691.1 gb:NM_080669.1\\tAK074161\\tsolute carrier family 46 (folate transporter), member 1\\tSLC46A1\\t113235\\tNM_001242366', 'NM_080669', 'XM_005277786\\t0006766 // vitamin metabolic process // traceable author statement', '0006767 // water-soluble vitamin metabolic process // traceable author statement', '0006810 // transport // inferred from electronic annotation', '0006879 // cellular iron ion homeostasis // traceable author statement', '0015884 // folic acid transport // inferred from direct assay', '0015886 // heme transport // inferred from electronic annotation', '0044281 // small molecule metabolic process // traceable author statement', '0046655 // folic acid metabolic process // traceable author statement', '0051958 // methotrexate transport // inferred from electronic annotation', '0055085 // transmembrane transport // traceable author statement\\t0005737 // cytoplasm // inferred from sequence or structural similarity', '0005886 // plasma membrane // traceable author statement', '0016020 // membrane // inferred from electronic annotation', '0016021 // integral component of membrane // inferred from electronic annotation', '0016324 // apical plasma membrane // inferred from direct assay', '0031526 // brush border membrane // inferred from electronic annotation\\t0005215 // transporter activity // inferred from electronic annotation', '0005542 // folic acid binding // inferred from electronic annotation', '0008517 // folic acid transporter activity // inferred from direct assay', '0015232 // heme transporter activity // inferred from electronic annotation', '0015350 // methotrexate transporter activity // inferred from electronic annotation']\n",
      "Column 9: ['1552280_at\\tNM_138379\\t\\tHomo sapiens\\tOct 6, 2014\\tConsensus sequence\\tGenBank\\tgb:NM_138379.1 /DB_XREF=gi:19923904 /TID=Hs2.334907.1 /CNT=19 /FEA=FLmRNA /TIER=FL+Stack /STK=11 /LL=91937 /UG_GENE=LOC91937 /UG=Hs.334907 /UG_TITLE=hypothetical protein BC008988 /DEF=Homo sapiens hypothetical protein BC008988 (LOC91937), mRNA. /FL=gb:BC008988.1 gb:NM_138379.1\\tNM_138379\\tT-cell immunoglobulin and mucin domain containing 4\\tTIMD4\\t91937\\tNM_001146726', 'NM_138379\\t\\t0016020 // membrane // inferred from electronic annotation', '0016021 // integral component of membrane // inferred from electronic annotation\\t0005515 // protein binding // inferred from electronic annotation']\n",
      "Column 10: ['1552281_at\\tNM_173596\\t\\tHomo sapiens\\tOct 6, 2014\\tConsensus sequence\\tGenBank\\tgb:NM_173596.1 /DB_XREF=gi:27734776 /TID=Hs2.32699.1 /CNT=27 /FEA=FLmRNA /TIER=FL+Stack /STK=11 /LL=283375 /UG_GENE=MGC34778 /UG=Hs.32699 /UG_TITLE=hypothetical protein MGC34778 /DEF=Homo sapiens hypothetical protein MGC34778 (MGC34778), mRNA. /FL=gb:NM_173596.1 gb:BC027884.1\\tNM_173596\\tsolute carrier family 39 (zinc transporter), member 5\\tSLC39A5\\t283375\\tNM_001135195', 'NM_173596', 'XM_005268803\\t0006810 // transport // inferred from electronic annotation', '0006811 // ion transport // inferred from electronic annotation', '0006829 // zinc ion transport // inferred from electronic annotation', '0030001 // metal ion transport // inferred from electronic annotation', '0034224 // cellular response to zinc ion starvation // inferred from electronic annotation', '0055085 // transmembrane transport // traceable author statement', '0061351 // neural precursor cell proliferation // inferred from sequence or structural similarity', '0070315 // G1 to G0 transition involved in cell differentiation // inferred from sequence or structural similarity\\t0005886 // plasma membrane // inferred from electronic annotation', '0016020 // membrane // inferred from electronic annotation', '0016021 // integral component of membrane // inferred from electronic annotation', '0016323 // basolateral plasma membrane // inferred from electronic annotation', '0070062 // extracellular vesicular exosome // inferred from direct assay\\t0046873 // metal ion transmembrane transporter activity // inferred from electronic annotation']\n",
      "Column 11: ['1552283_s_at\\tNM_024786\\t\\tHomo sapiens\\tOct 6, 2014\\tConsensus sequence\\tGenBank\\tgb:NM_024786.1 /DB_XREF=gi:13376149 /TID=Hs2.321609.1 /CNT=22 /FEA=FLmRNA /TIER=FL+Stack /STK=11 /LL=79844 /UG_GENE=ZDHHC11 /UG=Hs.321609 /UG_TITLE=zinc finger, DHHC domain containing 11 /DEF=Homo sapiens zinc finger, DHHC domain containing 11 (ZDHHC11), mRNA. /FL=gb:BC032000.1 gb:NM_024786.1\\tNM_024786\\tzinc finger, DHHC-type containing 11', 'zinc finger, DHHC-type containing 11B\\tZDHHC11', 'ZDHHC11B\\t79844', '653082\\tNM_024786', 'XM_003118532', 'XM_005248369', 'XM_005248370', 'XM_005248372', 'XM_006710165', 'XM_006714499', 'XM_006726417', 'XR_427665\\t0008152 // metabolic process // inferred from electronic annotation\\t0005783 // endoplasmic reticulum // inferred from direct assay', '0016020 // membrane // inferred from electronic annotation', '0016021 // integral component of membrane // inferred from electronic annotation\\t0008270 // zinc ion binding // inferred from electronic annotation', '0016740 // transferase activity // inferred from electronic annotation', '0016746 // transferase activity, transferring acyl groups // inferred from electronic annotation', '0019706 // protein-cysteine S-palmitoyltransferase activity // inferred from electronic annotation', '0046872 // metal ion binding // inferred from electronic annotation']\n",
      "Column 12: ['1552286_at\\tNM_080653\\t\\tHomo sapiens\\tOct 6, 2014\\tConsensus sequence\\tGenBank\\tgb:NM_080653.1 /DB_XREF=gi:18087814 /TID=Hs2.336620.1 /CNT=24 /FEA=FLmRNA /TIER=FL+Stack /STK=10 /LL=90423 /UG_GENE=ATP6V1E2 /UG=Hs.336620 /UG_TITLE=ATPase, H+ transporting, lysosomal 31kDa, V1 subunit E isoform 2 /DEF=Homo sapiens ATPase, H+ transporting, lysosomal 31kD, V1 subunit E-like 2 (ATP6V1EL2), mRNA. /FL=gb:BC008981.1 gb:BC034808.1 gb:NM_080653.1 gb:AB074759.1\\tNM_080653\\tATPase, H+ transporting, lysosomal 31kDa, V1 subunit E2\\tATP6V1E2\\t90423\\tNM_080653', 'XM_005264633', 'XM_005264634\\t0006810 // transport // inferred from electronic annotation', '0006811 // ion transport // inferred from electronic annotation', '0006879 // cellular iron ion homeostasis // traceable author statement', '0008286 // insulin receptor signaling pathway // traceable author statement', '0015991 // ATP hydrolysis coupled proton transport // inferred from electronic annotation', '0015992 // proton transport // inferred from electronic annotation', '0033572 // transferrin transport // traceable author statement', '0051701 // interaction with host // traceable author statement', '0055085 // transmembrane transport // traceable author statement', '0090382 // phagosome maturation // traceable author statement\\t0001669 // acrosomal vesicle // inferred from electronic annotation', '0005829 // cytosol // traceable author statement', '0033178 // proton-transporting two-sector ATPase complex, catalytic domain // inferred from electronic annotation\\t0008553 // hydrogen-exporting ATPase activity, phosphorylative mechanism // inferred from electronic annotation', '0046961 // proton-transporting ATPase activity, rotational mechanism // inferred from electronic annotation']\n",
      "Column 13: ['1552287_s_at\\tNM_001132\\t\\tHomo sapiens\\tOct 6, 2014\\tConsensus sequence\\tGenBank\\tgb:NM_001132.1 /DB_XREF=gi:27477067 /GEN=AFG3L1 /TID=Hs2.337620.1 /CNT=31 /FEA=FLmRNA /TIER=FL+Stack /STK=10 /LL=172 /UG=Hs.337620 /DEF=Homo sapiens AFG3 ATPase family gene 3-like 1 (yeast) (AFG3L1), mRNA. /PROD=AFG3 ATPase family gene 3-like 1 /FL=gb:NM_001132.1\\tNM_001132\\tAFG3-like AAA ATPase 1, pseudogene\\tAFG3L1P\\t172\\tNM_001031805', 'NM_001132', 'NR_003226', 'NR_003227', 'NR_003228\\t0006508 // proteolysis // inferred from electronic annotation\\t\\t0004222 // metalloendopeptidase activity // inferred from electronic annotation', '0005524 // ATP binding // inferred from electronic annotation', '0008233 // peptidase activity // inferred from electronic annotation', '0008237 // metallopeptidase activity // inferred from electronic annotation']\n",
      "Column 14: ['1552288_at\\tBC034926\\t\\tHomo sapiens\\tOct 6, 2014\\tConsensus sequence\\tGenBank\\tgb:BC034926.1 /DB_XREF=gi:22028437 /TID=Hs2.133898.1 /CNT=19 /FEA=FLmRNA /TIER=FL+Stack /STK=10 /LL=148113 /UG_GENE=CLIP-2 /UG=Hs.133898 /DEF=Homo sapiens, similar to cartilage intermediate layer protein, clone MGC:45771 IMAGE:4124496, mRNA, complete cds. /PROD=similar to cartilage intermediate layer protein /FL=gb:NM_153221.1 gb:BC034926.1 gb:AF542080.1\\tBC034926\\tcartilage intermediate layer protein 2\\tCILP2\\t148113\\tNM_153221\\t\\t0005576 // extracellular region // inferred from electronic annotation', '0005578 // proteinaceous extracellular matrix // inferred from electronic annotation', '0070062 // extracellular vesicular exosome // inferred from direct assay\\t0004035 // alkaline phosphatase activity // inferred from direct assay', '0004551 // nucleotide diphosphatase activity // inferred from direct assay', '0005515 // protein binding // inferred from electronic annotation', '0030246 // carbohydrate binding // inferred from electronic annotation']\n",
      "Column 15: ['1552289_a_at\\tBC034926\\t\\tHomo sapiens\\tOct 6, 2014\\tConsensus sequence\\tGenBank\\tgb:BC034926.1 /DB_XREF=gi:22028437 /TID=Hs2.133898.1 /CNT=19 /FEA=FLmRNA /TIER=FL+Stack /STK=10 /LL=148113 /UG_GENE=CLIP-2 /UG=Hs.133898 /DEF=Homo sapiens, similar to cartilage intermediate layer protein, clone MGC:45771 IMAGE:4124496, mRNA, complete cds. /PROD=similar to cartilage intermediate layer protein /FL=gb:NM_153221.1 gb:BC034926.1 gb:AF542080.1\\tBC034926\\tcartilage intermediate layer protein 2\\tCILP2\\t148113\\tNM_153221\\t\\t0005576 // extracellular region // inferred from electronic annotation', '0005578 // proteinaceous extracellular matrix // inferred from electronic annotation', '0070062 // extracellular vesicular exosome // inferred from direct assay\\t0004035 // alkaline phosphatase activity // inferred from direct assay', '0004551 // nucleotide diphosphatase activity // inferred from direct assay', '0005515 // protein binding // inferred from electronic annotation', '0030246 // carbohydrate binding // inferred from electronic annotation']\n",
      "Column 16: ['1552291_at\\tNM_017861\\t\\tHomo sapiens\\tOct 6, 2014\\tConsensus sequence\\tGenBank\\tgb:NM_017861.1 /DB_XREF=gi:23680884 /TID=Hs2.35406.1 /CNT=63 /FEA=FLmRNA /TIER=FL+Stack /STK=9 /LL=54965 /UG_GENE=FLJ20522 /UG=Hs.35406 /UG_TITLE=hypothetical protein FLJ20522 /DEF=Homo sapiens hypothetical protein FLJ20522 (FLJ20522), mRNA. /FL=gb:NM_017861.1 gb:BC022542.1\\tNM_017861\\tphosphatidylinositol glycan anchor biosynthesis, class X\\tPIGX\\t54965\\tNM_001166304', 'NM_017861\\t0006501 // C-terminal protein lipidation // traceable author statement', '0006506 // GPI anchor biosynthetic process // inferred from electronic annotation', '0016254 // preassembly of GPI anchor in ER membrane // traceable author statement', '0043687 // post-translational protein modification // traceable author statement', '0044267 // cellular protein metabolic process // traceable author statement\\t0005783 // endoplasmic reticulum // inferred from electronic annotation', '0005789 // endoplasmic reticulum membrane // traceable author statement', '0016020 // membrane // inferred from electronic annotation', '0016021 // integral component of membrane // inferred from electronic annotation']\n",
      "Column 17: ['1552293_at\\tNM_152774\\t\\tHomo sapiens\\tOct 6, 2014\\tConsensus sequence\\tGenBank\\tgb:NM_152774.1 /DB_XREF=gi:22749518 /TID=Hs2.319173.1 /CNT=14 /FEA=FLmRNA /TIER=FL+Stack /STK=9 /LL=256130 /UG_GENE=MGC42090 /UG=Hs.319173 /UG_TITLE=hypothetical protein MGC42090 /DEF=Homo sapiens hypothetical protein MGC42090 (MGC42090), mRNA. /FL=gb:BC030104.1 gb:NM_152774.1\\tNM_152774\\ttransmembrane protein 196\\tTMEM196\\t256130\\tNM_152774', 'XM_005249692\\t\\t0016020 // membrane // inferred from electronic annotation', '0016021 // integral component of membrane // inferred from electronic annotation']\n",
      "Column 18: ['1552295_a_at\\tNM_152264\\t\\tHomo sapiens\\tOct 6, 2014\\tConsensus sequence\\tGenBank\\tgb:NM_152264.1 /DB_XREF=gi:22748628 /TID=Hs2.9070.1 /CNT=16 /FEA=FLmRNA /TIER=FL+Stack /STK=9 /LL=91252 /UG_GENE=FLJ25785 /UG=Hs.9070 /UG_TITLE=hypothetical protein FLJ25785 /DEF=Homo sapiens hypothetical protein FLJ25785 (FLJ25785), mRNA. /FL=gb:NM_152264.1\\tNM_152264\\tsolute carrier family 39 (zinc transporter), member 13\\tSLC39A13\\t91252\\tNM_001128225', 'NM_152264', 'XM_005253221', 'XM_005253222', 'XM_006718381', 'XM_006718382', 'XM_006718383', 'XM_006718384', 'XM_006718385', 'XM_006718386', 'XR_242832', 'XR_428862', 'XR_428863\\t0006810 // transport // inferred from electronic annotation', '0006811 // ion transport // inferred from electronic annotation', '0006829 // zinc ion transport // inferred from electronic annotation', '0006882 // cellular zinc ion homeostasis // inferred from direct assay', '0006882 // cellular zinc ion homeostasis // inferred from sequence or structural similarity', '0030001 // metal ion transport // inferred from electronic annotation', '0055085 // transmembrane transport // inferred from electronic annotation', '0061448 // connective tissue development // inferred from mutant phenotype', '0071577 // zinc ion transmembrane transport // inferred from direct assay', '0071577 // zinc ion transmembrane transport // inferred from sequence or structural similarity\\t0000139 // Golgi membrane // inferred from electronic annotation', '0005794 // Golgi apparatus // inferred from direct assay', '0005794 // Golgi apparatus // inferred from sequence or structural similarity', '0016020 // membrane // inferred from electronic annotation', '0016021 // integral component of membrane // inferred from direct assay', '0030173 // integral component of Golgi membrane // inferred by curator', '0048471 // perinuclear region of cytoplasm // inferred from sequence or structural similarity\\t0005385 // zinc ion transmembrane transporter activity // inferred by curator', '0005385 // zinc ion transmembrane transporter activity // inferred from direct assay', '0042803 // protein homodimerization activity // inferred from physical interaction', '0046873 // metal ion transmembrane transporter activity // inferred from electronic annotation']\n",
      "Column 19: ['1552296_at\\tNM_153274\\t\\tHomo sapiens\\tOct 6, 2014\\tConsensus sequence\\tGenBank\\tgb:NM_153274.1 /DB_XREF=gi:23397575 /GEN=VMD2L2 /TID=Hs2.302513.1 /CNT=14 /FEA=FLmRNA /TIER=FL+Stack /STK=9 /LL=266675 /UG=Hs.302513 /DEF=Homo sapiens vitelliform macular dystrophy 2-like protein 2 (VMD2L2), mRNA. /PROD=vitelliform macular dystrophy 2-like protein 2 /FL=gb:NM_153274.1 gb:AF440757.1\\tNM_153274\\tbestrophin 4\\tBEST4\\t266675\\tNM_153274', 'XM_005270748\\t0006810 // transport // inferred from electronic annotation', '0006811 // ion transport // inferred from electronic annotation', '0006821 // chloride transport // inferred from electronic annotation', '1902476 // chloride transmembrane transport // inferred from electronic annotation\\t0005886 // plasma membrane // inferred from electronic annotation', '0016020 // membrane // inferred from electronic annotation', '0016021 // integral component of membrane // inferred from electronic annotation', '0034707 // chloride channel complex // inferred from electronic annotation\\t0005254 // chloride channel activity // inferred from electronic annotation']\n"
     ]
    }
   ],
   "source": [
    "for i, item in enumerate(parsed_data[:20]):\n",
    "    print(f\"Column {i}: {item}\")\n"
   ]
  },
  {
   "cell_type": "code",
   "execution_count": 17,
   "id": "7a8a60b7-9fa2-467c-a713-fccc026b508e",
   "metadata": {},
   "outputs": [
    {
     "name": "stdout",
     "output_type": "stream",
     "text": [
      "       Probe_ID Gene_Symbol\n",
      "0    1552269_at     SPATA17\n",
      "1    1552271_at       PRR22\n",
      "2  1552272_a_at       PRR22\n",
      "3    1552274_at         PXK\n",
      "4  1552275_s_at         PXK\n",
      "5  1552276_a_at       VPS18\n",
      "6  1552277_a_at     MSANTD3\n",
      "7  1552278_a_at     SLC46A1\n",
      "8  1552279_a_at     SLC46A1\n",
      "9    1552280_at       TIMD4\n"
     ]
    }
   ],
   "source": [
    "import pandas as pd\n",
    "\n",
    "cleaned_data = []\n",
    "\n",
    "for line in data_lines:\n",
    "    triple_split = [part.strip() for part in line.split('///')]\n",
    "    # Now split the first part further by tab\n",
    "    first_split = triple_split[0].split('\\t')\n",
    "    \n",
    "    # Assuming probe ID is first element and gene symbol in, say, 11th (adjust if needed)\n",
    "    probe_id = first_split[0]  # e.g., '1552269_at'\n",
    "    # For gene symbol, based on your data gene symbol may be index 10 or 11\n",
    "    # From your print, gene symbol looks like 10th or 11th element (0-based index)\n",
    "    try:\n",
    "        gene_symbol = first_split[10]  # adjust if needed\n",
    "    except IndexError:\n",
    "        gene_symbol = None\n",
    "\n",
    "    cleaned_data.append([probe_id, gene_symbol])\n",
    "\n",
    "df = pd.DataFrame(cleaned_data, columns=['Probe_ID', 'Gene_Symbol'])\n",
    "print(df.head(10))\n"
   ]
  },
  {
   "cell_type": "code",
   "execution_count": 18,
   "id": "708ea54e-6f95-4a28-97d8-64889e2789e7",
   "metadata": {},
   "outputs": [
    {
     "name": "stdout",
     "output_type": "stream",
     "text": [
      "          Gene     Probe_ID Gene_Symbol\n",
      "0  216248_s_at  216248_s_at       NR4A2\n",
      "1  208869_s_at  208869_s_at   GABARAPL1\n",
      "2  204622_x_at  204622_x_at       NR4A2\n",
      "3    244054_at    244054_at        None\n",
      "4  208868_s_at  208868_s_at   GABARAPL1\n"
     ]
    }
   ],
   "source": [
    "probe_list = pd.read_csv('top_de_genes.csv')\n",
    "\n",
    "# Merge probes with annotation to get gene symbols for your selected probes\n",
    "merged = pd.merge(probe_list, df, left_on='Gene', right_on='Probe_ID', how='left')\n",
    "print(merged.head())"
   ]
  },
  {
   "cell_type": "code",
   "execution_count": 19,
   "id": "48eda3dd-1f63-4bfe-994c-38ff22bfca84",
   "metadata": {},
   "outputs": [],
   "source": [
    "merged_clean = merged[merged['Gene_Symbol'].notna()]\n",
    "merged_clean['Gene_Symbol'].to_csv('clean_gene_symbols.txt', index=False, header=False)"
   ]
  },
  {
   "cell_type": "code",
   "execution_count": 21,
   "id": "5b459dc2-fabb-48af-94a4-3d44b5404e3d",
   "metadata": {},
   "outputs": [
    {
     "name": "stdout",
     "output_type": "stream",
     "text": [
      "NR4A2\n",
      "GABARAPL1\n",
      "NR4A2\n",
      "GABARAPL1\n",
      "NFIL3\n",
      "THBD\n",
      "NR4A2\n",
      "MAFB\n",
      "CLEC4E\n",
      "THBD\n"
     ]
    }
   ],
   "source": [
    "with open('clean_gene_symbols.txt') as f:\n",
    "    for _ in range(10):\n",
    "        print(next(f).strip())"
   ]
  },
  {
   "cell_type": "code",
   "execution_count": 23,
   "id": "50532379-7163-4465-8ed8-0fe15c27033c",
   "metadata": {},
   "outputs": [
    {
     "name": "stdout",
     "output_type": "stream",
     "text": [
      "Collecting gprofiler-official\n",
      "  Downloading gprofiler_official-1.0.0-py3-none-any.whl.metadata (11 kB)\n",
      "Requirement already satisfied: requests in c:\\users\\shrij\\miniconda3\\envs\\bioinfo_proj\\lib\\site-packages (from gprofiler-official) (2.32.5)\n",
      "Requirement already satisfied: charset_normalizer<4,>=2 in c:\\users\\shrij\\miniconda3\\envs\\bioinfo_proj\\lib\\site-packages (from requests->gprofiler-official) (3.3.2)\n",
      "Requirement already satisfied: idna<4,>=2.5 in c:\\users\\shrij\\miniconda3\\envs\\bioinfo_proj\\lib\\site-packages (from requests->gprofiler-official) (3.7)\n",
      "Requirement already satisfied: urllib3<3,>=1.21.1 in c:\\users\\shrij\\miniconda3\\envs\\bioinfo_proj\\lib\\site-packages (from requests->gprofiler-official) (2.5.0)\n",
      "Requirement already satisfied: certifi>=2017.4.17 in c:\\users\\shrij\\miniconda3\\envs\\bioinfo_proj\\lib\\site-packages (from requests->gprofiler-official) (2025.8.3)\n",
      "Downloading gprofiler_official-1.0.0-py3-none-any.whl (9.3 kB)\n",
      "Installing collected packages: gprofiler-official\n",
      "Successfully installed gprofiler-official-1.0.0\n"
     ]
    }
   ],
   "source": [
    "!pip install gprofiler-official"
   ]
  },
  {
   "cell_type": "code",
   "execution_count": 24,
   "id": "09c76784-f566-4b63-8fb0-d2fef1fba2bf",
   "metadata": {},
   "outputs": [
    {
     "name": "stdout",
     "output_type": "stream",
     "text": [
      "  source      native                                            name  \\\n",
      "0  GO:BP  GO:0009617                           response to bacterium   \n",
      "1  GO:BP  GO:0051239  regulation of multicellular organismal process   \n",
      "2  GO:BP  GO:0006955                                 immune response   \n",
      "3  GO:BP  GO:0042221                            response to chemical   \n",
      "4  GO:BP  GO:0006950                              response to stress   \n",
      "5  GO:BP  GO:0001775                                 cell activation   \n",
      "6  GO:BP  GO:0048518       positive regulation of biological process   \n",
      "7  GO:BP  GO:0045321                            leukocyte activation   \n",
      "8  GO:BP  GO:0001817               regulation of cytokine production   \n",
      "9  GO:BP  GO:0060326                                 cell chemotaxis   \n",
      "\n",
      "        p_value  significant  \\\n",
      "0  2.413068e-09         True   \n",
      "1  1.324711e-07         True   \n",
      "2  2.950101e-07         True   \n",
      "3  3.372732e-07         True   \n",
      "4  4.150108e-07         True   \n",
      "5  8.556582e-07         True   \n",
      "6  1.535913e-06         True   \n",
      "7  1.875991e-06         True   \n",
      "8  1.892048e-06         True   \n",
      "9  2.050061e-06         True   \n",
      "\n",
      "                                         description  term_size  query_size  \\\n",
      "0  \"Any process that results in a change in state...        728          33   \n",
      "1  \"Any process that modulates the frequency, rat...       2956          33   \n",
      "2  \"Any immune system process that functions in t...       2070          33   \n",
      "3  \"Any process that results in a change in state...       3909          33   \n",
      "4  \"Any process that results in a change in state...       3948          33   \n",
      "5  \"A multicellular organismal process by which e...       1132          33   \n",
      "6  \"Any process that activates or increases the f...       6264          33   \n",
      "7  \"A change in morphology and behavior of a leuk...        980          33   \n",
      "8  \"Any process that modulates the frequency, rat...        781          33   \n",
      "9  \"The directed movement of a motile cell guided...        323          33   \n",
      "\n",
      "   intersection_size  effective_domain_size  precision    recall    query  \\\n",
      "0                 14                  21026   0.424242  0.019231  query_1   \n",
      "1                 21                  21026   0.636364  0.007104  query_1   \n",
      "2                 18                  21026   0.545455  0.008696  query_1   \n",
      "3                 23                  21026   0.696970  0.005884  query_1   \n",
      "4                 23                  21026   0.696970  0.005826  query_1   \n",
      "5                 14                  21026   0.424242  0.012367  query_1   \n",
      "6                 27                  21026   0.818182  0.004310  query_1   \n",
      "7                 13                  21026   0.393939  0.013265  query_1   \n",
      "8                 12                  21026   0.363636  0.015365  query_1   \n",
      "9                  9                  21026   0.272727  0.027864  query_1   \n",
      "\n",
      "                                parents  \n",
      "0                          [GO:0051707]  \n",
      "1              [GO:0032501, GO:0050789]  \n",
      "2              [GO:0002376, GO:0050896]  \n",
      "3                          [GO:0050896]  \n",
      "4                          [GO:0050896]  \n",
      "5              [GO:0009987, GO:0032501]  \n",
      "6              [GO:0008150, GO:0050789]  \n",
      "7              [GO:0001775, GO:0002376]  \n",
      "8  [GO:0001816, GO:0010468, GO:0051239]  \n",
      "9  [GO:0006935, GO:0016477, GO:0070887]  \n"
     ]
    }
   ],
   "source": [
    "from gprofiler import GProfiler\n",
    "\n",
    "gp = GProfiler(return_dataframe=True)\n",
    "\n",
    "genes = []\n",
    "with open('clean_gene_symbols.txt') as f:\n",
    "    genes = [line.strip() for line in f if line.strip()]\n",
    "\n",
    "results = gp.profile(organism='hsapiens', query=genes)\n",
    "print(results.head(10))"
   ]
  },
  {
   "cell_type": "code",
   "execution_count": 25,
   "id": "a7ae445c-e281-4938-929f-589990e397a5",
   "metadata": {},
   "outputs": [],
   "source": [
    "results.to_csv('enrichment_results.csv', index=False)"
   ]
  },
  {
   "cell_type": "code",
   "execution_count": 29,
   "id": "229ea25d-35d3-408c-a191-96c7899e952c",
   "metadata": {},
   "outputs": [
    {
     "data": {
      "image/png": "[encoded data removed]",
      "text/plain": [
       "<Figure size 640x480 with 1 Axes>"
      ]
     },
     "metadata": {},
     "output_type": "display_data"
    }
   ],
   "source": [
    "import pandas as pd\n",
    "import matplotlib.pyplot as plt\n",
    "\n",
    "results = pd.read_csv('enrichment_results.csv')\n",
    "top_terms = results[results['significant']].nsmallest(10, 'p_value')\n",
    "\n",
    "plt.barh(top_terms['name'], top_terms['p_value'])\n",
    "plt.xlabel('p-value')\n",
    "plt.title('Top 10 Enriched Biological Pathways')\n",
    "plt.gca().invert_yaxis()\n",
    "plt.tight_layout()\n",
    "plt.savefig('C:/Users/shrij/OneDrive/Desktop/GSE66360-GeneExpression-Analysis/results/top10EnrichedPathways.png')\n",
    "plt.show()"
   ]
  },
  {
   "cell_type": "code",
   "execution_count": null,
   "id": "6a467841-5f3c-4b42-9720-0c108d165d05",
   "metadata": {},
   "outputs": [],
   "source": []
  }
 ],
 "metadata": {
  "kernelspec": {
   "display_name": "Python 3 (ipykernel)",
   "language": "python",
   "name": "python3"
  },
  "language_info": {
   "codemirror_mode": {
    "name": "ipython",
    "version": 3
   },
   "file_extension": ".py",
   "mimetype": "text/x-python",
   "name": "python",
   "nbconvert_exporter": "python",
   "pygments_lexer": "ipython3",
   "version": "3.13.7"
  }
 },
 "nbformat": 4,
 "nbformat_minor": 5
}
